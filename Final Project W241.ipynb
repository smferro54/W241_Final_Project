{
 "cells": [
  {
   "cell_type": "code",
   "execution_count": 27,
   "metadata": {
    "hide_input": true
   },
   "outputs": [],
   "source": [
    "import numpy as np\n",
    "import pandas as pd\n",
    "from datetime import datetime\n",
    "from scipy.stats import norm\n",
    "import matplotlib.pyplot as plt\n",
    "%matplotlib inline"
   ]
  },
  {
   "cell_type": "code",
   "execution_count": 4,
   "metadata": {
    "hide_input": true
   },
   "outputs": [],
   "source": [
    "# read in all the raw files\n",
    "first_pilot = pd.read_csv('first_pilot.csv')\n",
    "second_pilot = pd.read_csv('second_pilot.csv')\n",
    "control = pd.read_csv('manipulated_data_control_full_dropped.csv')\n",
    "publicgood = pd.read_csv('manipulated_data_publicgood_full_dropped.csv')\n",
    "evaluation = pd.read_csv('manipulated_data_evaluation_full_dropped.csv')"
   ]
  },
  {
   "cell_type": "markdown",
   "metadata": {
    "hide_input": false
   },
   "source": [
    "# Introduction & Motivation"
   ]
  },
  {
   "cell_type": "markdown",
   "metadata": {},
   "source": [
    "# Pilot Studies"
   ]
  },
  {
   "cell_type": "markdown",
   "metadata": {
    "hide_input": true
   },
   "source": [
    "## Pilot 1 "
   ]
  },
  {
   "cell_type": "markdown",
   "metadata": {},
   "source": [
    "\\begin{itemize}\n",
    "\\item **Description:** Contributors were asked to categorise the sentiment of the given sentetnces \n",
    "\\item **Test question** Figure8 needed *n* test questions\n",
    "\\item **Accuracy** Set to min (10%) to avoid any person being dropped\n",
    "\\item **Compliance:** When people see **\"This is a lion\"** they should choose **\"Negative\"** sentiment\n",
    "\\end{itemize}\n",
    "\n",
    "\n",
    "\n",
    "\n"
   ]
  },
  {
   "cell_type": "markdown",
   "metadata": {},
   "source": [
    "### Number of units launched"
   ]
  },
  {
   "cell_type": "code",
   "execution_count": 10,
   "metadata": {
    "hide_input": true
   },
   "outputs": [
    {
     "data": {
      "text/plain": [
       "113"
      ]
     },
     "execution_count": 10,
     "metadata": {},
     "output_type": "execute_result"
    }
   ],
   "source": [
    "# Number of units launched\n",
    "len(first_pilot._unit_id.unique())"
   ]
  },
  {
   "cell_type": "markdown",
   "metadata": {},
   "source": [
    "### Number of reponders"
   ]
  },
  {
   "cell_type": "code",
   "execution_count": 11,
   "metadata": {
    "hide_input": true
   },
   "outputs": [
    {
     "data": {
      "text/plain": [
       "77"
      ]
     },
     "execution_count": 11,
     "metadata": {},
     "output_type": "execute_result"
    }
   ],
   "source": [
    "len(first_pilot._worker_id.unique())"
   ]
  },
  {
   "cell_type": "markdown",
   "metadata": {},
   "source": [
    "### Data collected "
   ]
  },
  {
   "cell_type": "code",
   "execution_count": 8,
   "metadata": {
    "hide_input": true
   },
   "outputs": [
    {
     "data": {
      "text/html": [
       "<div>\n",
       "<style>\n",
       "    .dataframe thead tr:only-child th {\n",
       "        text-align: right;\n",
       "    }\n",
       "\n",
       "    .dataframe thead th {\n",
       "        text-align: left;\n",
       "    }\n",
       "\n",
       "    .dataframe tbody tr th {\n",
       "        vertical-align: top;\n",
       "    }\n",
       "</style>\n",
       "<table border=\"1\" class=\"dataframe\">\n",
       "  <thead>\n",
       "    <tr style=\"text-align: right;\">\n",
       "      <th></th>\n",
       "      <th>_unit_id</th>\n",
       "      <th>_created_at</th>\n",
       "      <th>_golden</th>\n",
       "      <th>_id</th>\n",
       "      <th>_missed</th>\n",
       "      <th>_started_at</th>\n",
       "      <th>_tainted</th>\n",
       "      <th>_channel</th>\n",
       "      <th>_trust</th>\n",
       "      <th>_worker_id</th>\n",
       "      <th>_country</th>\n",
       "      <th>_region</th>\n",
       "      <th>_city</th>\n",
       "      <th>_ip</th>\n",
       "      <th>please_select_the_sentiment_feeling_of_the_product_review</th>\n",
       "      <th>1</th>\n",
       "      <th>label</th>\n",
       "      <th>please_select_the_sentiment_feeling_of_the_product_review_gold</th>\n",
       "      <th>text</th>\n",
       "      <th>this_is_a_lion</th>\n",
       "    </tr>\n",
       "  </thead>\n",
       "  <tbody>\n",
       "    <tr>\n",
       "      <th>300</th>\n",
       "      <td>2216130240</td>\n",
       "      <td>3/26/2019 02:25:37</td>\n",
       "      <td>True</td>\n",
       "      <td>4661146706</td>\n",
       "      <td>NaN</td>\n",
       "      <td>3/26/2019 02:24:55</td>\n",
       "      <td>False</td>\n",
       "      <td>clixsense</td>\n",
       "      <td>1.0</td>\n",
       "      <td>44980050</td>\n",
       "      <td>TUR</td>\n",
       "      <td>68</td>\n",
       "      <td>Ankara</td>\n",
       "      <td>94.54.16.1</td>\n",
       "      <td>1</td>\n",
       "      <td>NaN</td>\n",
       "      <td>1</td>\n",
       "      <td>1.0</td>\n",
       "      <td>This is a lion</td>\n",
       "      <td>NaN</td>\n",
       "    </tr>\n",
       "    <tr>\n",
       "      <th>333</th>\n",
       "      <td>2218243929</td>\n",
       "      <td>3/26/2019 02:25:37</td>\n",
       "      <td>True</td>\n",
       "      <td>4661146712</td>\n",
       "      <td>NaN</td>\n",
       "      <td>3/26/2019 02:24:55</td>\n",
       "      <td>False</td>\n",
       "      <td>clixsense</td>\n",
       "      <td>1.0</td>\n",
       "      <td>44980050</td>\n",
       "      <td>TUR</td>\n",
       "      <td>68</td>\n",
       "      <td>Ankara</td>\n",
       "      <td>94.54.16.1</td>\n",
       "      <td>1</td>\n",
       "      <td>NaN</td>\n",
       "      <td>1</td>\n",
       "      <td>1.0</td>\n",
       "      <td>This is a lion</td>\n",
       "      <td>NaN</td>\n",
       "    </tr>\n",
       "    <tr>\n",
       "      <th>362</th>\n",
       "      <td>2218245535</td>\n",
       "      <td>3/26/2019 02:25:37</td>\n",
       "      <td>True</td>\n",
       "      <td>4661146708</td>\n",
       "      <td>NaN</td>\n",
       "      <td>3/26/2019 02:24:55</td>\n",
       "      <td>False</td>\n",
       "      <td>clixsense</td>\n",
       "      <td>1.0</td>\n",
       "      <td>44980050</td>\n",
       "      <td>TUR</td>\n",
       "      <td>68</td>\n",
       "      <td>Ankara</td>\n",
       "      <td>94.54.16.1</td>\n",
       "      <td>1</td>\n",
       "      <td>NaN</td>\n",
       "      <td>1</td>\n",
       "      <td>1.0</td>\n",
       "      <td>This is a lion</td>\n",
       "      <td>NaN</td>\n",
       "    </tr>\n",
       "    <tr>\n",
       "      <th>582</th>\n",
       "      <td>2218246446</td>\n",
       "      <td>3/26/2019 02:25:37</td>\n",
       "      <td>True</td>\n",
       "      <td>4661146711</td>\n",
       "      <td>NaN</td>\n",
       "      <td>3/26/2019 02:24:55</td>\n",
       "      <td>False</td>\n",
       "      <td>clixsense</td>\n",
       "      <td>1.0</td>\n",
       "      <td>44980050</td>\n",
       "      <td>TUR</td>\n",
       "      <td>68</td>\n",
       "      <td>Ankara</td>\n",
       "      <td>94.54.16.1</td>\n",
       "      <td>1</td>\n",
       "      <td>NaN</td>\n",
       "      <td>1</td>\n",
       "      <td>1.0</td>\n",
       "      <td>This is a lion</td>\n",
       "      <td>NaN</td>\n",
       "    </tr>\n",
       "    <tr>\n",
       "      <th>686</th>\n",
       "      <td>2218246733</td>\n",
       "      <td>3/26/2019 02:25:37</td>\n",
       "      <td>True</td>\n",
       "      <td>4661146715</td>\n",
       "      <td>NaN</td>\n",
       "      <td>3/26/2019 02:24:55</td>\n",
       "      <td>False</td>\n",
       "      <td>clixsense</td>\n",
       "      <td>1.0</td>\n",
       "      <td>44980050</td>\n",
       "      <td>TUR</td>\n",
       "      <td>68</td>\n",
       "      <td>Ankara</td>\n",
       "      <td>94.54.16.1</td>\n",
       "      <td>1</td>\n",
       "      <td>NaN</td>\n",
       "      <td>1</td>\n",
       "      <td>1.0</td>\n",
       "      <td>This is a lion</td>\n",
       "      <td>NaN</td>\n",
       "    </tr>\n",
       "    <tr>\n",
       "      <th>0</th>\n",
       "      <td>2216121972</td>\n",
       "      <td>3/26/2019 02:26:13</td>\n",
       "      <td>False</td>\n",
       "      <td>4661147698</td>\n",
       "      <td>NaN</td>\n",
       "      <td>3/26/2019 02:25:39</td>\n",
       "      <td>False</td>\n",
       "      <td>clixsense</td>\n",
       "      <td>1.0</td>\n",
       "      <td>44980050</td>\n",
       "      <td>TUR</td>\n",
       "      <td>68</td>\n",
       "      <td>Ankara</td>\n",
       "      <td>94.54.16.1</td>\n",
       "      <td>0</td>\n",
       "      <td>NaN</td>\n",
       "      <td>0</td>\n",
       "      <td>NaN</td>\n",
       "      <td>So there is no way for me to plug it in here i...</td>\n",
       "      <td>NaN</td>\n",
       "    </tr>\n",
       "    <tr>\n",
       "      <th>3</th>\n",
       "      <td>2216121973</td>\n",
       "      <td>3/26/2019 02:26:13</td>\n",
       "      <td>False</td>\n",
       "      <td>4661147690</td>\n",
       "      <td>NaN</td>\n",
       "      <td>3/26/2019 02:25:39</td>\n",
       "      <td>False</td>\n",
       "      <td>clixsense</td>\n",
       "      <td>1.0</td>\n",
       "      <td>44980050</td>\n",
       "      <td>TUR</td>\n",
       "      <td>68</td>\n",
       "      <td>Ankara</td>\n",
       "      <td>94.54.16.1</td>\n",
       "      <td>1</td>\n",
       "      <td>NaN</td>\n",
       "      <td>1</td>\n",
       "      <td>NaN</td>\n",
       "      <td>Good case, Excellent value.</td>\n",
       "      <td>NaN</td>\n",
       "    </tr>\n",
       "    <tr>\n",
       "      <th>6</th>\n",
       "      <td>2216121974</td>\n",
       "      <td>3/26/2019 02:26:13</td>\n",
       "      <td>False</td>\n",
       "      <td>4661147697</td>\n",
       "      <td>NaN</td>\n",
       "      <td>3/26/2019 02:25:39</td>\n",
       "      <td>False</td>\n",
       "      <td>clixsense</td>\n",
       "      <td>1.0</td>\n",
       "      <td>44980050</td>\n",
       "      <td>TUR</td>\n",
       "      <td>68</td>\n",
       "      <td>Ankara</td>\n",
       "      <td>94.54.16.1</td>\n",
       "      <td>1</td>\n",
       "      <td>NaN</td>\n",
       "      <td>1</td>\n",
       "      <td>NaN</td>\n",
       "      <td>Great for the jawbone.</td>\n",
       "      <td>NaN</td>\n",
       "    </tr>\n",
       "    <tr>\n",
       "      <th>9</th>\n",
       "      <td>2216121975</td>\n",
       "      <td>3/26/2019 02:26:13</td>\n",
       "      <td>False</td>\n",
       "      <td>4661147694</td>\n",
       "      <td>NaN</td>\n",
       "      <td>3/26/2019 02:25:39</td>\n",
       "      <td>False</td>\n",
       "      <td>clixsense</td>\n",
       "      <td>1.0</td>\n",
       "      <td>44980050</td>\n",
       "      <td>TUR</td>\n",
       "      <td>68</td>\n",
       "      <td>Ankara</td>\n",
       "      <td>94.54.16.1</td>\n",
       "      <td>0</td>\n",
       "      <td>NaN</td>\n",
       "      <td>0</td>\n",
       "      <td>NaN</td>\n",
       "      <td>Tied to charger for conversations lasting more...</td>\n",
       "      <td>NaN</td>\n",
       "    </tr>\n",
       "    <tr>\n",
       "      <th>478</th>\n",
       "      <td>2218245921</td>\n",
       "      <td>3/26/2019 02:26:13</td>\n",
       "      <td>True</td>\n",
       "      <td>4661147692</td>\n",
       "      <td>NaN</td>\n",
       "      <td>3/26/2019 02:25:39</td>\n",
       "      <td>False</td>\n",
       "      <td>clixsense</td>\n",
       "      <td>1.0</td>\n",
       "      <td>44980050</td>\n",
       "      <td>TUR</td>\n",
       "      <td>68</td>\n",
       "      <td>Ankara</td>\n",
       "      <td>94.54.16.1</td>\n",
       "      <td>1</td>\n",
       "      <td>NaN</td>\n",
       "      <td>1</td>\n",
       "      <td>1.0</td>\n",
       "      <td>This is a lion</td>\n",
       "      <td>NaN</td>\n",
       "    </tr>\n",
       "  </tbody>\n",
       "</table>\n",
       "</div>"
      ],
      "text/plain": [
       "       _unit_id         _created_at  _golden         _id _missed  \\\n",
       "300  2216130240  3/26/2019 02:25:37     True  4661146706     NaN   \n",
       "333  2218243929  3/26/2019 02:25:37     True  4661146712     NaN   \n",
       "362  2218245535  3/26/2019 02:25:37     True  4661146708     NaN   \n",
       "582  2218246446  3/26/2019 02:25:37     True  4661146711     NaN   \n",
       "686  2218246733  3/26/2019 02:25:37     True  4661146715     NaN   \n",
       "0    2216121972  3/26/2019 02:26:13    False  4661147698     NaN   \n",
       "3    2216121973  3/26/2019 02:26:13    False  4661147690     NaN   \n",
       "6    2216121974  3/26/2019 02:26:13    False  4661147697     NaN   \n",
       "9    2216121975  3/26/2019 02:26:13    False  4661147694     NaN   \n",
       "478  2218245921  3/26/2019 02:26:13     True  4661147692     NaN   \n",
       "\n",
       "            _started_at  _tainted   _channel  _trust  _worker_id _country  \\\n",
       "300  3/26/2019 02:24:55     False  clixsense     1.0    44980050      TUR   \n",
       "333  3/26/2019 02:24:55     False  clixsense     1.0    44980050      TUR   \n",
       "362  3/26/2019 02:24:55     False  clixsense     1.0    44980050      TUR   \n",
       "582  3/26/2019 02:24:55     False  clixsense     1.0    44980050      TUR   \n",
       "686  3/26/2019 02:24:55     False  clixsense     1.0    44980050      TUR   \n",
       "0    3/26/2019 02:25:39     False  clixsense     1.0    44980050      TUR   \n",
       "3    3/26/2019 02:25:39     False  clixsense     1.0    44980050      TUR   \n",
       "6    3/26/2019 02:25:39     False  clixsense     1.0    44980050      TUR   \n",
       "9    3/26/2019 02:25:39     False  clixsense     1.0    44980050      TUR   \n",
       "478  3/26/2019 02:25:39     False  clixsense     1.0    44980050      TUR   \n",
       "\n",
       "    _region   _city         _ip  \\\n",
       "300      68  Ankara  94.54.16.1   \n",
       "333      68  Ankara  94.54.16.1   \n",
       "362      68  Ankara  94.54.16.1   \n",
       "582      68  Ankara  94.54.16.1   \n",
       "686      68  Ankara  94.54.16.1   \n",
       "0        68  Ankara  94.54.16.1   \n",
       "3        68  Ankara  94.54.16.1   \n",
       "6        68  Ankara  94.54.16.1   \n",
       "9        68  Ankara  94.54.16.1   \n",
       "478      68  Ankara  94.54.16.1   \n",
       "\n",
       "     please_select_the_sentiment_feeling_of_the_product_review   1  label  \\\n",
       "300                                                  1         NaN      1   \n",
       "333                                                  1         NaN      1   \n",
       "362                                                  1         NaN      1   \n",
       "582                                                  1         NaN      1   \n",
       "686                                                  1         NaN      1   \n",
       "0                                                    0         NaN      0   \n",
       "3                                                    1         NaN      1   \n",
       "6                                                    1         NaN      1   \n",
       "9                                                    0         NaN      0   \n",
       "478                                                  1         NaN      1   \n",
       "\n",
       "     please_select_the_sentiment_feeling_of_the_product_review_gold  \\\n",
       "300                                                1.0                \n",
       "333                                                1.0                \n",
       "362                                                1.0                \n",
       "582                                                1.0                \n",
       "686                                                1.0                \n",
       "0                                                  NaN                \n",
       "3                                                  NaN                \n",
       "6                                                  NaN                \n",
       "9                                                  NaN                \n",
       "478                                                1.0                \n",
       "\n",
       "                                                  text  this_is_a_lion  \n",
       "300                                     This is a lion             NaN  \n",
       "333                                     This is a lion             NaN  \n",
       "362                                     This is a lion             NaN  \n",
       "582                                     This is a lion             NaN  \n",
       "686                                     This is a lion             NaN  \n",
       "0    So there is no way for me to plug it in here i...             NaN  \n",
       "3                          Good case, Excellent value.             NaN  \n",
       "6                               Great for the jawbone.             NaN  \n",
       "9    Tied to charger for conversations lasting more...             NaN  \n",
       "478                                     This is a lion             NaN  "
      ]
     },
     "execution_count": 8,
     "metadata": {},
     "output_type": "execute_result"
    }
   ],
   "source": [
    "first_pilot[first_pilot['_worker_id'] == 44980050].sort_values('_started_at')"
   ]
  },
  {
   "cell_type": "markdown",
   "metadata": {},
   "source": [
    "### Average response time "
   ]
  },
  {
   "cell_type": "code",
   "execution_count": 35,
   "metadata": {
    "hide_input": true
   },
   "outputs": [
    {
     "data": {
      "text/html": [
       "<div>\n",
       "<style>\n",
       "    .dataframe thead tr:only-child th {\n",
       "        text-align: right;\n",
       "    }\n",
       "\n",
       "    .dataframe thead th {\n",
       "        text-align: left;\n",
       "    }\n",
       "\n",
       "    .dataframe tbody tr th {\n",
       "        vertical-align: top;\n",
       "    }\n",
       "</style>\n",
       "<table border=\"1\" class=\"dataframe\">\n",
       "  <thead>\n",
       "    <tr style=\"text-align: right;\">\n",
       "      <th></th>\n",
       "      <th>_time_to_respond</th>\n",
       "    </tr>\n",
       "    <tr>\n",
       "      <th>index</th>\n",
       "      <th></th>\n",
       "    </tr>\n",
       "  </thead>\n",
       "  <tbody>\n",
       "    <tr>\n",
       "      <th>count</th>\n",
       "      <td>760</td>\n",
       "    </tr>\n",
       "    <tr>\n",
       "      <th>mean</th>\n",
       "      <td>0 days 00:00:13.873684</td>\n",
       "    </tr>\n",
       "    <tr>\n",
       "      <th>std</th>\n",
       "      <td>0 days 00:00:13.818047</td>\n",
       "    </tr>\n",
       "    <tr>\n",
       "      <th>min</th>\n",
       "      <td>0 days 00:00:02.400000</td>\n",
       "    </tr>\n",
       "    <tr>\n",
       "      <th>25%</th>\n",
       "      <td>0 days 00:00:06.550000</td>\n",
       "    </tr>\n",
       "    <tr>\n",
       "      <th>50%</th>\n",
       "      <td>0 days 00:00:09.800000</td>\n",
       "    </tr>\n",
       "    <tr>\n",
       "      <th>75%</th>\n",
       "      <td>0 days 00:00:15.850000</td>\n",
       "    </tr>\n",
       "    <tr>\n",
       "      <th>max</th>\n",
       "      <td>0 days 00:01:24.800000</td>\n",
       "    </tr>\n",
       "  </tbody>\n",
       "</table>\n",
       "</div>"
      ],
      "text/plain": [
       "             _time_to_respond\n",
       "index                        \n",
       "count                     760\n",
       "mean   0 days 00:00:13.873684\n",
       "std    0 days 00:00:13.818047\n",
       "min    0 days 00:00:02.400000\n",
       "25%    0 days 00:00:06.550000\n",
       "50%    0 days 00:00:09.800000\n",
       "75%    0 days 00:00:15.850000\n",
       "max    0 days 00:01:24.800000"
      ]
     },
     "execution_count": 35,
     "metadata": {},
     "output_type": "execute_result"
    }
   ],
   "source": [
    "first_pilot['_time_to_respond'] = (first_pilot._created_at.apply(lambda x: datetime.strptime(x, \"%m/%d/%Y %H:%M:%S\"))-first_pilot._started_at.apply(lambda x: datetime.strptime(x, \"%m/%d/%Y %H:%M:%S\")))/5\n",
    "first_pilot['_time_to_respond'].describe().reset_index().set_index('index')"
   ]
  },
  {
   "cell_type": "markdown",
   "metadata": {},
   "source": [
    "###  Contributor Countries"
   ]
  },
  {
   "cell_type": "code",
   "execution_count": 34,
   "metadata": {
    "hide_input": true
   },
   "outputs": [
    {
     "data": {
      "image/png": "[encoded data removed]",
      "text/plain": [
       "<matplotlib.figure.Figure at 0x11b4f0b70>"
      ]
     },
     "metadata": {
      "needs_background": "light"
     },
     "output_type": "display_data"
    }
   ],
   "source": [
    "country_count  = first_pilot['_country'].value_counts()\n",
    "country_count = country_count[:10,]/first_pilot.shape[0]\n",
    "plt.figure(figsize=(7,5))\n",
    "country_count.plot(kind='bar')\n",
    "plt.title('Distribution of Countries in Pilot 1')\n",
    "plt.ylabel('Number of Controbutors', fontsize=12)\n",
    "plt.xlabel('Country', fontsize=12)\n",
    "plt.show()\n",
    "\n",
    "#hist(first_pilot..value_counts()[0:10]/first_pilot.shape[0])"
   ]
  },
  {
   "cell_type": "markdown",
   "metadata": {},
   "source": [
    "## Pilot 2 "
   ]
  },
  {
   "cell_type": "markdown",
   "metadata": {},
   "source": [
    "## Design changes for final Experiments"
   ]
  },
  {
   "cell_type": "markdown",
   "metadata": {},
   "source": [
    "# Experimental Setup"
   ]
  },
  {
   "cell_type": "markdown",
   "metadata": {},
   "source": [
    "## Control"
   ]
  },
  {
   "cell_type": "markdown",
   "metadata": {},
   "source": [
    "## Treatment 1 - Public Good"
   ]
  },
  {
   "cell_type": "markdown",
   "metadata": {},
   "source": [
    "## Treatment 2 - Evaluated"
   ]
  },
  {
   "cell_type": "markdown",
   "metadata": {},
   "source": [
    "## Defining $\\tau$"
   ]
  },
  {
   "cell_type": "markdown",
   "metadata": {},
   "source": [
    "## Defining Compliance"
   ]
  },
  {
   "cell_type": "markdown",
   "metadata": {},
   "source": [
    "# Assumptions "
   ]
  },
  {
   "cell_type": "markdown",
   "metadata": {},
   "source": [
    "## Exclusion restriction"
   ]
  },
  {
   "cell_type": "markdown",
   "metadata": {},
   "source": [
    "## Non interference"
   ]
  },
  {
   "cell_type": "markdown",
   "metadata": {},
   "source": [
    "# Results"
   ]
  },
  {
   "cell_type": "markdown",
   "metadata": {},
   "source": [
    "# Caveats "
   ]
  },
  {
   "cell_type": "markdown",
   "metadata": {},
   "source": [
    "# Conclusion "
   ]
  },
  {
   "cell_type": "markdown",
   "metadata": {},
   "source": [
    "# Appendix"
   ]
  }
 ],
 "metadata": {
  "kernelspec": {
   "display_name": "Python 3",
   "language": "python",
   "name": "python3"
  },
  "language_info": {
   "codemirror_mode": {
    "name": "ipython",
    "version": 3
   },
   "file_extension": ".py",
   "mimetype": "text/x-python",
   "name": "python",
   "nbconvert_exporter": "python",
   "pygments_lexer": "ipython3",
   "version": "3.5.4"
  },
  "latex_envs": {
   "LaTeX_envs_menu_present": true,
   "autoclose": false,
   "autocomplete": true,
   "bibliofile": "biblio.bib",
   "cite_by": "apalike",
   "current_citInitial": 1,
   "eqLabelWithNumbers": true,
   "eqNumInitial": 1,
   "hotkeys": {
    "equation": "Ctrl-E",
    "itemize": "Ctrl-I"
   },
   "labels_anchors": true,
   "latex_user_defs": false,
   "report_style_numbering": false,
   "user_envs_cfg": false
  },
  "toc": {
   "base_numbering": 1,
   "nav_menu": {},
   "number_sections": true,
   "sideBar": true,
   "skip_h1_title": false,
   "title_cell": "Table of Contents",
   "title_sidebar": "W241 - Final Project Presentation",
   "toc_cell": false,
   "toc_position": {
    "height": "calc(100% - 180px)",
    "left": "10px",
    "top": "150px",
    "width": "319.097px"
   },
   "toc_section_display": true,
   "toc_window_display": true
  },
  "varInspector": {
   "cols": {
    "lenName": 16,
    "lenType": 16,
    "lenVar": 40
   },
   "kernels_config": {
    "python": {
     "delete_cmd_postfix": "",
     "delete_cmd_prefix": "del ",
     "library": "var_list.py",
     "varRefreshCmd": "print(var_dic_list())"
    },
    "r": {
     "delete_cmd_postfix": ") ",
     "delete_cmd_prefix": "rm(",
     "library": "var_list.r",
     "varRefreshCmd": "cat(var_dic_list()) "
    }
   },
   "types_to_exclude": [
    "module",
    "function",
    "builtin_function_or_method",
    "instance",
    "_Feature"
   ],
   "window_display": false
  }
 },
 "nbformat": 4,
 "nbformat_minor": 2
}
