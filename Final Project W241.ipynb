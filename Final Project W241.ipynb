{
 "cells": [
  {
   "cell_type": "markdown",
   "metadata": {
    "toc": true
   },
   "source": [
    "<h1>Table of Contents<span class=\"tocSkip\"></span></h1>\n",
    "<div class=\"toc\"><ul class=\"toc-item\"><li><span><a href=\"#Introduction-&amp;-Motivation\" data-toc-modified-id=\"Introduction-&amp;-Motivation-1\"><span class=\"toc-item-num\">1&nbsp;&nbsp;</span>Introduction &amp; Motivation</a></span></li><li><span><a href=\"#Pilot-Studies\" data-toc-modified-id=\"Pilot-Studies-2\"><span class=\"toc-item-num\">2&nbsp;&nbsp;</span>Pilot Studies</a></span><ul class=\"toc-item\"><li><span><a href=\"#Pilot-1\" data-toc-modified-id=\"Pilot-1-2.1\"><span class=\"toc-item-num\">2.1&nbsp;&nbsp;</span>Pilot 1</a></span><ul class=\"toc-item\"><li><span><a href=\"#Data-collected\" data-toc-modified-id=\"Data-collected-2.1.1\"><span class=\"toc-item-num\">2.1.1&nbsp;&nbsp;</span>Data collected</a></span></li><li><span><a href=\"#Average-response-time\" data-toc-modified-id=\"Average-response-time-2.1.2\"><span class=\"toc-item-num\">2.1.2&nbsp;&nbsp;</span>Average response time</a></span></li><li><span><a href=\"#Contributor-Countries\" data-toc-modified-id=\"Contributor-Countries-2.1.3\"><span class=\"toc-item-num\">2.1.3&nbsp;&nbsp;</span>Contributor Countries</a></span></li><li><span><a href=\"#Trust-distribution-of-the-contributors\" data-toc-modified-id=\"Trust-distribution-of-the-contributors-2.1.4\"><span class=\"toc-item-num\">2.1.4&nbsp;&nbsp;</span>Trust distribution of the contributors</a></span></li><li><span><a href=\"#Scores\" data-toc-modified-id=\"Scores-2.1.5\"><span class=\"toc-item-num\">2.1.5&nbsp;&nbsp;</span>Scores</a></span></li><li><span><a href=\"#Lessons-learnt\" data-toc-modified-id=\"Lessons-learnt-2.1.6\"><span class=\"toc-item-num\">2.1.6&nbsp;&nbsp;</span>Lessons learnt</a></span></li></ul></li><li><span><a href=\"#Pilot-2\" data-toc-modified-id=\"Pilot-2-2.2\"><span class=\"toc-item-num\">2.2&nbsp;&nbsp;</span>Pilot 2</a></span><ul class=\"toc-item\"><li><span><a href=\"#Data-Collected\" data-toc-modified-id=\"Data-Collected-2.2.1\"><span class=\"toc-item-num\">2.2.1&nbsp;&nbsp;</span>Data Collected</a></span></li><li><span><a href=\"#Average-response-time\" data-toc-modified-id=\"Average-response-time-2.2.2\"><span class=\"toc-item-num\">2.2.2&nbsp;&nbsp;</span>Average response time</a></span></li><li><span><a href=\"#Contributor-countries\" data-toc-modified-id=\"Contributor-countries-2.2.3\"><span class=\"toc-item-num\">2.2.3&nbsp;&nbsp;</span>Contributor countries</a></span></li><li><span><a href=\"#Trust-distribution-of-the-contributors\" data-toc-modified-id=\"Trust-distribution-of-the-contributors-2.2.4\"><span class=\"toc-item-num\">2.2.4&nbsp;&nbsp;</span>Trust distribution of the contributors</a></span></li><li><span><a href=\"#Scores\" data-toc-modified-id=\"Scores-2.2.5\"><span class=\"toc-item-num\">2.2.5&nbsp;&nbsp;</span>Scores</a></span></li></ul></li><li><span><a href=\"#Pilot-1-vs-Pilot-2\" data-toc-modified-id=\"Pilot-1-vs-Pilot-2-2.3\"><span class=\"toc-item-num\">2.3&nbsp;&nbsp;</span>Pilot 1 vs Pilot 2</a></span><ul class=\"toc-item\"><li><span><a href=\"#Agreement-among-responders---helps-us-see-the-pilot-2-questions-were-indeed-harder-than-pilot-1\" data-toc-modified-id=\"Agreement-among-responders---helps-us-see-the-pilot-2-questions-were-indeed-harder-than-pilot-1-2.3.1\"><span class=\"toc-item-num\">2.3.1&nbsp;&nbsp;</span>Agreement among responders - helps us see the pilot 2 questions were indeed harder than pilot 1</a></span></li><li><span><a href=\"#Compliance-questions-comparison\" data-toc-modified-id=\"Compliance-questions-comparison-2.3.2\"><span class=\"toc-item-num\">2.3.2&nbsp;&nbsp;</span>Compliance questions comparison</a></span></li></ul></li></ul></li><li><span><a href=\"#Main-Experimental-Setup\" data-toc-modified-id=\"Main-Experimental-Setup-3\"><span class=\"toc-item-num\">3&nbsp;&nbsp;</span>Main Experimental Setup</a></span><ul class=\"toc-item\"><li><span><a href=\"#Defining-ATE\" data-toc-modified-id=\"Defining-ATE-3.1\"><span class=\"toc-item-num\">3.1&nbsp;&nbsp;</span>Defining ATE</a></span></li><li><span><a href=\"#Defining-Compliance\" data-toc-modified-id=\"Defining-Compliance-3.2\"><span class=\"toc-item-num\">3.2&nbsp;&nbsp;</span>Defining Compliance</a></span></li><li><span><a href=\"#Control\" data-toc-modified-id=\"Control-3.3\"><span class=\"toc-item-num\">3.3&nbsp;&nbsp;</span>Control</a></span></li><li><span><a href=\"#Treatment-1---Public-Good\" data-toc-modified-id=\"Treatment-1---Public-Good-3.4\"><span class=\"toc-item-num\">3.4&nbsp;&nbsp;</span>Treatment 1 - Public Good</a></span></li><li><span><a href=\"#Treatment-2---Evaluation\" data-toc-modified-id=\"Treatment-2---Evaluation-3.5\"><span class=\"toc-item-num\">3.5&nbsp;&nbsp;</span>Treatment 2 - Evaluation</a></span></li></ul></li><li><span><a href=\"#Assumptions\" data-toc-modified-id=\"Assumptions-4\"><span class=\"toc-item-num\">4&nbsp;&nbsp;</span>Assumptions</a></span><ul class=\"toc-item\"><li><span><a href=\"#Exclusion-restriction\" data-toc-modified-id=\"Exclusion-restriction-4.1\"><span class=\"toc-item-num\">4.1&nbsp;&nbsp;</span>Exclusion restriction</a></span></li><li><span><a href=\"#Non-interference\" data-toc-modified-id=\"Non-interference-4.2\"><span class=\"toc-item-num\">4.2&nbsp;&nbsp;</span>Non interference</a></span></li></ul></li><li><span><a href=\"#Results\" data-toc-modified-id=\"Results-5\"><span class=\"toc-item-num\">5&nbsp;&nbsp;</span>Results</a></span></li><li><span><a href=\"#Caveats\" data-toc-modified-id=\"Caveats-6\"><span class=\"toc-item-num\">6&nbsp;&nbsp;</span>Caveats</a></span></li><li><span><a href=\"#Conclusion\" data-toc-modified-id=\"Conclusion-7\"><span class=\"toc-item-num\">7&nbsp;&nbsp;</span>Conclusion</a></span></li><li><span><a href=\"#Appendix\" data-toc-modified-id=\"Appendix-8\"><span class=\"toc-item-num\">8&nbsp;&nbsp;</span>Appendix</a></span></li></ul></div>"
   ]
  },
  {
   "cell_type": "code",
   "execution_count": 2,
   "metadata": {
    "hide_input": true
   },
   "outputs": [],
   "source": [
    "import numpy as np\n",
    "import pandas as pd\n",
    "from datetime import datetime\n",
    "from scipy.stats import norm\n",
    "import matplotlib.pyplot as plt\n",
    "%matplotlib inline"
   ]
  },
  {
   "cell_type": "code",
   "execution_count": 3,
   "metadata": {
    "hide_input": true
   },
   "outputs": [],
   "source": [
    "# read in all the raw files\n",
    "first_pilot = pd.read_csv('first_pilot.csv')\n",
    "second_pilot = pd.read_csv('second_pilot.csv')\n",
    "control = pd.read_csv('manipulated_data_control_full_dropped.csv')\n",
    "publicgood = pd.read_csv('manipulated_data_publicgood_full_dropped.csv')\n",
    "evaluation = pd.read_csv('manipulated_data_evaluation_full_dropped.csv')"
   ]
  },
  {
   "cell_type": "markdown",
   "metadata": {
    "hide_input": false
   },
   "source": [
    "# Introduction & Motivation"
   ]
  },
  {
   "cell_type": "markdown",
   "metadata": {},
   "source": [
    "We were motivated in figuring out what makes quality of data collected from crowdsourcing platforms better. We know how important the **quality of human labeled data can be for various supervised machine learning algorithm.**\n",
    "What we were most interested in exploring was to see **if apart from money, are there other treatments that we can provide to increase the quality of the labled datasets collected from the crowd.**  \n",
    "\n",
    "We used [Figure8](https://www.figure-eight.com/) platform, a highly customizable online tool that can annotate text, images, video, or audio in whatever way is right for your usecase. We chose this platform because: \n",
    "1. We have had professional success stories of using this platform for collecting training data\n",
    "2. We did not want to go with free platform due to lack of availability of responders on these free alternatives\n",
    "3. Since, this is a paid platform, we wanted to see which treatment beyond payment motivates the responders\n"
   ]
  },
  {
   "cell_type": "markdown",
   "metadata": {},
   "source": [
    "# Pilot Studies"
   ]
  },
  {
   "cell_type": "markdown",
   "metadata": {
    "hide_input": true
   },
   "source": [
    "## Pilot 1 "
   ]
  },
  {
   "cell_type": "markdown",
   "metadata": {
    "hide_input": true
   },
   "source": [
    "![Pilot 1 screenshot](./images/pilot1.png \"Pilot1\")\n"
   ]
  },
  {
   "cell_type": "code",
   "execution_count": 4,
   "metadata": {
    "hide_input": false
   },
   "outputs": [],
   "source": [
    "# Number of units launched\n",
    "nul = len(first_pilot._unit_id.unique())\n",
    "nur = len(first_pilot._worker_id.unique())"
   ]
  },
  {
   "cell_type": "markdown",
   "metadata": {
    "hide_input": true,
    "variables": {
     "nul": "113",
     "nur": "77"
    }
   },
   "source": [
    "\\begin{itemize}\n",
    "\\item **Compliance:** In order to check whether responders read the instructions we asked responders to choose **Positive** sentiment whenever they see the sentence **\"This is a lion\"**. Any person who would choose Negative, will be considered a non complier \n",
    "\\item **Number of units launched:** {{nul}}\n",
    "\\item **Total unique responders:** {{nur}}\n",
    "\\item **Launch date:** March 26, 2019\n",
    "\\item **Launch time:** 11pm\n",
    "\\item **Completion time:** 7 hours \n",
    "\\end{itemize}\n",
    "\n"
   ]
  },
  {
   "cell_type": "markdown",
   "metadata": {
    "hide_input": true
   },
   "source": [
    "### Data collected "
   ]
  },
  {
   "cell_type": "markdown",
   "metadata": {},
   "source": [
    "**Fields**\n",
    "\n",
    "\n",
    "    _unit_id: A unique ID number created by the system for each question\n",
    "    _created_at: The time the contributor submitted the judgement \n",
    "    _golden: This will be \"true\" if this is a test question, otherwise it is \"false\"\n",
    "    _id: A unique ID number generated for this specific judgment\n",
    "    _missed: This will be \"true\" if the row is an incorrect judgment on a test question.\n",
    "    _started_at: The time at which the contributor started working on the judgement\n",
    "    _tainted: This will be \"true\" if the contributor has been flagged for falling below the required accuracy.\n",
    "    _channel: The work channel that the contributor accessed the job through.\n",
    "    _trust: The contributor's accuracy. \n",
    "    _worker_id: A unique ID number assigned to the contributor.\n",
    "    _country: The country the contributor is from.\n",
    "    _region: A region code for the area the contributor is from.\n",
    "    _city: The city the contributor is from.\n",
    "    _ip: The IP address for the contributor.\n",
    "    _gold: The correct answer for the test question.\n",
    "\n",
    "In general, we're interested in the variance for each question. We can use **time of response, trust scores, cities and countries** to check the balances between groups. The **tainted indicator** tells us who was dropped and we can report on their statistics. \n"
   ]
  },
  {
   "cell_type": "code",
   "execution_count": 5,
   "metadata": {
    "hide_input": true
   },
   "outputs": [
    {
     "data": {
      "text/html": [
       "<div>\n",
       "<style>\n",
       "    .dataframe thead tr:only-child th {\n",
       "        text-align: right;\n",
       "    }\n",
       "\n",
       "    .dataframe thead th {\n",
       "        text-align: left;\n",
       "    }\n",
       "\n",
       "    .dataframe tbody tr th {\n",
       "        vertical-align: top;\n",
       "    }\n",
       "</style>\n",
       "<table border=\"1\" class=\"dataframe\">\n",
       "  <thead>\n",
       "    <tr style=\"text-align: right;\">\n",
       "      <th></th>\n",
       "      <th>_unit_id</th>\n",
       "      <th>_created_at</th>\n",
       "      <th>_golden</th>\n",
       "      <th>_id</th>\n",
       "      <th>_missed</th>\n",
       "      <th>_started_at</th>\n",
       "      <th>_tainted</th>\n",
       "      <th>_channel</th>\n",
       "      <th>_trust</th>\n",
       "      <th>_worker_id</th>\n",
       "      <th>_country</th>\n",
       "      <th>_region</th>\n",
       "      <th>_city</th>\n",
       "      <th>_ip</th>\n",
       "      <th>please_select_the_sentiment_feeling_of_the_product_review</th>\n",
       "      <th>1</th>\n",
       "      <th>label</th>\n",
       "      <th>please_select_the_sentiment_feeling_of_the_product_review_gold</th>\n",
       "      <th>text</th>\n",
       "      <th>this_is_a_lion</th>\n",
       "    </tr>\n",
       "  </thead>\n",
       "  <tbody>\n",
       "    <tr>\n",
       "      <th>333</th>\n",
       "      <td>2218243929</td>\n",
       "      <td>3/26/2019 02:25:37</td>\n",
       "      <td>True</td>\n",
       "      <td>4661146712</td>\n",
       "      <td>NaN</td>\n",
       "      <td>3/26/2019 02:24:55</td>\n",
       "      <td>False</td>\n",
       "      <td>clixsense</td>\n",
       "      <td>1.0</td>\n",
       "      <td>44980050</td>\n",
       "      <td>TUR</td>\n",
       "      <td>68</td>\n",
       "      <td>Ankara</td>\n",
       "      <td>94.54.16.1</td>\n",
       "      <td>1</td>\n",
       "      <td>NaN</td>\n",
       "      <td>1</td>\n",
       "      <td>1.0</td>\n",
       "      <td>This is a lion</td>\n",
       "      <td>NaN</td>\n",
       "    </tr>\n",
       "    <tr>\n",
       "      <th>362</th>\n",
       "      <td>2218245535</td>\n",
       "      <td>3/26/2019 02:25:37</td>\n",
       "      <td>True</td>\n",
       "      <td>4661146708</td>\n",
       "      <td>NaN</td>\n",
       "      <td>3/26/2019 02:24:55</td>\n",
       "      <td>False</td>\n",
       "      <td>clixsense</td>\n",
       "      <td>1.0</td>\n",
       "      <td>44980050</td>\n",
       "      <td>TUR</td>\n",
       "      <td>68</td>\n",
       "      <td>Ankara</td>\n",
       "      <td>94.54.16.1</td>\n",
       "      <td>1</td>\n",
       "      <td>NaN</td>\n",
       "      <td>1</td>\n",
       "      <td>1.0</td>\n",
       "      <td>This is a lion</td>\n",
       "      <td>NaN</td>\n",
       "    </tr>\n",
       "    <tr>\n",
       "      <th>300</th>\n",
       "      <td>2216130240</td>\n",
       "      <td>3/26/2019 02:25:37</td>\n",
       "      <td>True</td>\n",
       "      <td>4661146706</td>\n",
       "      <td>NaN</td>\n",
       "      <td>3/26/2019 02:24:55</td>\n",
       "      <td>False</td>\n",
       "      <td>clixsense</td>\n",
       "      <td>1.0</td>\n",
       "      <td>44980050</td>\n",
       "      <td>TUR</td>\n",
       "      <td>68</td>\n",
       "      <td>Ankara</td>\n",
       "      <td>94.54.16.1</td>\n",
       "      <td>1</td>\n",
       "      <td>NaN</td>\n",
       "      <td>1</td>\n",
       "      <td>1.0</td>\n",
       "      <td>This is a lion</td>\n",
       "      <td>NaN</td>\n",
       "    </tr>\n",
       "    <tr>\n",
       "      <th>582</th>\n",
       "      <td>2218246446</td>\n",
       "      <td>3/26/2019 02:25:37</td>\n",
       "      <td>True</td>\n",
       "      <td>4661146711</td>\n",
       "      <td>NaN</td>\n",
       "      <td>3/26/2019 02:24:55</td>\n",
       "      <td>False</td>\n",
       "      <td>clixsense</td>\n",
       "      <td>1.0</td>\n",
       "      <td>44980050</td>\n",
       "      <td>TUR</td>\n",
       "      <td>68</td>\n",
       "      <td>Ankara</td>\n",
       "      <td>94.54.16.1</td>\n",
       "      <td>1</td>\n",
       "      <td>NaN</td>\n",
       "      <td>1</td>\n",
       "      <td>1.0</td>\n",
       "      <td>This is a lion</td>\n",
       "      <td>NaN</td>\n",
       "    </tr>\n",
       "    <tr>\n",
       "      <th>686</th>\n",
       "      <td>2218246733</td>\n",
       "      <td>3/26/2019 02:25:37</td>\n",
       "      <td>True</td>\n",
       "      <td>4661146715</td>\n",
       "      <td>NaN</td>\n",
       "      <td>3/26/2019 02:24:55</td>\n",
       "      <td>False</td>\n",
       "      <td>clixsense</td>\n",
       "      <td>1.0</td>\n",
       "      <td>44980050</td>\n",
       "      <td>TUR</td>\n",
       "      <td>68</td>\n",
       "      <td>Ankara</td>\n",
       "      <td>94.54.16.1</td>\n",
       "      <td>1</td>\n",
       "      <td>NaN</td>\n",
       "      <td>1</td>\n",
       "      <td>1.0</td>\n",
       "      <td>This is a lion</td>\n",
       "      <td>NaN</td>\n",
       "    </tr>\n",
       "  </tbody>\n",
       "</table>\n",
       "</div>"
      ],
      "text/plain": [
       "       _unit_id         _created_at  _golden         _id _missed  \\\n",
       "333  2218243929  3/26/2019 02:25:37     True  4661146712     NaN   \n",
       "362  2218245535  3/26/2019 02:25:37     True  4661146708     NaN   \n",
       "300  2216130240  3/26/2019 02:25:37     True  4661146706     NaN   \n",
       "582  2218246446  3/26/2019 02:25:37     True  4661146711     NaN   \n",
       "686  2218246733  3/26/2019 02:25:37     True  4661146715     NaN   \n",
       "\n",
       "            _started_at  _tainted   _channel  _trust  _worker_id _country  \\\n",
       "333  3/26/2019 02:24:55     False  clixsense     1.0    44980050      TUR   \n",
       "362  3/26/2019 02:24:55     False  clixsense     1.0    44980050      TUR   \n",
       "300  3/26/2019 02:24:55     False  clixsense     1.0    44980050      TUR   \n",
       "582  3/26/2019 02:24:55     False  clixsense     1.0    44980050      TUR   \n",
       "686  3/26/2019 02:24:55     False  clixsense     1.0    44980050      TUR   \n",
       "\n",
       "    _region   _city         _ip  \\\n",
       "333      68  Ankara  94.54.16.1   \n",
       "362      68  Ankara  94.54.16.1   \n",
       "300      68  Ankara  94.54.16.1   \n",
       "582      68  Ankara  94.54.16.1   \n",
       "686      68  Ankara  94.54.16.1   \n",
       "\n",
       "     please_select_the_sentiment_feeling_of_the_product_review   1  label  \\\n",
       "333                                                  1         NaN      1   \n",
       "362                                                  1         NaN      1   \n",
       "300                                                  1         NaN      1   \n",
       "582                                                  1         NaN      1   \n",
       "686                                                  1         NaN      1   \n",
       "\n",
       "     please_select_the_sentiment_feeling_of_the_product_review_gold  \\\n",
       "333                                                1.0                \n",
       "362                                                1.0                \n",
       "300                                                1.0                \n",
       "582                                                1.0                \n",
       "686                                                1.0                \n",
       "\n",
       "               text  this_is_a_lion  \n",
       "333  This is a lion             NaN  \n",
       "362  This is a lion             NaN  \n",
       "300  This is a lion             NaN  \n",
       "582  This is a lion             NaN  \n",
       "686  This is a lion             NaN  "
      ]
     },
     "execution_count": 5,
     "metadata": {},
     "output_type": "execute_result"
    }
   ],
   "source": [
    "first_pilot.sort_values('_started_at').head(5)"
   ]
  },
  {
   "cell_type": "markdown",
   "metadata": {},
   "source": [
    "### Average response time "
   ]
  },
  {
   "cell_type": "code",
   "execution_count": 6,
   "metadata": {
    "hide_input": false
   },
   "outputs": [
    {
     "data": {
      "text/html": [
       "<div>\n",
       "<style>\n",
       "    .dataframe thead tr:only-child th {\n",
       "        text-align: right;\n",
       "    }\n",
       "\n",
       "    .dataframe thead th {\n",
       "        text-align: left;\n",
       "    }\n",
       "\n",
       "    .dataframe tbody tr th {\n",
       "        vertical-align: top;\n",
       "    }\n",
       "</style>\n",
       "<table border=\"1\" class=\"dataframe\">\n",
       "  <thead>\n",
       "    <tr style=\"text-align: right;\">\n",
       "      <th></th>\n",
       "      <th>_time_to_respond</th>\n",
       "    </tr>\n",
       "    <tr>\n",
       "      <th>index</th>\n",
       "      <th></th>\n",
       "    </tr>\n",
       "  </thead>\n",
       "  <tbody>\n",
       "    <tr>\n",
       "      <th>min</th>\n",
       "      <td>0 days 00:00:02.400000</td>\n",
       "    </tr>\n",
       "    <tr>\n",
       "      <th>max</th>\n",
       "      <td>0 days 00:01:24.800000</td>\n",
       "    </tr>\n",
       "    <tr>\n",
       "      <th>mean</th>\n",
       "      <td>0 days 00:00:13.873684</td>\n",
       "    </tr>\n",
       "  </tbody>\n",
       "</table>\n",
       "</div>"
      ],
      "text/plain": [
       "             _time_to_respond\n",
       "index                        \n",
       "min    0 days 00:00:02.400000\n",
       "max    0 days 00:01:24.800000\n",
       "mean   0 days 00:00:13.873684"
      ]
     },
     "execution_count": 6,
     "metadata": {},
     "output_type": "execute_result"
    }
   ],
   "source": [
    "first_pilot['_time_to_respond'] = (first_pilot._created_at.apply(lambda x: datetime.strptime(x, \"%m/%d/%Y %H:%M:%S\"))-first_pilot._started_at.apply(lambda x: datetime.strptime(x, \"%m/%d/%Y %H:%M:%S\")))/5\n",
    "first_pilot['_time_to_respond'].describe().reset_index().set_index('index').loc[['min', 'max', 'mean']]\n"
   ]
  },
  {
   "cell_type": "markdown",
   "metadata": {},
   "source": [
    "###  Contributor Countries"
   ]
  },
  {
   "cell_type": "code",
   "execution_count": 7,
   "metadata": {
    "hide_input": true
   },
   "outputs": [
    {
     "data": {
      "image/png": "[encoded data removed]",
      "text/plain": [
       "<matplotlib.figure.Figure at 0x11119f400>"
      ]
     },
     "metadata": {
      "needs_background": "light"
     },
     "output_type": "display_data"
    }
   ],
   "source": [
    "country_count  = first_pilot['_country'].value_counts()\n",
    "country_count = country_count[:10,]/first_pilot.shape[0]\n",
    "plt.figure(figsize=(7,5))\n",
    "country_count.plot(kind='bar')\n",
    "plt.title('Distribution of Countries in Pilot 1')\n",
    "plt.ylabel('Number of Controbutors', fontsize=12)\n",
    "plt.xlabel('Country', fontsize=12)\n",
    "plt.show()"
   ]
  },
  {
   "cell_type": "markdown",
   "metadata": {},
   "source": [
    "Since the pilot was launched at 11:00 pm EST, most of the contributors came from the country which are in +5GMT\n",
    "We saw about 16% of the contributors in pilot 1 coming from India"
   ]
  },
  {
   "cell_type": "markdown",
   "metadata": {},
   "source": [
    "### Trust distribution of the contributors"
   ]
  },
  {
   "cell_type": "code",
   "execution_count": 8,
   "metadata": {
    "hide_input": true
   },
   "outputs": [
    {
     "data": {
      "image/png": "[encoded data removed]",
      "text/plain": [
       "<matplotlib.figure.Figure at 0x1061c2d30>"
      ]
     },
     "metadata": {
      "needs_background": "light"
     },
     "output_type": "display_data"
    }
   ],
   "source": [
    "trust_per_worker  = first_pilot[['_trust', '_worker_id']].groupby('_worker_id').mean();\n",
    "trust_per_worker.plot(kind='hist', bins = 4);\n",
    "plt.title('Distribution of Trust among contributors of pilot 1')\n",
    "plt.ylabel('Count of contributors', fontsize=12)\n",
    "plt.xlabel('Average trust', fontsize=12)\n",
    "plt.show()"
   ]
  },
  {
   "cell_type": "markdown",
   "metadata": {},
   "source": [
    "Most of the contributors were high trust contributors. We dont really know how the platform decides the trust value of contributors, however, as long as the distribution of the trust values of the contributors look similar, the experiment results will not be biased due to weaker contributors"
   ]
  },
  {
   "cell_type": "markdown",
   "metadata": {},
   "source": [
    "### Scores"
   ]
  },
  {
   "cell_type": "code",
   "execution_count": 9,
   "metadata": {
    "hide_input": false
   },
   "outputs": [
    {
     "data": {
      "image/png": "[encoded data removed]",
      "text/plain": [
       "<matplotlib.figure.Figure at 0x11118b358>"
      ]
     },
     "metadata": {
      "needs_background": "light"
     },
     "output_type": "display_data"
    }
   ],
   "source": [
    "first_pilot['correct_pct'] = 100*first_pilot.label*first_pilot.please_select_the_sentiment_feeling_of_the_product_review \\\n",
    "                        + 100*(1-first_pilot.label)*(1-first_pilot.please_select_the_sentiment_feeling_of_the_product_review)\n",
    "\n",
    "fp_sbs_norm = first_pilot[first_pilot._golden == False].groupby('_worker_id').mean() #Group by normal questions and get the means.\n",
    "fp_sbs_comp = first_pilot[first_pilot._golden == True].groupby('_worker_id').mean() #Group by normal questions and get the means.\n",
    "fp_sbs_norm.correct_pct.hist(label = \"Normal questions\");\n",
    "fp_sbs_comp.correct_pct.hist(label = \"Compliance questions\");\n",
    "plt.title('Distribution of Scores among contributors of pilot 1')\n",
    "plt.ylabel('Count of contributors', fontsize=12)\n",
    "plt.xlabel('Score - percentage of correct answers', fontsize=12)\n",
    "plt.legend()\n",
    "plt.grid()\n",
    "plt.show()"
   ]
  },
  {
   "cell_type": "markdown",
   "metadata": {},
   "source": [
    "### Lessons learnt\n",
    "\n",
    "\\begin{itemize}\n",
    "\\item **Time of luanch affects the contributor pool** and which part of the world they come from\n",
    "\\item We also noticed that **some workers only got compliance questions**, hence:\n",
    "    \\begin{itemize}\n",
    "        \\item we randomised the units before upoading to the platform for subsequent experiments\n",
    "        \\item included compliance answers when scoring accuracy of a contributor\n",
    "    \\end{itemize}\n",
    "\\item **Almost everyone got compliance right**, that meant they all read the instructions OR they just thought it is indeed a positive experience to see a lion. \n",
    "\\item **Our questions were too easy**, as seen by the average score of the workers (93%). Indicating that we don't have too much room for improvement using the treatments. \n",
    "\\end{itemize}"
   ]
  },
  {
   "cell_type": "markdown",
   "metadata": {},
   "source": [
    "## Pilot 2 "
   ]
  },
  {
   "cell_type": "markdown",
   "metadata": {},
   "source": [
    "![Pilot 2 screenshot](./images/pilot2.png \"Pilot2\")\n"
   ]
  },
  {
   "cell_type": "code",
   "execution_count": 10,
   "metadata": {},
   "outputs": [],
   "source": [
    "# Number of units launched\n",
    "nul2 = len(second_pilot._unit_id.unique())\n",
    "nur2 = len(second_pilot._worker_id.unique())"
   ]
  },
  {
   "cell_type": "markdown",
   "metadata": {
    "variables": {
     "nul2": "108",
     "nur2": "34"
    }
   },
   "source": [
    "\\begin{itemize}\n",
    "\\item **Compliance:** In order to check whether responders read the instructions we asked responders to choose **Yes** for a chameleon picture and write **\"This is a lion\"** in the text box that pops up\n",
    "\\item **Number of units launched:** {{nul2}}\n",
    "\\item **Total unique responders:** {{nur2}}\n",
    "\\item **Launch date:** March 27, 2019\n",
    "\\item **Launch time:** 7pm\n",
    "\\item **Completion time:** 4 hours \n",
    "\\end{itemize}"
   ]
  },
  {
   "cell_type": "markdown",
   "metadata": {},
   "source": [
    "### Data Collected"
   ]
  },
  {
   "cell_type": "code",
   "execution_count": 11,
   "metadata": {},
   "outputs": [
    {
     "data": {
      "text/html": [
       "<div>\n",
       "<style>\n",
       "    .dataframe thead tr:only-child th {\n",
       "        text-align: right;\n",
       "    }\n",
       "\n",
       "    .dataframe thead th {\n",
       "        text-align: left;\n",
       "    }\n",
       "\n",
       "    .dataframe tbody tr th {\n",
       "        vertical-align: top;\n",
       "    }\n",
       "</style>\n",
       "<table border=\"1\" class=\"dataframe\">\n",
       "  <thead>\n",
       "    <tr style=\"text-align: right;\">\n",
       "      <th></th>\n",
       "      <th>_unit_id</th>\n",
       "      <th>_created_at</th>\n",
       "      <th>_golden</th>\n",
       "      <th>_id</th>\n",
       "      <th>_missed</th>\n",
       "      <th>_started_at</th>\n",
       "      <th>_tainted</th>\n",
       "      <th>_channel</th>\n",
       "      <th>_trust</th>\n",
       "      <th>_worker_id</th>\n",
       "      <th>...</th>\n",
       "      <th>_region</th>\n",
       "      <th>_city</th>\n",
       "      <th>_ip</th>\n",
       "      <th>animal_present</th>\n",
       "      <th>animal_types</th>\n",
       "      <th>other_animal_type</th>\n",
       "      <th>animal_present_gold</th>\n",
       "      <th>animal_types_gold</th>\n",
       "      <th>image_url</th>\n",
       "      <th>other_animal_type_gold</th>\n",
       "    </tr>\n",
       "  </thead>\n",
       "  <tbody>\n",
       "    <tr>\n",
       "      <th>364</th>\n",
       "      <td>2220961025</td>\n",
       "      <td>3/27/2019 23:46:05</td>\n",
       "      <td>True</td>\n",
       "      <td>4666137441</td>\n",
       "      <td>NaN</td>\n",
       "      <td>3/27/2019 23:45:07</td>\n",
       "      <td>False</td>\n",
       "      <td>clixsense</td>\n",
       "      <td>1.0</td>\n",
       "      <td>44591122</td>\n",
       "      <td>...</td>\n",
       "      <td>NaN</td>\n",
       "      <td>NaN</td>\n",
       "      <td>94.131.215.9</td>\n",
       "      <td>yes</td>\n",
       "      <td>NaN</td>\n",
       "      <td>NaN</td>\n",
       "      <td>yes</td>\n",
       "      <td>NaN</td>\n",
       "      <td>https://i.imgur.com/BhjGxoc.png</td>\n",
       "      <td>NaN</td>\n",
       "    </tr>\n",
       "    <tr>\n",
       "      <th>489</th>\n",
       "      <td>2220962052</td>\n",
       "      <td>3/27/2019 23:46:05</td>\n",
       "      <td>True</td>\n",
       "      <td>4666137450</td>\n",
       "      <td>NaN</td>\n",
       "      <td>3/27/2019 23:45:07</td>\n",
       "      <td>False</td>\n",
       "      <td>clixsense</td>\n",
       "      <td>1.0</td>\n",
       "      <td>44591122</td>\n",
       "      <td>...</td>\n",
       "      <td>NaN</td>\n",
       "      <td>NaN</td>\n",
       "      <td>94.131.215.9</td>\n",
       "      <td>no</td>\n",
       "      <td>NaN</td>\n",
       "      <td>NaN</td>\n",
       "      <td>no</td>\n",
       "      <td>NaN</td>\n",
       "      <td>https://i.imgur.com/slPMbss.png</td>\n",
       "      <td>NaN</td>\n",
       "    </tr>\n",
       "    <tr>\n",
       "      <th>301</th>\n",
       "      <td>2220960834</td>\n",
       "      <td>3/27/2019 23:46:05</td>\n",
       "      <td>True</td>\n",
       "      <td>4666137452</td>\n",
       "      <td>NaN</td>\n",
       "      <td>3/27/2019 23:45:07</td>\n",
       "      <td>False</td>\n",
       "      <td>clixsense</td>\n",
       "      <td>1.0</td>\n",
       "      <td>44591122</td>\n",
       "      <td>...</td>\n",
       "      <td>NaN</td>\n",
       "      <td>NaN</td>\n",
       "      <td>94.131.215.9</td>\n",
       "      <td>yes</td>\n",
       "      <td>NaN</td>\n",
       "      <td>NaN</td>\n",
       "      <td>yes</td>\n",
       "      <td>NaN</td>\n",
       "      <td>https://i.imgur.com/X8UsZgs.png</td>\n",
       "      <td>NaN</td>\n",
       "    </tr>\n",
       "    <tr>\n",
       "      <th>332</th>\n",
       "      <td>2220960987</td>\n",
       "      <td>3/27/2019 23:46:05</td>\n",
       "      <td>True</td>\n",
       "      <td>4666137447</td>\n",
       "      <td>NaN</td>\n",
       "      <td>3/27/2019 23:45:07</td>\n",
       "      <td>False</td>\n",
       "      <td>clixsense</td>\n",
       "      <td>1.0</td>\n",
       "      <td>44591122</td>\n",
       "      <td>...</td>\n",
       "      <td>NaN</td>\n",
       "      <td>NaN</td>\n",
       "      <td>94.131.215.9</td>\n",
       "      <td>no</td>\n",
       "      <td>NaN</td>\n",
       "      <td>NaN</td>\n",
       "      <td>no</td>\n",
       "      <td>NaN</td>\n",
       "      <td>https://i.imgur.com/1q731DL.png</td>\n",
       "      <td>NaN</td>\n",
       "    </tr>\n",
       "    <tr>\n",
       "      <th>459</th>\n",
       "      <td>2220961402</td>\n",
       "      <td>3/27/2019 23:46:05</td>\n",
       "      <td>True</td>\n",
       "      <td>4666137444</td>\n",
       "      <td>NaN</td>\n",
       "      <td>3/27/2019 23:45:07</td>\n",
       "      <td>False</td>\n",
       "      <td>clixsense</td>\n",
       "      <td>1.0</td>\n",
       "      <td>44591122</td>\n",
       "      <td>...</td>\n",
       "      <td>NaN</td>\n",
       "      <td>NaN</td>\n",
       "      <td>94.131.215.9</td>\n",
       "      <td>yes</td>\n",
       "      <td>NaN</td>\n",
       "      <td>NaN</td>\n",
       "      <td>yes</td>\n",
       "      <td>NaN</td>\n",
       "      <td>https://i.imgur.com/SMlFTQ6.png</td>\n",
       "      <td>NaN</td>\n",
       "    </tr>\n",
       "  </tbody>\n",
       "</table>\n",
       "<p>5 rows × 21 columns</p>\n",
       "</div>"
      ],
      "text/plain": [
       "       _unit_id         _created_at  _golden         _id _missed  \\\n",
       "364  2220961025  3/27/2019 23:46:05     True  4666137441     NaN   \n",
       "489  2220962052  3/27/2019 23:46:05     True  4666137450     NaN   \n",
       "301  2220960834  3/27/2019 23:46:05     True  4666137452     NaN   \n",
       "332  2220960987  3/27/2019 23:46:05     True  4666137447     NaN   \n",
       "459  2220961402  3/27/2019 23:46:05     True  4666137444     NaN   \n",
       "\n",
       "            _started_at  _tainted   _channel  _trust  _worker_id  \\\n",
       "364  3/27/2019 23:45:07     False  clixsense     1.0    44591122   \n",
       "489  3/27/2019 23:45:07     False  clixsense     1.0    44591122   \n",
       "301  3/27/2019 23:45:07     False  clixsense     1.0    44591122   \n",
       "332  3/27/2019 23:45:07     False  clixsense     1.0    44591122   \n",
       "459  3/27/2019 23:45:07     False  clixsense     1.0    44591122   \n",
       "\n",
       "             ...           _region _city           _ip animal_present  \\\n",
       "364          ...               NaN   NaN  94.131.215.9            yes   \n",
       "489          ...               NaN   NaN  94.131.215.9             no   \n",
       "301          ...               NaN   NaN  94.131.215.9            yes   \n",
       "332          ...               NaN   NaN  94.131.215.9             no   \n",
       "459          ...               NaN   NaN  94.131.215.9            yes   \n",
       "\n",
       "    animal_types other_animal_type animal_present_gold animal_types_gold  \\\n",
       "364          NaN               NaN                 yes               NaN   \n",
       "489          NaN               NaN                  no               NaN   \n",
       "301          NaN               NaN                 yes               NaN   \n",
       "332          NaN               NaN                  no               NaN   \n",
       "459          NaN               NaN                 yes               NaN   \n",
       "\n",
       "                           image_url other_animal_type_gold  \n",
       "364  https://i.imgur.com/BhjGxoc.png                    NaN  \n",
       "489  https://i.imgur.com/slPMbss.png                    NaN  \n",
       "301  https://i.imgur.com/X8UsZgs.png                    NaN  \n",
       "332  https://i.imgur.com/1q731DL.png                    NaN  \n",
       "459  https://i.imgur.com/SMlFTQ6.png                    NaN  \n",
       "\n",
       "[5 rows x 21 columns]"
      ]
     },
     "execution_count": 11,
     "metadata": {},
     "output_type": "execute_result"
    }
   ],
   "source": [
    "second_pilot.sort_values('_started_at').head(5)"
   ]
  },
  {
   "cell_type": "markdown",
   "metadata": {},
   "source": [
    "Very similar to what we saw in Pilot 1"
   ]
  },
  {
   "cell_type": "markdown",
   "metadata": {},
   "source": [
    "### Average response time"
   ]
  },
  {
   "cell_type": "code",
   "execution_count": 12,
   "metadata": {
    "hide_input": true
   },
   "outputs": [
    {
     "data": {
      "text/html": [
       "<div>\n",
       "<style>\n",
       "    .dataframe thead tr:only-child th {\n",
       "        text-align: right;\n",
       "    }\n",
       "\n",
       "    .dataframe thead th {\n",
       "        text-align: left;\n",
       "    }\n",
       "\n",
       "    .dataframe tbody tr th {\n",
       "        vertical-align: top;\n",
       "    }\n",
       "</style>\n",
       "<table border=\"1\" class=\"dataframe\">\n",
       "  <thead>\n",
       "    <tr style=\"text-align: right;\">\n",
       "      <th></th>\n",
       "      <th>_time_to_respond</th>\n",
       "    </tr>\n",
       "    <tr>\n",
       "      <th>index</th>\n",
       "      <th></th>\n",
       "    </tr>\n",
       "  </thead>\n",
       "  <tbody>\n",
       "    <tr>\n",
       "      <th>min</th>\n",
       "      <td>0 days 00:00:02.400000</td>\n",
       "    </tr>\n",
       "    <tr>\n",
       "      <th>max</th>\n",
       "      <td>0 days 00:01:20</td>\n",
       "    </tr>\n",
       "    <tr>\n",
       "      <th>mean</th>\n",
       "      <td>0 days 00:00:16.027522</td>\n",
       "    </tr>\n",
       "  </tbody>\n",
       "</table>\n",
       "</div>"
      ],
      "text/plain": [
       "             _time_to_respond\n",
       "index                        \n",
       "min    0 days 00:00:02.400000\n",
       "max           0 days 00:01:20\n",
       "mean   0 days 00:00:16.027522"
      ]
     },
     "execution_count": 12,
     "metadata": {},
     "output_type": "execute_result"
    }
   ],
   "source": [
    "second_pilot['_time_to_respond'] = (second_pilot._created_at.apply(lambda x: datetime.strptime(x, \"%m/%d/%Y %H:%M:%S\"))-second_pilot._started_at.apply(lambda x: datetime.strptime(x, \"%m/%d/%Y %H:%M:%S\")))/5\n",
    "second_pilot['_time_to_respond'].describe().reset_index().set_index('index').loc[['min', 'max', 'mean']]"
   ]
  },
  {
   "cell_type": "markdown",
   "metadata": {},
   "source": [
    "Mean time to respond per question was 3 seconds higher than pilot 1. Tougher questions does seem to make responders take more time."
   ]
  },
  {
   "cell_type": "markdown",
   "metadata": {},
   "source": [
    "### Contributor countries"
   ]
  },
  {
   "cell_type": "code",
   "execution_count": 13,
   "metadata": {
    "hide_input": true
   },
   "outputs": [
    {
     "data": {
      "image/png": "[encoded data removed]",
      "text/plain": [
       "<matplotlib.figure.Figure at 0x114f496a0>"
      ]
     },
     "metadata": {
      "needs_background": "light"
     },
     "output_type": "display_data"
    }
   ],
   "source": [
    "country_count  = second_pilot['_country'].value_counts()\n",
    "country_count = country_count[:10,]/first_pilot.shape[0]\n",
    "plt.figure(figsize=(7,5))\n",
    "country_count.plot(kind='bar')\n",
    "plt.title('Distribution of Countries in Pilot 1')\n",
    "plt.ylabel('Number of Controbutors', fontsize=12)\n",
    "plt.xlabel('Country', fontsize=12)\n",
    "plt.show()"
   ]
  },
  {
   "cell_type": "markdown",
   "metadata": {},
   "source": [
    "India is off the charts, and the highest number of responders (25%) seem to be coming from Egypt"
   ]
  },
  {
   "cell_type": "markdown",
   "metadata": {},
   "source": [
    "### Trust distribution of the contributors"
   ]
  },
  {
   "cell_type": "code",
   "execution_count": 14,
   "metadata": {
    "hide_input": true
   },
   "outputs": [
    {
     "data": {
      "image/png": "[encoded data removed]",
      "text/plain": [
       "<matplotlib.figure.Figure at 0x114eee7f0>"
      ]
     },
     "metadata": {
      "needs_background": "light"
     },
     "output_type": "display_data"
    }
   ],
   "source": [
    "trust_per_worker  = second_pilot[['_trust', '_worker_id']].groupby('_worker_id').mean();\n",
    "trust_per_worker.plot(kind='hist', bins = 4);\n",
    "plt.title('Distribution of Trust among contributors of pilot 1')\n",
    "plt.ylabel('Count of contributors', fontsize=12)\n",
    "plt.xlabel('Average trust', fontsize=12)\n",
    "plt.show()"
   ]
  },
  {
   "cell_type": "markdown",
   "metadata": {},
   "source": [
    "Trust of the contributors for pilot 2 was more distributed with about 20% of the responders lying below 50% trust score. We did not pay to much attention to this because the sample size of the responders were too small for us to say anything with much statistical significance."
   ]
  },
  {
   "cell_type": "markdown",
   "metadata": {},
   "source": [
    "### Scores"
   ]
  },
  {
   "cell_type": "markdown",
   "metadata": {},
   "source": [
    "We could not get the lables for the pilot 2 study, hence we dont have score distribution"
   ]
  },
  {
   "cell_type": "markdown",
   "metadata": {},
   "source": [
    "## Pilot 1 vs Pilot 2"
   ]
  },
  {
   "cell_type": "markdown",
   "metadata": {},
   "source": [
    "### Agreement among responders - helps us see the pilot 2 questions were indeed harder than pilot 1"
   ]
  },
  {
   "cell_type": "code",
   "execution_count": 15,
   "metadata": {
    "hide_input": true
   },
   "outputs": [
    {
     "name": "stdout",
     "output_type": "stream",
     "text": [
      "First pilot - Normal questions agreement\n",
      "count    100.000000\n",
      "mean       0.943731\n",
      "std        0.125110\n",
      "min        0.647100\n",
      "25%        1.000000\n",
      "50%        1.000000\n",
      "75%        1.000000\n",
      "max        1.000000\n",
      "Name: please_select_the_sentiment_feeling_of_the_product_review:confidence, dtype: float64\n",
      "\n",
      "Second pilot - Normal questions agreement\n",
      "count    100.000000\n",
      "mean       0.908733\n",
      "std        0.158092\n",
      "min        0.529400\n",
      "25%        0.876075\n",
      "50%        1.000000\n",
      "75%        1.000000\n",
      "max        1.000000\n",
      "Name: animal_present:confidence, dtype: float64\n",
      "\n"
     ]
    }
   ],
   "source": [
    "first_pilot_md = pd.read_csv('first_pilot_metadata.csv')\n",
    "second_pilot_md = pd.read_csv('second_pilot_metadata.csv')\n",
    "print('First pilot - Normal questions agreement')\n",
    "print(first_pilot_md[first_pilot_md._golden == False]['please_select_the_sentiment_feeling_of_the_product_review:confidence'].describe())\n",
    "print()\n",
    "print('Second pilot - Normal questions agreement')\n",
    "print(second_pilot_md[second_pilot_md._golden == False]['animal_present:confidence'].describe())\n",
    "print()"
   ]
  },
  {
   "cell_type": "markdown",
   "metadata": {},
   "source": [
    "We can see here that **agreement in the first pilot was a lot higher**, with everyone agreeing on the same (presumably correct) answer from the first quartile onwards. The average agreement was 94% with a standard deviation of 12.5%. \n",
    "\n",
    "Meanwhile, **the second pilot seems a lot harder in terms of people agreeing in a single answer**: the mean agreement drops to 90.8% and full agreement only becomes visible from the 50% quartile onwards. We know that in the first pilot people were extremely accurate, so more disagreement in the second pilot suggests that the change of database changed as intended; given the picture of a camouflaged animal, some people may see it and others won't, and this is were our treatment of making people take their work more seriously for the good or machine learning or because they're aware that they're being watched could have more room to improve performance scores."
   ]
  },
  {
   "cell_type": "markdown",
   "metadata": {},
   "source": [
    "### Compliance questions comparison"
   ]
  },
  {
   "cell_type": "code",
   "execution_count": 16,
   "metadata": {
    "hide_input": true
   },
   "outputs": [
    {
     "name": "stdout",
     "output_type": "stream",
     "text": [
      "First pilot - Compliance questions agreement\n",
      "count    13.000000\n",
      "mean      0.988431\n",
      "std       0.013470\n",
      "min       0.966400\n",
      "25%       0.979300\n",
      "50%       1.000000\n",
      "75%       1.000000\n",
      "max       1.000000\n",
      "Name: please_select_the_sentiment_feeling_of_the_product_review:confidence, dtype: float64\n",
      "\n",
      "Second pilot - Compliance questions agreement\n",
      "count    8.000000\n",
      "mean     0.956625\n",
      "std      0.043806\n",
      "min      0.865100\n",
      "25%      0.948000\n",
      "50%      0.956250\n",
      "75%      0.989800\n",
      "max      1.000000\n",
      "Name: animal_present:confidence, dtype: float64\n"
     ]
    }
   ],
   "source": [
    "print('First pilot - Compliance questions agreement')\n",
    "print(first_pilot_md[first_pilot_md._golden == True]['please_select_the_sentiment_feeling_of_the_product_review:confidence'].describe())\n",
    "print()\n",
    "print('Second pilot - Compliance questions agreement')\n",
    "print(second_pilot_md[second_pilot_md._golden == True]['animal_present:confidence'].describe())"
   ]
  },
  {
   "cell_type": "markdown",
   "metadata": {},
   "source": [
    "The compliance question in second study was much harder, saw lesser agreement and as such had higher standard deviation. **We learnt that keeping compliance questions simplistic, will help us distinguish between people who didn’t read the instructions and who just found the question too tough or complicated to answer**\n"
   ]
  },
  {
   "cell_type": "markdown",
   "metadata": {},
   "source": [
    "# Main Experimental Setup"
   ]
  },
  {
   "cell_type": "markdown",
   "metadata": {},
   "source": [
    "## Defining ATE"
   ]
  },
  {
   "cell_type": "markdown",
   "metadata": {},
   "source": [
    "## Defining Compliance"
   ]
  },
  {
   "cell_type": "markdown",
   "metadata": {},
   "source": [
    "To check whether contributors are reading the instructions at all, we asked them to provide a wrong answer to a specific set of questions. \n",
    "\n",
    "**Non compliers:** If a contributor chose \"Yes\" they see an animal in snail pictures, that meant they did not read the isntructions. Please note: \n",
    "1. **We kept this consistent across control and both treatments (public good and evaluation)**\n",
    "2. **We increased the font size and changed the color of the animal as well as the expected answer. This was done intentionally to draw attention**"
   ]
  },
  {
   "cell_type": "markdown",
   "metadata": {},
   "source": [
    "![Compliance screenshot](./images/compliance.png \"Compliance\")"
   ]
  },
  {
   "cell_type": "markdown",
   "metadata": {},
   "source": [
    "## Control"
   ]
  },
  {
   "cell_type": "markdown",
   "metadata": {},
   "source": [
    "![Control screenshot](./images/control.png \"Control\")"
   ]
  },
  {
   "cell_type": "markdown",
   "metadata": {},
   "source": [
    "## Treatment 1 - Public Good"
   ]
  },
  {
   "cell_type": "markdown",
   "metadata": {},
   "source": [
    "![PublicGood 2 screenshot](./images/publicgood.png \"Public Good\")"
   ]
  },
  {
   "cell_type": "markdown",
   "metadata": {},
   "source": [
    "## Treatment 2 - Evaluation"
   ]
  },
  {
   "cell_type": "markdown",
   "metadata": {},
   "source": [
    "![Evaluation screenshot](./images/evaluation.png \"Evaluation\")"
   ]
  },
  {
   "cell_type": "markdown",
   "metadata": {},
   "source": [
    "# Assumptions "
   ]
  },
  {
   "cell_type": "markdown",
   "metadata": {},
   "source": [
    "## Exclusion restriction"
   ]
  },
  {
   "cell_type": "markdown",
   "metadata": {},
   "source": [
    "## Non interference"
   ]
  },
  {
   "cell_type": "markdown",
   "metadata": {},
   "source": [
    "# Results"
   ]
  },
  {
   "cell_type": "markdown",
   "metadata": {},
   "source": [
    "![Result screenshot](./images/result.png \"Result\")"
   ]
  },
  {
   "cell_type": "markdown",
   "metadata": {},
   "source": [
    "# Caveats "
   ]
  },
  {
   "cell_type": "markdown",
   "metadata": {},
   "source": [
    "# Conclusion "
   ]
  },
  {
   "cell_type": "markdown",
   "metadata": {},
   "source": [
    "# Appendix"
   ]
  }
 ],
 "metadata": {
  "kernelspec": {
   "display_name": "Python 3",
   "language": "python",
   "name": "python3"
  },
  "language_info": {
   "codemirror_mode": {
    "name": "ipython",
    "version": 3
   },
   "file_extension": ".py",
   "mimetype": "text/x-python",
   "name": "python",
   "nbconvert_exporter": "python",
   "pygments_lexer": "ipython3",
   "version": "3.5.4"
  },
  "latex_envs": {
   "LaTeX_envs_menu_present": true,
   "autoclose": false,
   "autocomplete": true,
   "bibliofile": "biblio.bib",
   "cite_by": "apalike",
   "current_citInitial": 1,
   "eqLabelWithNumbers": true,
   "eqNumInitial": 1,
   "hotkeys": {
    "equation": "Ctrl-E",
    "itemize": "Ctrl-I"
   },
   "labels_anchors": true,
   "latex_user_defs": false,
   "report_style_numbering": false,
   "user_envs_cfg": false
  },
  "toc": {
   "base_numbering": 1,
   "nav_menu": {},
   "number_sections": true,
   "sideBar": true,
   "skip_h1_title": false,
   "title_cell": "Table of Contents",
   "title_sidebar": "W241 - Final Project Presentation",
   "toc_cell": true,
   "toc_position": {
    "height": "calc(100% - 180px)",
    "left": "10px",
    "top": "150px",
    "width": "319.08px"
   },
   "toc_section_display": true,
   "toc_window_display": true
  },
  "varInspector": {
   "cols": {
    "lenName": 16,
    "lenType": 16,
    "lenVar": 40
   },
   "kernels_config": {
    "python": {
     "delete_cmd_postfix": "",
     "delete_cmd_prefix": "del ",
     "library": "var_list.py",
     "varRefreshCmd": "print(var_dic_list())"
    },
    "r": {
     "delete_cmd_postfix": ") ",
     "delete_cmd_prefix": "rm(",
     "library": "var_list.r",
     "varRefreshCmd": "cat(var_dic_list()) "
    }
   },
   "types_to_exclude": [
    "module",
    "function",
    "builtin_function_or_method",
    "instance",
    "_Feature"
   ],
   "window_display": false
  }
 },
 "nbformat": 4,
 "nbformat_minor": 2
}
