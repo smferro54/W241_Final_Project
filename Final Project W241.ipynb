{
 "cells": [
  {
   "cell_type": "code",
   "execution_count": 1,
   "metadata": {
    "hide_input": false
   },
   "outputs": [],
   "source": [
    "import numpy as np\n",
    "import pandas as pd\n",
    "from datetime import datetime\n",
    "from scipy.stats import norm\n",
    "import matplotlib.pyplot as plt\n",
    "%matplotlib inline"
   ]
  },
  {
   "cell_type": "code",
   "execution_count": 2,
   "metadata": {
    "hide_input": false
   },
   "outputs": [],
   "source": [
    "# read in all the raw files\n",
    "first_pilot = pd.read_csv('first_pilot.csv')\n",
    "second_pilot = pd.read_csv('second_pilot.csv')\n",
    "control = pd.read_csv('manipulated_data_control_full_dropped.csv')\n",
    "publicgood = pd.read_csv('manipulated_data_publicgood_full_dropped.csv')\n",
    "evaluation = pd.read_csv('manipulated_data_evaluation_full_dropped.csv')"
   ]
  },
  {
   "cell_type": "markdown",
   "metadata": {
    "hide_input": false
   },
   "source": [
    "# Introduction & Motivation"
   ]
  },
  {
   "cell_type": "markdown",
   "metadata": {},
   "source": [
    "We were motivated in figuring out what makes quality of data collected from crowdsourcing platforms better. We know how important the **quality of human labeled data can be for various supervised machine learning algorithm.**\n",
    "What we were most interested in exploring was to see **if apart from money, are there other treatments that we can provide to increase the quality of the labled datasets collected from the crowd.**  \n",
    "\n",
    "We used [Figure8](https://www.figure-eight.com/) platform, a highly customizable online tool that can annotate text, images, video, or audio in whatever way is right for your usecase. We chose this platform because: \n",
    "1. We have had professional success stories of using this platform for collecting training data\n",
    "2. We did not want to go with free platform due to lack of availability of responders on these free alternatives\n",
    "3. Since, this is a paid platform, we wanted to see which treatment beyond payment motivates the responders\n"
   ]
  },
  {
   "cell_type": "markdown",
   "metadata": {},
   "source": [
    "# Pilot Studies"
   ]
  },
  {
   "cell_type": "markdown",
   "metadata": {
    "hide_input": true
   },
   "source": [
    "## Pilot 1 "
   ]
  },
  {
   "cell_type": "markdown",
   "metadata": {},
   "source": [
    "![Pilot 1 screenshot](./images/pilot1.png \"Pilot1\")\n"
   ]
  },
  {
   "cell_type": "code",
   "execution_count": 3,
   "metadata": {
    "hide_input": true
   },
   "outputs": [],
   "source": [
    "# Number of units launched\n",
    "nul = len(first_pilot._unit_id.unique())\n",
    "nur = len(first_pilot._worker_id.unique())"
   ]
  },
  {
   "cell_type": "markdown",
   "metadata": {
    "variables": {
     "nul": "113",
     "nur": "77"
    }
   },
   "source": [
    "\\begin{itemize}\n",
    "\\item **Compliance:** In order to check whether responders read the instructions we asked responders to choose **Positive** sentiment whenever they see the sentence **\"This is a lion\"**. Any person who would choose Negative, will be considered a non complier \n",
    "\\item **Number of units launched:** {{nul}}\n",
    "\\item **Total unique responders:** {{nur}}\n",
    "\\item **Launch date:** March 26, 2019\n",
    "\\item **Launch time:** 11pm\n",
    "\\item **Completion time:** 7 hours \n",
    "\\end{itemize}\n",
    "\n"
   ]
  },
  {
   "cell_type": "markdown",
   "metadata": {
    "hide_input": true
   },
   "source": [
    "### Data collected "
   ]
  },
  {
   "cell_type": "markdown",
   "metadata": {},
   "source": [
    "**Fields**\n",
    "\n",
    "\n",
    "    _unit_id: A unique ID number created by the system for each question\n",
    "    _created_at: The time the contributor submitted the judgement \n",
    "    _golden: This will be \"true\" if this is a test question, otherwise it is \"false\"\n",
    "    _id: A unique ID number generated for this specific judgment\n",
    "    _missed: This will be \"true\" if the row is an incorrect judgment on a test question.\n",
    "    _started_at: The time at which the contributor started working on the judgement\n",
    "    _tainted: This will be \"true\" if the contributor has been flagged for falling below the required accuracy.\n",
    "    _channel: The work channel that the contributor accessed the job through.\n",
    "    _trust: The contributor's accuracy. \n",
    "    _worker_id: A unique ID number assigned to the contributor.\n",
    "    _country: The country the contributor is from.\n",
    "    _region: A region code for the area the contributor is from.\n",
    "    _city: The city the contributor is from.\n",
    "    _ip: The IP address for the contributor.\n",
    "    _gold: The correct answer for the test question.\n",
    "\n",
    "In general, we're interested in the variance for each question. We can use **time of response, trust scores, cities and countries** to check the balances between groups. The **tainted indicator** tells us who was dropped and we can report on their statistics. \n"
   ]
  },
  {
   "cell_type": "code",
   "execution_count": 7,
   "metadata": {
    "hide_input": false
   },
   "outputs": [
    {
     "data": {
      "text/html": [
       "<div>\n",
       "<style>\n",
       "    .dataframe thead tr:only-child th {\n",
       "        text-align: right;\n",
       "    }\n",
       "\n",
       "    .dataframe thead th {\n",
       "        text-align: left;\n",
       "    }\n",
       "\n",
       "    .dataframe tbody tr th {\n",
       "        vertical-align: top;\n",
       "    }\n",
       "</style>\n",
       "<table border=\"1\" class=\"dataframe\">\n",
       "  <thead>\n",
       "    <tr style=\"text-align: right;\">\n",
       "      <th></th>\n",
       "      <th>_unit_id</th>\n",
       "      <th>_created_at</th>\n",
       "      <th>_golden</th>\n",
       "      <th>_id</th>\n",
       "      <th>_missed</th>\n",
       "      <th>_started_at</th>\n",
       "      <th>_tainted</th>\n",
       "      <th>_channel</th>\n",
       "      <th>_trust</th>\n",
       "      <th>_worker_id</th>\n",
       "      <th>_country</th>\n",
       "      <th>_region</th>\n",
       "      <th>_city</th>\n",
       "      <th>_ip</th>\n",
       "      <th>please_select_the_sentiment_feeling_of_the_product_review</th>\n",
       "      <th>1</th>\n",
       "      <th>label</th>\n",
       "      <th>please_select_the_sentiment_feeling_of_the_product_review_gold</th>\n",
       "      <th>text</th>\n",
       "      <th>this_is_a_lion</th>\n",
       "    </tr>\n",
       "  </thead>\n",
       "  <tbody>\n",
       "    <tr>\n",
       "      <th>333</th>\n",
       "      <td>2218243929</td>\n",
       "      <td>3/26/2019 02:25:37</td>\n",
       "      <td>True</td>\n",
       "      <td>4661146712</td>\n",
       "      <td>NaN</td>\n",
       "      <td>3/26/2019 02:24:55</td>\n",
       "      <td>False</td>\n",
       "      <td>clixsense</td>\n",
       "      <td>1.0</td>\n",
       "      <td>44980050</td>\n",
       "      <td>TUR</td>\n",
       "      <td>68</td>\n",
       "      <td>Ankara</td>\n",
       "      <td>94.54.16.1</td>\n",
       "      <td>1</td>\n",
       "      <td>NaN</td>\n",
       "      <td>1</td>\n",
       "      <td>1.0</td>\n",
       "      <td>This is a lion</td>\n",
       "      <td>NaN</td>\n",
       "    </tr>\n",
       "    <tr>\n",
       "      <th>362</th>\n",
       "      <td>2218245535</td>\n",
       "      <td>3/26/2019 02:25:37</td>\n",
       "      <td>True</td>\n",
       "      <td>4661146708</td>\n",
       "      <td>NaN</td>\n",
       "      <td>3/26/2019 02:24:55</td>\n",
       "      <td>False</td>\n",
       "      <td>clixsense</td>\n",
       "      <td>1.0</td>\n",
       "      <td>44980050</td>\n",
       "      <td>TUR</td>\n",
       "      <td>68</td>\n",
       "      <td>Ankara</td>\n",
       "      <td>94.54.16.1</td>\n",
       "      <td>1</td>\n",
       "      <td>NaN</td>\n",
       "      <td>1</td>\n",
       "      <td>1.0</td>\n",
       "      <td>This is a lion</td>\n",
       "      <td>NaN</td>\n",
       "    </tr>\n",
       "    <tr>\n",
       "      <th>300</th>\n",
       "      <td>2216130240</td>\n",
       "      <td>3/26/2019 02:25:37</td>\n",
       "      <td>True</td>\n",
       "      <td>4661146706</td>\n",
       "      <td>NaN</td>\n",
       "      <td>3/26/2019 02:24:55</td>\n",
       "      <td>False</td>\n",
       "      <td>clixsense</td>\n",
       "      <td>1.0</td>\n",
       "      <td>44980050</td>\n",
       "      <td>TUR</td>\n",
       "      <td>68</td>\n",
       "      <td>Ankara</td>\n",
       "      <td>94.54.16.1</td>\n",
       "      <td>1</td>\n",
       "      <td>NaN</td>\n",
       "      <td>1</td>\n",
       "      <td>1.0</td>\n",
       "      <td>This is a lion</td>\n",
       "      <td>NaN</td>\n",
       "    </tr>\n",
       "    <tr>\n",
       "      <th>582</th>\n",
       "      <td>2218246446</td>\n",
       "      <td>3/26/2019 02:25:37</td>\n",
       "      <td>True</td>\n",
       "      <td>4661146711</td>\n",
       "      <td>NaN</td>\n",
       "      <td>3/26/2019 02:24:55</td>\n",
       "      <td>False</td>\n",
       "      <td>clixsense</td>\n",
       "      <td>1.0</td>\n",
       "      <td>44980050</td>\n",
       "      <td>TUR</td>\n",
       "      <td>68</td>\n",
       "      <td>Ankara</td>\n",
       "      <td>94.54.16.1</td>\n",
       "      <td>1</td>\n",
       "      <td>NaN</td>\n",
       "      <td>1</td>\n",
       "      <td>1.0</td>\n",
       "      <td>This is a lion</td>\n",
       "      <td>NaN</td>\n",
       "    </tr>\n",
       "    <tr>\n",
       "      <th>686</th>\n",
       "      <td>2218246733</td>\n",
       "      <td>3/26/2019 02:25:37</td>\n",
       "      <td>True</td>\n",
       "      <td>4661146715</td>\n",
       "      <td>NaN</td>\n",
       "      <td>3/26/2019 02:24:55</td>\n",
       "      <td>False</td>\n",
       "      <td>clixsense</td>\n",
       "      <td>1.0</td>\n",
       "      <td>44980050</td>\n",
       "      <td>TUR</td>\n",
       "      <td>68</td>\n",
       "      <td>Ankara</td>\n",
       "      <td>94.54.16.1</td>\n",
       "      <td>1</td>\n",
       "      <td>NaN</td>\n",
       "      <td>1</td>\n",
       "      <td>1.0</td>\n",
       "      <td>This is a lion</td>\n",
       "      <td>NaN</td>\n",
       "    </tr>\n",
       "  </tbody>\n",
       "</table>\n",
       "</div>"
      ],
      "text/plain": [
       "       _unit_id         _created_at  _golden         _id _missed  \\\n",
       "333  2218243929  3/26/2019 02:25:37     True  4661146712     NaN   \n",
       "362  2218245535  3/26/2019 02:25:37     True  4661146708     NaN   \n",
       "300  2216130240  3/26/2019 02:25:37     True  4661146706     NaN   \n",
       "582  2218246446  3/26/2019 02:25:37     True  4661146711     NaN   \n",
       "686  2218246733  3/26/2019 02:25:37     True  4661146715     NaN   \n",
       "\n",
       "            _started_at  _tainted   _channel  _trust  _worker_id _country  \\\n",
       "333  3/26/2019 02:24:55     False  clixsense     1.0    44980050      TUR   \n",
       "362  3/26/2019 02:24:55     False  clixsense     1.0    44980050      TUR   \n",
       "300  3/26/2019 02:24:55     False  clixsense     1.0    44980050      TUR   \n",
       "582  3/26/2019 02:24:55     False  clixsense     1.0    44980050      TUR   \n",
       "686  3/26/2019 02:24:55     False  clixsense     1.0    44980050      TUR   \n",
       "\n",
       "    _region   _city         _ip  \\\n",
       "333      68  Ankara  94.54.16.1   \n",
       "362      68  Ankara  94.54.16.1   \n",
       "300      68  Ankara  94.54.16.1   \n",
       "582      68  Ankara  94.54.16.1   \n",
       "686      68  Ankara  94.54.16.1   \n",
       "\n",
       "     please_select_the_sentiment_feeling_of_the_product_review   1  label  \\\n",
       "333                                                  1         NaN      1   \n",
       "362                                                  1         NaN      1   \n",
       "300                                                  1         NaN      1   \n",
       "582                                                  1         NaN      1   \n",
       "686                                                  1         NaN      1   \n",
       "\n",
       "     please_select_the_sentiment_feeling_of_the_product_review_gold  \\\n",
       "333                                                1.0                \n",
       "362                                                1.0                \n",
       "300                                                1.0                \n",
       "582                                                1.0                \n",
       "686                                                1.0                \n",
       "\n",
       "               text  this_is_a_lion  \n",
       "333  This is a lion             NaN  \n",
       "362  This is a lion             NaN  \n",
       "300  This is a lion             NaN  \n",
       "582  This is a lion             NaN  \n",
       "686  This is a lion             NaN  "
      ]
     },
     "execution_count": 7,
     "metadata": {},
     "output_type": "execute_result"
    }
   ],
   "source": [
    "first_pilot.sort_values('_started_at').head(5)"
   ]
  },
  {
   "cell_type": "markdown",
   "metadata": {},
   "source": [
    "### Average response time "
   ]
  },
  {
   "cell_type": "code",
   "execution_count": 11,
   "metadata": {
    "hide_input": true
   },
   "outputs": [
    {
     "data": {
      "text/html": [
       "<div>\n",
       "<style>\n",
       "    .dataframe thead tr:only-child th {\n",
       "        text-align: right;\n",
       "    }\n",
       "\n",
       "    .dataframe thead th {\n",
       "        text-align: left;\n",
       "    }\n",
       "\n",
       "    .dataframe tbody tr th {\n",
       "        vertical-align: top;\n",
       "    }\n",
       "</style>\n",
       "<table border=\"1\" class=\"dataframe\">\n",
       "  <thead>\n",
       "    <tr style=\"text-align: right;\">\n",
       "      <th></th>\n",
       "      <th>_time_to_respond</th>\n",
       "    </tr>\n",
       "    <tr>\n",
       "      <th>index</th>\n",
       "      <th></th>\n",
       "    </tr>\n",
       "  </thead>\n",
       "  <tbody>\n",
       "    <tr>\n",
       "      <th>min</th>\n",
       "      <td>0 days 00:00:02.400000</td>\n",
       "    </tr>\n",
       "    <tr>\n",
       "      <th>max</th>\n",
       "      <td>0 days 00:01:24.800000</td>\n",
       "    </tr>\n",
       "    <tr>\n",
       "      <th>mean</th>\n",
       "      <td>0 days 00:00:13.873684</td>\n",
       "    </tr>\n",
       "  </tbody>\n",
       "</table>\n",
       "</div>"
      ],
      "text/plain": [
       "             _time_to_respond\n",
       "index                        \n",
       "min    0 days 00:00:02.400000\n",
       "max    0 days 00:01:24.800000\n",
       "mean   0 days 00:00:13.873684"
      ]
     },
     "execution_count": 11,
     "metadata": {},
     "output_type": "execute_result"
    }
   ],
   "source": [
    "first_pilot['_time_to_respond'] = (first_pilot._created_at.apply(lambda x: datetime.strptime(x, \"%m/%d/%Y %H:%M:%S\"))-first_pilot._started_at.apply(lambda x: datetime.strptime(x, \"%m/%d/%Y %H:%M:%S\")))/5\n",
    "first_pilot['_time_to_respond'].describe().reset_index().set_index('index').loc[['min', 'max', 'mean']]\n"
   ]
  },
  {
   "cell_type": "markdown",
   "metadata": {},
   "source": [
    "###  Contributor Countries"
   ]
  },
  {
   "cell_type": "code",
   "execution_count": 12,
   "metadata": {
    "hide_input": true
   },
   "outputs": [
    {
     "data": {
      "image/png": "[encoded data removed]",
      "text/plain": [
       "<matplotlib.figure.Figure at 0x1101ef940>"
      ]
     },
     "metadata": {
      "needs_background": "light"
     },
     "output_type": "display_data"
    }
   ],
   "source": [
    "country_count  = first_pilot['_country'].value_counts()\n",
    "country_count = country_count[:10,]/first_pilot.shape[0]\n",
    "plt.figure(figsize=(7,5))\n",
    "country_count.plot(kind='bar')\n",
    "plt.title('Distribution of Countries in Pilot 1')\n",
    "plt.ylabel('Number of Controbutors', fontsize=12)\n",
    "plt.xlabel('Country', fontsize=12)\n",
    "plt.show()"
   ]
  },
  {
   "cell_type": "markdown",
   "metadata": {},
   "source": [
    "Since the pilot was launched at 11:00 pm EST, most of the contributors came from the country which are in +5GMT\n",
    "We saw about 16% of the contributors in pilot 1 coming from India"
   ]
  },
  {
   "cell_type": "markdown",
   "metadata": {},
   "source": [
    "### Trust distribution of the contributors"
   ]
  },
  {
   "cell_type": "code",
   "execution_count": 28,
   "metadata": {
    "hide_input": false
   },
   "outputs": [
    {
     "data": {
      "image/png": "[encoded data removed]",
      "text/plain": [
       "<matplotlib.figure.Figure at 0x11b233e10>"
      ]
     },
     "metadata": {
      "needs_background": "light"
     },
     "output_type": "display_data"
    }
   ],
   "source": [
    "trust_per_worker  = first_pilot[['_trust', '_worker_id']].groupby('_worker_id').mean();\n",
    "trust_per_worker.plot(kind='hist', bins = 4);\n",
    "plt.title('Distribution of Trust among contributors of pilot 1')\n",
    "plt.ylabel('Count of contributors', fontsize=12)\n",
    "plt.xlabel('Average trust', fontsize=12)\n",
    "plt.show()"
   ]
  },
  {
   "cell_type": "markdown",
   "metadata": {},
   "source": [
    "Most of the contributors were high trust contributors. We dont really know how the platform decides the trust value of contributors, however, as long as the distribution of the trust values of the contributors look similar, the experiment results will not be biased due to weaker contributors"
   ]
  },
  {
   "cell_type": "markdown",
   "metadata": {},
   "source": [
    "### Scores"
   ]
  },
  {
   "cell_type": "code",
   "execution_count": 44,
   "metadata": {
    "hide_input": true
   },
   "outputs": [
    {
     "data": {
      "image/png": "[encoded data removed]",
      "text/plain": [
       "<matplotlib.figure.Figure at 0x11f955a58>"
      ]
     },
     "metadata": {
      "needs_background": "light"
     },
     "output_type": "display_data"
    }
   ],
   "source": [
    "first_pilot['correct_pct'] = 100*first_pilot.label*first_pilot.please_select_the_sentiment_feeling_of_the_product_review \\\n",
    "                        + 100*(1-first_pilot.label)*(1-first_pilot.please_select_the_sentiment_feeling_of_the_product_review)\n",
    "\n",
    "fp_sbs_norm = first_pilot[first_pilot._golden == False].groupby('_worker_id').mean() #Group by normal questions and get the means.\n",
    "fp_sbs_comp = first_pilot[first_pilot._golden == True].groupby('_worker_id').mean() #Group by normal questions and get the means.\n",
    "fp_sbs_norm.correct_pct.hist(label = \"Normal questions\");\n",
    "fp_sbs_comp.correct_pct.hist(label = \"Compliance questions\");\n",
    "plt.title('Distribution of Scores among contributors of pilot 1')\n",
    "plt.ylabel('Count of contributors', fontsize=12)\n",
    "plt.xlabel('Score - percentage of correct answers', fontsize=12)\n",
    "plt.legend()\n",
    "plt.grid()\n",
    "plt.show()"
   ]
  },
  {
   "cell_type": "markdown",
   "metadata": {},
   "source": [
    "### Lessons learnt\n",
    "\n",
    "\\begin{itemize}\n",
    "\\item **Time of luanch affects the contributor pool** and which part of the world they come from\n",
    "\\item We also noticed that **some workers only got compliance questions**, hence:\n",
    "    \\begin{itemize}\n",
    "        \\item we randomised the units before upoading to the platform for subsequent experiments\n",
    "        \\item included compliance answers when scoring accuracy of a contributor\n",
    "    \\end{itemize}\n",
    "\\item **Almost everyone got compliance right**, that meant they all read the instructions OR they just thought it is indeed a positive experience to see a lion. \n",
    "\\item **Our questions were too easy**, as seen by the average score of the workers (93%). Indicating that we don't have too much room for improvement using the treatments. \n",
    "\\end{itemize}"
   ]
  },
  {
   "cell_type": "markdown",
   "metadata": {},
   "source": [
    "## Pilot 2 "
   ]
  },
  {
   "cell_type": "markdown",
   "metadata": {},
   "source": [
    "### Number of units launched"
   ]
  },
  {
   "cell_type": "code",
   "execution_count": 4,
   "metadata": {},
   "outputs": [
    {
     "data": {
      "text/plain": [
       "108"
      ]
     },
     "execution_count": 4,
     "metadata": {},
     "output_type": "execute_result"
    }
   ],
   "source": [
    "# Number of units launched\n",
    "len(second_pilot._unit_id.unique())"
   ]
  },
  {
   "cell_type": "markdown",
   "metadata": {},
   "source": [
    "### Number of responders"
   ]
  },
  {
   "cell_type": "code",
   "execution_count": 5,
   "metadata": {},
   "outputs": [
    {
     "data": {
      "text/plain": [
       "34"
      ]
     },
     "execution_count": 5,
     "metadata": {},
     "output_type": "execute_result"
    }
   ],
   "source": [
    "len(second_pilot._worker_id.unique())"
   ]
  },
  {
   "cell_type": "markdown",
   "metadata": {},
   "source": [
    "### Average response time"
   ]
  },
  {
   "cell_type": "code",
   "execution_count": 6,
   "metadata": {},
   "outputs": [
    {
     "data": {
      "text/html": [
       "<div>\n",
       "<style>\n",
       "    .dataframe thead tr:only-child th {\n",
       "        text-align: right;\n",
       "    }\n",
       "\n",
       "    .dataframe thead th {\n",
       "        text-align: left;\n",
       "    }\n",
       "\n",
       "    .dataframe tbody tr th {\n",
       "        vertical-align: top;\n",
       "    }\n",
       "</style>\n",
       "<table border=\"1\" class=\"dataframe\">\n",
       "  <thead>\n",
       "    <tr style=\"text-align: right;\">\n",
       "      <th></th>\n",
       "      <th>_time_to_respond</th>\n",
       "    </tr>\n",
       "    <tr>\n",
       "      <th>index</th>\n",
       "      <th></th>\n",
       "    </tr>\n",
       "  </thead>\n",
       "  <tbody>\n",
       "    <tr>\n",
       "      <th>count</th>\n",
       "      <td>545</td>\n",
       "    </tr>\n",
       "    <tr>\n",
       "      <th>mean</th>\n",
       "      <td>0 days 00:00:16.027522</td>\n",
       "    </tr>\n",
       "    <tr>\n",
       "      <th>std</th>\n",
       "      <td>0 days 00:00:14.912969</td>\n",
       "    </tr>\n",
       "    <tr>\n",
       "      <th>min</th>\n",
       "      <td>0 days 00:00:02.400000</td>\n",
       "    </tr>\n",
       "    <tr>\n",
       "      <th>25%</th>\n",
       "      <td>0 days 00:00:06.200000</td>\n",
       "    </tr>\n",
       "    <tr>\n",
       "      <th>50%</th>\n",
       "      <td>0 days 00:00:10.400000</td>\n",
       "    </tr>\n",
       "    <tr>\n",
       "      <th>75%</th>\n",
       "      <td>0 days 00:00:20.400000</td>\n",
       "    </tr>\n",
       "    <tr>\n",
       "      <th>max</th>\n",
       "      <td>0 days 00:01:20</td>\n",
       "    </tr>\n",
       "  </tbody>\n",
       "</table>\n",
       "</div>"
      ],
      "text/plain": [
       "             _time_to_respond\n",
       "index                        \n",
       "count                     545\n",
       "mean   0 days 00:00:16.027522\n",
       "std    0 days 00:00:14.912969\n",
       "min    0 days 00:00:02.400000\n",
       "25%    0 days 00:00:06.200000\n",
       "50%    0 days 00:00:10.400000\n",
       "75%    0 days 00:00:20.400000\n",
       "max           0 days 00:01:20"
      ]
     },
     "execution_count": 6,
     "metadata": {},
     "output_type": "execute_result"
    }
   ],
   "source": [
    "second_pilot['_time_to_respond'] = (second_pilot._created_at.apply(lambda x: datetime.strptime(x, \"%m/%d/%Y %H:%M:%S\"))-second_pilot._started_at.apply(lambda x: datetime.strptime(x, \"%m/%d/%Y %H:%M:%S\")))/5\n",
    "second_pilot['_time_to_respond'].describe().reset_index().set_index('index')"
   ]
  },
  {
   "cell_type": "markdown",
   "metadata": {},
   "source": [
    "### Contibutor countries"
   ]
  },
  {
   "cell_type": "markdown",
   "metadata": {},
   "source": [
    "## Design changes for final Experiments"
   ]
  },
  {
   "cell_type": "markdown",
   "metadata": {},
   "source": [
    "# Experimental Setup"
   ]
  },
  {
   "cell_type": "markdown",
   "metadata": {},
   "source": [
    "## Control"
   ]
  },
  {
   "cell_type": "markdown",
   "metadata": {},
   "source": [
    "## Treatment 1 - Public Good"
   ]
  },
  {
   "cell_type": "markdown",
   "metadata": {},
   "source": [
    "## Treatment 2 - Evaluated"
   ]
  },
  {
   "cell_type": "markdown",
   "metadata": {},
   "source": [
    "## Defining $\\tau$"
   ]
  },
  {
   "cell_type": "markdown",
   "metadata": {},
   "source": [
    "## Defining Compliance"
   ]
  },
  {
   "cell_type": "markdown",
   "metadata": {},
   "source": [
    "# Assumptions "
   ]
  },
  {
   "cell_type": "markdown",
   "metadata": {},
   "source": [
    "## Exclusion restriction"
   ]
  },
  {
   "cell_type": "markdown",
   "metadata": {},
   "source": [
    "## Non interference"
   ]
  },
  {
   "cell_type": "markdown",
   "metadata": {},
   "source": [
    "# Results"
   ]
  },
  {
   "cell_type": "markdown",
   "metadata": {},
   "source": [
    "# Caveats "
   ]
  },
  {
   "cell_type": "markdown",
   "metadata": {},
   "source": [
    "# Conclusion "
   ]
  },
  {
   "cell_type": "markdown",
   "metadata": {},
   "source": [
    "# Appendix"
   ]
  }
 ],
 "metadata": {
  "kernelspec": {
   "display_name": "Python 3",
   "language": "python",
   "name": "python3"
  },
  "language_info": {
   "codemirror_mode": {
    "name": "ipython",
    "version": 3
   },
   "file_extension": ".py",
   "mimetype": "text/x-python",
   "name": "python",
   "nbconvert_exporter": "python",
   "pygments_lexer": "ipython3",
   "version": "3.5.4"
  },
  "latex_envs": {
   "LaTeX_envs_menu_present": true,
   "autoclose": false,
   "autocomplete": true,
   "bibliofile": "biblio.bib",
   "cite_by": "apalike",
   "current_citInitial": 1,
   "eqLabelWithNumbers": true,
   "eqNumInitial": 1,
   "hotkeys": {
    "equation": "Ctrl-E",
    "itemize": "Ctrl-I"
   },
   "labels_anchors": true,
   "latex_user_defs": false,
   "report_style_numbering": false,
   "user_envs_cfg": false
  },
  "toc": {
   "base_numbering": 1,
   "nav_menu": {},
   "number_sections": true,
   "sideBar": true,
   "skip_h1_title": false,
   "title_cell": "Table of Contents",
   "title_sidebar": "W241 - Final Project Presentation",
   "toc_cell": false,
   "toc_position": {
    "height": "calc(100% - 180px)",
    "left": "10px",
    "top": "150px",
    "width": "319.097px"
   },
   "toc_section_display": true,
   "toc_window_display": true
  },
  "varInspector": {
   "cols": {
    "lenName": 16,
    "lenType": 16,
    "lenVar": 40
   },
   "kernels_config": {
    "python": {
     "delete_cmd_postfix": "",
     "delete_cmd_prefix": "del ",
     "library": "var_list.py",
     "varRefreshCmd": "print(var_dic_list())"
    },
    "r": {
     "delete_cmd_postfix": ") ",
     "delete_cmd_prefix": "rm(",
     "library": "var_list.r",
     "varRefreshCmd": "cat(var_dic_list()) "
    }
   },
   "types_to_exclude": [
    "module",
    "function",
    "builtin_function_or_method",
    "instance",
    "_Feature"
   ],
   "window_display": false
  }
 },
 "nbformat": 4,
 "nbformat_minor": 2
}
