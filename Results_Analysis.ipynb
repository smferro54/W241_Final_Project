{
 "cells": [
  {
   "cell_type": "code",
   "execution_count": 2,
   "metadata": {
    "hide_input": false
   },
   "outputs": [],
   "source": [
    "import numpy as np\n",
    "import pandas as pd\n",
    "from datetime import datetime\n",
    "from scipy.stats import norm"
   ]
  },
  {
   "cell_type": "code",
   "execution_count": 3,
   "metadata": {
    "hide_input": false,
    "scrolled": true
   },
   "outputs": [],
   "source": [
    "# read in all the raw files\n",
    "first_pilot = pd.read_csv('first_pilot.csv')\n",
    "second_pilot = pd.read_csv('second_pilot.csv')\n",
    "control = pd.read_csv('manipulated_data_control_full_dropped.csv')\n",
    "publicgood = pd.read_csv('manipulated_data_publicgood_full_dropped.csv')\n",
    "evaluation = pd.read_csv('manipulated_data_evaluation_full_dropped.csv')"
   ]
  },
  {
   "cell_type": "code",
   "execution_count": 4,
   "metadata": {},
   "outputs": [
    {
     "data": {
      "text/html": [
       "<div>\n",
       "<style>\n",
       "    .dataframe thead tr:only-child th {\n",
       "        text-align: right;\n",
       "    }\n",
       "\n",
       "    .dataframe thead th {\n",
       "        text-align: left;\n",
       "    }\n",
       "\n",
       "    .dataframe tbody tr th {\n",
       "        vertical-align: top;\n",
       "    }\n",
       "</style>\n",
       "<table border=\"1\" class=\"dataframe\">\n",
       "  <thead>\n",
       "    <tr style=\"text-align: right;\">\n",
       "      <th></th>\n",
       "      <th>_unit_id</th>\n",
       "      <th>_created_at</th>\n",
       "      <th>_golden</th>\n",
       "      <th>_id</th>\n",
       "      <th>_missed</th>\n",
       "      <th>_started_at</th>\n",
       "      <th>_tainted</th>\n",
       "      <th>_channel</th>\n",
       "      <th>_trust</th>\n",
       "      <th>_worker_id</th>\n",
       "      <th>_country</th>\n",
       "      <th>_region</th>\n",
       "      <th>_city</th>\n",
       "      <th>_ip</th>\n",
       "      <th>please_select_the_sentiment_feeling_of_the_product_review</th>\n",
       "      <th>1</th>\n",
       "      <th>label</th>\n",
       "      <th>please_select_the_sentiment_feeling_of_the_product_review_gold</th>\n",
       "      <th>text</th>\n",
       "      <th>this_is_a_lion</th>\n",
       "    </tr>\n",
       "  </thead>\n",
       "  <tbody>\n",
       "    <tr>\n",
       "      <th>0</th>\n",
       "      <td>2216121972</td>\n",
       "      <td>3/26/2019 02:26:13</td>\n",
       "      <td>False</td>\n",
       "      <td>4661147698</td>\n",
       "      <td>NaN</td>\n",
       "      <td>3/26/2019 02:25:39</td>\n",
       "      <td>False</td>\n",
       "      <td>clixsense</td>\n",
       "      <td>1.0</td>\n",
       "      <td>44980050</td>\n",
       "      <td>TUR</td>\n",
       "      <td>68</td>\n",
       "      <td>Ankara</td>\n",
       "      <td>94.54.16.1</td>\n",
       "      <td>0</td>\n",
       "      <td>NaN</td>\n",
       "      <td>0</td>\n",
       "      <td>NaN</td>\n",
       "      <td>So there is no way for me to plug it in here i...</td>\n",
       "      <td>NaN</td>\n",
       "    </tr>\n",
       "    <tr>\n",
       "      <th>1</th>\n",
       "      <td>2216121972</td>\n",
       "      <td>3/26/2019 02:27:58</td>\n",
       "      <td>False</td>\n",
       "      <td>4661150595</td>\n",
       "      <td>NaN</td>\n",
       "      <td>3/26/2019 02:27:19</td>\n",
       "      <td>False</td>\n",
       "      <td>clixsense</td>\n",
       "      <td>1.0</td>\n",
       "      <td>38124457</td>\n",
       "      <td>VEN</td>\n",
       "      <td>19</td>\n",
       "      <td>Agua Fría</td>\n",
       "      <td>190.198.247.68</td>\n",
       "      <td>0</td>\n",
       "      <td>NaN</td>\n",
       "      <td>0</td>\n",
       "      <td>NaN</td>\n",
       "      <td>So there is no way for me to plug it in here i...</td>\n",
       "      <td>NaN</td>\n",
       "    </tr>\n",
       "    <tr>\n",
       "      <th>2</th>\n",
       "      <td>2216121972</td>\n",
       "      <td>3/26/2019 02:33:59</td>\n",
       "      <td>False</td>\n",
       "      <td>4661159939</td>\n",
       "      <td>NaN</td>\n",
       "      <td>3/26/2019 02:33:36</td>\n",
       "      <td>False</td>\n",
       "      <td>clixsense</td>\n",
       "      <td>1.0</td>\n",
       "      <td>44386985</td>\n",
       "      <td>TUR</td>\n",
       "      <td>NaN</td>\n",
       "      <td>NaN</td>\n",
       "      <td>176.88.93.233</td>\n",
       "      <td>0</td>\n",
       "      <td>NaN</td>\n",
       "      <td>0</td>\n",
       "      <td>NaN</td>\n",
       "      <td>So there is no way for me to plug it in here i...</td>\n",
       "      <td>NaN</td>\n",
       "    </tr>\n",
       "    <tr>\n",
       "      <th>3</th>\n",
       "      <td>2216121973</td>\n",
       "      <td>3/26/2019 02:26:13</td>\n",
       "      <td>False</td>\n",
       "      <td>4661147690</td>\n",
       "      <td>NaN</td>\n",
       "      <td>3/26/2019 02:25:39</td>\n",
       "      <td>False</td>\n",
       "      <td>clixsense</td>\n",
       "      <td>1.0</td>\n",
       "      <td>44980050</td>\n",
       "      <td>TUR</td>\n",
       "      <td>68</td>\n",
       "      <td>Ankara</td>\n",
       "      <td>94.54.16.1</td>\n",
       "      <td>1</td>\n",
       "      <td>NaN</td>\n",
       "      <td>1</td>\n",
       "      <td>NaN</td>\n",
       "      <td>Good case, Excellent value.</td>\n",
       "      <td>NaN</td>\n",
       "    </tr>\n",
       "    <tr>\n",
       "      <th>4</th>\n",
       "      <td>2216121973</td>\n",
       "      <td>3/26/2019 02:27:58</td>\n",
       "      <td>False</td>\n",
       "      <td>4661150604</td>\n",
       "      <td>NaN</td>\n",
       "      <td>3/26/2019 02:27:19</td>\n",
       "      <td>False</td>\n",
       "      <td>clixsense</td>\n",
       "      <td>1.0</td>\n",
       "      <td>38124457</td>\n",
       "      <td>VEN</td>\n",
       "      <td>19</td>\n",
       "      <td>Agua Fría</td>\n",
       "      <td>190.198.247.68</td>\n",
       "      <td>1</td>\n",
       "      <td>NaN</td>\n",
       "      <td>1</td>\n",
       "      <td>NaN</td>\n",
       "      <td>Good case, Excellent value.</td>\n",
       "      <td>NaN</td>\n",
       "    </tr>\n",
       "  </tbody>\n",
       "</table>\n",
       "</div>"
      ],
      "text/plain": [
       "     _unit_id         _created_at  _golden         _id _missed  \\\n",
       "0  2216121972  3/26/2019 02:26:13    False  4661147698     NaN   \n",
       "1  2216121972  3/26/2019 02:27:58    False  4661150595     NaN   \n",
       "2  2216121972  3/26/2019 02:33:59    False  4661159939     NaN   \n",
       "3  2216121973  3/26/2019 02:26:13    False  4661147690     NaN   \n",
       "4  2216121973  3/26/2019 02:27:58    False  4661150604     NaN   \n",
       "\n",
       "          _started_at  _tainted   _channel  _trust  _worker_id _country  \\\n",
       "0  3/26/2019 02:25:39     False  clixsense     1.0    44980050      TUR   \n",
       "1  3/26/2019 02:27:19     False  clixsense     1.0    38124457      VEN   \n",
       "2  3/26/2019 02:33:36     False  clixsense     1.0    44386985      TUR   \n",
       "3  3/26/2019 02:25:39     False  clixsense     1.0    44980050      TUR   \n",
       "4  3/26/2019 02:27:19     False  clixsense     1.0    38124457      VEN   \n",
       "\n",
       "  _region      _city             _ip  \\\n",
       "0      68     Ankara      94.54.16.1   \n",
       "1      19  Agua Fría  190.198.247.68   \n",
       "2     NaN        NaN   176.88.93.233   \n",
       "3      68     Ankara      94.54.16.1   \n",
       "4      19  Agua Fría  190.198.247.68   \n",
       "\n",
       "   please_select_the_sentiment_feeling_of_the_product_review   1  label  \\\n",
       "0                                                  0         NaN      0   \n",
       "1                                                  0         NaN      0   \n",
       "2                                                  0         NaN      0   \n",
       "3                                                  1         NaN      1   \n",
       "4                                                  1         NaN      1   \n",
       "\n",
       "   please_select_the_sentiment_feeling_of_the_product_review_gold  \\\n",
       "0                                                NaN                \n",
       "1                                                NaN                \n",
       "2                                                NaN                \n",
       "3                                                NaN                \n",
       "4                                                NaN                \n",
       "\n",
       "                                                text  this_is_a_lion  \n",
       "0  So there is no way for me to plug it in here i...             NaN  \n",
       "1  So there is no way for me to plug it in here i...             NaN  \n",
       "2  So there is no way for me to plug it in here i...             NaN  \n",
       "3                        Good case, Excellent value.             NaN  \n",
       "4                        Good case, Excellent value.             NaN  "
      ]
     },
     "execution_count": 4,
     "metadata": {},
     "output_type": "execute_result"
    }
   ],
   "source": [
    "first_pilot.head()"
   ]
  },
  {
   "cell_type": "code",
   "execution_count": 7,
   "metadata": {},
   "outputs": [
    {
     "data": {
      "text/plain": [
       "Index(['_unit_id', '_created_at', '_golden', '_id', '_missed', '_started_at',\n",
       "       '_tainted', '_channel', '_trust', '_worker_id', '_country', '_region',\n",
       "       '_city', '_ip',\n",
       "       'please_select_the_sentiment_feeling_of_the_product_review', '1',\n",
       "       'label',\n",
       "       'please_select_the_sentiment_feeling_of_the_product_review_gold',\n",
       "       'text', 'this_is_a_lion'],\n",
       "      dtype='object')"
      ]
     },
     "execution_count": 7,
     "metadata": {},
     "output_type": "execute_result"
    }
   ],
   "source": [
    "first_pilot.columns"
   ]
  },
  {
   "cell_type": "code",
   "execution_count": 10,
   "metadata": {},
   "outputs": [
    {
     "data": {
      "text/html": [
       "<div>\n",
       "<style>\n",
       "    .dataframe thead tr:only-child th {\n",
       "        text-align: right;\n",
       "    }\n",
       "\n",
       "    .dataframe thead th {\n",
       "        text-align: left;\n",
       "    }\n",
       "\n",
       "    .dataframe tbody tr th {\n",
       "        vertical-align: top;\n",
       "    }\n",
       "</style>\n",
       "<table border=\"1\" class=\"dataframe\">\n",
       "  <thead>\n",
       "    <tr style=\"text-align: right;\">\n",
       "      <th></th>\n",
       "      <th>_unit_id</th>\n",
       "      <th>_created_at</th>\n",
       "      <th>_golden</th>\n",
       "      <th>_id</th>\n",
       "      <th>_missed</th>\n",
       "      <th>_started_at</th>\n",
       "      <th>_tainted</th>\n",
       "      <th>_channel</th>\n",
       "      <th>_trust</th>\n",
       "      <th>_worker_id</th>\n",
       "      <th>_country</th>\n",
       "      <th>_region</th>\n",
       "      <th>_city</th>\n",
       "      <th>_ip</th>\n",
       "      <th>please_select_the_sentiment_feeling_of_the_product_review</th>\n",
       "      <th>1</th>\n",
       "      <th>label</th>\n",
       "      <th>please_select_the_sentiment_feeling_of_the_product_review_gold</th>\n",
       "      <th>text</th>\n",
       "      <th>this_is_a_lion</th>\n",
       "    </tr>\n",
       "  </thead>\n",
       "  <tbody>\n",
       "    <tr>\n",
       "      <th>300</th>\n",
       "      <td>2216130240</td>\n",
       "      <td>3/26/2019 02:25:37</td>\n",
       "      <td>True</td>\n",
       "      <td>4661146706</td>\n",
       "      <td>NaN</td>\n",
       "      <td>3/26/2019 02:24:55</td>\n",
       "      <td>False</td>\n",
       "      <td>clixsense</td>\n",
       "      <td>1.0</td>\n",
       "      <td>44980050</td>\n",
       "      <td>TUR</td>\n",
       "      <td>68</td>\n",
       "      <td>Ankara</td>\n",
       "      <td>94.54.16.1</td>\n",
       "      <td>1</td>\n",
       "      <td>NaN</td>\n",
       "      <td>1</td>\n",
       "      <td>1.0</td>\n",
       "      <td>This is a lion</td>\n",
       "      <td>NaN</td>\n",
       "    </tr>\n",
       "    <tr>\n",
       "      <th>333</th>\n",
       "      <td>2218243929</td>\n",
       "      <td>3/26/2019 02:25:37</td>\n",
       "      <td>True</td>\n",
       "      <td>4661146712</td>\n",
       "      <td>NaN</td>\n",
       "      <td>3/26/2019 02:24:55</td>\n",
       "      <td>False</td>\n",
       "      <td>clixsense</td>\n",
       "      <td>1.0</td>\n",
       "      <td>44980050</td>\n",
       "      <td>TUR</td>\n",
       "      <td>68</td>\n",
       "      <td>Ankara</td>\n",
       "      <td>94.54.16.1</td>\n",
       "      <td>1</td>\n",
       "      <td>NaN</td>\n",
       "      <td>1</td>\n",
       "      <td>1.0</td>\n",
       "      <td>This is a lion</td>\n",
       "      <td>NaN</td>\n",
       "    </tr>\n",
       "    <tr>\n",
       "      <th>362</th>\n",
       "      <td>2218245535</td>\n",
       "      <td>3/26/2019 02:25:37</td>\n",
       "      <td>True</td>\n",
       "      <td>4661146708</td>\n",
       "      <td>NaN</td>\n",
       "      <td>3/26/2019 02:24:55</td>\n",
       "      <td>False</td>\n",
       "      <td>clixsense</td>\n",
       "      <td>1.0</td>\n",
       "      <td>44980050</td>\n",
       "      <td>TUR</td>\n",
       "      <td>68</td>\n",
       "      <td>Ankara</td>\n",
       "      <td>94.54.16.1</td>\n",
       "      <td>1</td>\n",
       "      <td>NaN</td>\n",
       "      <td>1</td>\n",
       "      <td>1.0</td>\n",
       "      <td>This is a lion</td>\n",
       "      <td>NaN</td>\n",
       "    </tr>\n",
       "    <tr>\n",
       "      <th>582</th>\n",
       "      <td>2218246446</td>\n",
       "      <td>3/26/2019 02:25:37</td>\n",
       "      <td>True</td>\n",
       "      <td>4661146711</td>\n",
       "      <td>NaN</td>\n",
       "      <td>3/26/2019 02:24:55</td>\n",
       "      <td>False</td>\n",
       "      <td>clixsense</td>\n",
       "      <td>1.0</td>\n",
       "      <td>44980050</td>\n",
       "      <td>TUR</td>\n",
       "      <td>68</td>\n",
       "      <td>Ankara</td>\n",
       "      <td>94.54.16.1</td>\n",
       "      <td>1</td>\n",
       "      <td>NaN</td>\n",
       "      <td>1</td>\n",
       "      <td>1.0</td>\n",
       "      <td>This is a lion</td>\n",
       "      <td>NaN</td>\n",
       "    </tr>\n",
       "    <tr>\n",
       "      <th>686</th>\n",
       "      <td>2218246733</td>\n",
       "      <td>3/26/2019 02:25:37</td>\n",
       "      <td>True</td>\n",
       "      <td>4661146715</td>\n",
       "      <td>NaN</td>\n",
       "      <td>3/26/2019 02:24:55</td>\n",
       "      <td>False</td>\n",
       "      <td>clixsense</td>\n",
       "      <td>1.0</td>\n",
       "      <td>44980050</td>\n",
       "      <td>TUR</td>\n",
       "      <td>68</td>\n",
       "      <td>Ankara</td>\n",
       "      <td>94.54.16.1</td>\n",
       "      <td>1</td>\n",
       "      <td>NaN</td>\n",
       "      <td>1</td>\n",
       "      <td>1.0</td>\n",
       "      <td>This is a lion</td>\n",
       "      <td>NaN</td>\n",
       "    </tr>\n",
       "    <tr>\n",
       "      <th>0</th>\n",
       "      <td>2216121972</td>\n",
       "      <td>3/26/2019 02:26:13</td>\n",
       "      <td>False</td>\n",
       "      <td>4661147698</td>\n",
       "      <td>NaN</td>\n",
       "      <td>3/26/2019 02:25:39</td>\n",
       "      <td>False</td>\n",
       "      <td>clixsense</td>\n",
       "      <td>1.0</td>\n",
       "      <td>44980050</td>\n",
       "      <td>TUR</td>\n",
       "      <td>68</td>\n",
       "      <td>Ankara</td>\n",
       "      <td>94.54.16.1</td>\n",
       "      <td>0</td>\n",
       "      <td>NaN</td>\n",
       "      <td>0</td>\n",
       "      <td>NaN</td>\n",
       "      <td>So there is no way for me to plug it in here i...</td>\n",
       "      <td>NaN</td>\n",
       "    </tr>\n",
       "    <tr>\n",
       "      <th>3</th>\n",
       "      <td>2216121973</td>\n",
       "      <td>3/26/2019 02:26:13</td>\n",
       "      <td>False</td>\n",
       "      <td>4661147690</td>\n",
       "      <td>NaN</td>\n",
       "      <td>3/26/2019 02:25:39</td>\n",
       "      <td>False</td>\n",
       "      <td>clixsense</td>\n",
       "      <td>1.0</td>\n",
       "      <td>44980050</td>\n",
       "      <td>TUR</td>\n",
       "      <td>68</td>\n",
       "      <td>Ankara</td>\n",
       "      <td>94.54.16.1</td>\n",
       "      <td>1</td>\n",
       "      <td>NaN</td>\n",
       "      <td>1</td>\n",
       "      <td>NaN</td>\n",
       "      <td>Good case, Excellent value.</td>\n",
       "      <td>NaN</td>\n",
       "    </tr>\n",
       "    <tr>\n",
       "      <th>6</th>\n",
       "      <td>2216121974</td>\n",
       "      <td>3/26/2019 02:26:13</td>\n",
       "      <td>False</td>\n",
       "      <td>4661147697</td>\n",
       "      <td>NaN</td>\n",
       "      <td>3/26/2019 02:25:39</td>\n",
       "      <td>False</td>\n",
       "      <td>clixsense</td>\n",
       "      <td>1.0</td>\n",
       "      <td>44980050</td>\n",
       "      <td>TUR</td>\n",
       "      <td>68</td>\n",
       "      <td>Ankara</td>\n",
       "      <td>94.54.16.1</td>\n",
       "      <td>1</td>\n",
       "      <td>NaN</td>\n",
       "      <td>1</td>\n",
       "      <td>NaN</td>\n",
       "      <td>Great for the jawbone.</td>\n",
       "      <td>NaN</td>\n",
       "    </tr>\n",
       "    <tr>\n",
       "      <th>9</th>\n",
       "      <td>2216121975</td>\n",
       "      <td>3/26/2019 02:26:13</td>\n",
       "      <td>False</td>\n",
       "      <td>4661147694</td>\n",
       "      <td>NaN</td>\n",
       "      <td>3/26/2019 02:25:39</td>\n",
       "      <td>False</td>\n",
       "      <td>clixsense</td>\n",
       "      <td>1.0</td>\n",
       "      <td>44980050</td>\n",
       "      <td>TUR</td>\n",
       "      <td>68</td>\n",
       "      <td>Ankara</td>\n",
       "      <td>94.54.16.1</td>\n",
       "      <td>0</td>\n",
       "      <td>NaN</td>\n",
       "      <td>0</td>\n",
       "      <td>NaN</td>\n",
       "      <td>Tied to charger for conversations lasting more...</td>\n",
       "      <td>NaN</td>\n",
       "    </tr>\n",
       "    <tr>\n",
       "      <th>478</th>\n",
       "      <td>2218245921</td>\n",
       "      <td>3/26/2019 02:26:13</td>\n",
       "      <td>True</td>\n",
       "      <td>4661147692</td>\n",
       "      <td>NaN</td>\n",
       "      <td>3/26/2019 02:25:39</td>\n",
       "      <td>False</td>\n",
       "      <td>clixsense</td>\n",
       "      <td>1.0</td>\n",
       "      <td>44980050</td>\n",
       "      <td>TUR</td>\n",
       "      <td>68</td>\n",
       "      <td>Ankara</td>\n",
       "      <td>94.54.16.1</td>\n",
       "      <td>1</td>\n",
       "      <td>NaN</td>\n",
       "      <td>1</td>\n",
       "      <td>1.0</td>\n",
       "      <td>This is a lion</td>\n",
       "      <td>NaN</td>\n",
       "    </tr>\n",
       "  </tbody>\n",
       "</table>\n",
       "</div>"
      ],
      "text/plain": [
       "       _unit_id         _created_at  _golden         _id _missed  \\\n",
       "300  2216130240  3/26/2019 02:25:37     True  4661146706     NaN   \n",
       "333  2218243929  3/26/2019 02:25:37     True  4661146712     NaN   \n",
       "362  2218245535  3/26/2019 02:25:37     True  4661146708     NaN   \n",
       "582  2218246446  3/26/2019 02:25:37     True  4661146711     NaN   \n",
       "686  2218246733  3/26/2019 02:25:37     True  4661146715     NaN   \n",
       "0    2216121972  3/26/2019 02:26:13    False  4661147698     NaN   \n",
       "3    2216121973  3/26/2019 02:26:13    False  4661147690     NaN   \n",
       "6    2216121974  3/26/2019 02:26:13    False  4661147697     NaN   \n",
       "9    2216121975  3/26/2019 02:26:13    False  4661147694     NaN   \n",
       "478  2218245921  3/26/2019 02:26:13     True  4661147692     NaN   \n",
       "\n",
       "            _started_at  _tainted   _channel  _trust  _worker_id _country  \\\n",
       "300  3/26/2019 02:24:55     False  clixsense     1.0    44980050      TUR   \n",
       "333  3/26/2019 02:24:55     False  clixsense     1.0    44980050      TUR   \n",
       "362  3/26/2019 02:24:55     False  clixsense     1.0    44980050      TUR   \n",
       "582  3/26/2019 02:24:55     False  clixsense     1.0    44980050      TUR   \n",
       "686  3/26/2019 02:24:55     False  clixsense     1.0    44980050      TUR   \n",
       "0    3/26/2019 02:25:39     False  clixsense     1.0    44980050      TUR   \n",
       "3    3/26/2019 02:25:39     False  clixsense     1.0    44980050      TUR   \n",
       "6    3/26/2019 02:25:39     False  clixsense     1.0    44980050      TUR   \n",
       "9    3/26/2019 02:25:39     False  clixsense     1.0    44980050      TUR   \n",
       "478  3/26/2019 02:25:39     False  clixsense     1.0    44980050      TUR   \n",
       "\n",
       "    _region   _city         _ip  \\\n",
       "300      68  Ankara  94.54.16.1   \n",
       "333      68  Ankara  94.54.16.1   \n",
       "362      68  Ankara  94.54.16.1   \n",
       "582      68  Ankara  94.54.16.1   \n",
       "686      68  Ankara  94.54.16.1   \n",
       "0        68  Ankara  94.54.16.1   \n",
       "3        68  Ankara  94.54.16.1   \n",
       "6        68  Ankara  94.54.16.1   \n",
       "9        68  Ankara  94.54.16.1   \n",
       "478      68  Ankara  94.54.16.1   \n",
       "\n",
       "     please_select_the_sentiment_feeling_of_the_product_review   1  label  \\\n",
       "300                                                  1         NaN      1   \n",
       "333                                                  1         NaN      1   \n",
       "362                                                  1         NaN      1   \n",
       "582                                                  1         NaN      1   \n",
       "686                                                  1         NaN      1   \n",
       "0                                                    0         NaN      0   \n",
       "3                                                    1         NaN      1   \n",
       "6                                                    1         NaN      1   \n",
       "9                                                    0         NaN      0   \n",
       "478                                                  1         NaN      1   \n",
       "\n",
       "     please_select_the_sentiment_feeling_of_the_product_review_gold  \\\n",
       "300                                                1.0                \n",
       "333                                                1.0                \n",
       "362                                                1.0                \n",
       "582                                                1.0                \n",
       "686                                                1.0                \n",
       "0                                                  NaN                \n",
       "3                                                  NaN                \n",
       "6                                                  NaN                \n",
       "9                                                  NaN                \n",
       "478                                                1.0                \n",
       "\n",
       "                                                  text  this_is_a_lion  \n",
       "300                                     This is a lion             NaN  \n",
       "333                                     This is a lion             NaN  \n",
       "362                                     This is a lion             NaN  \n",
       "582                                     This is a lion             NaN  \n",
       "686                                     This is a lion             NaN  \n",
       "0    So there is no way for me to plug it in here i...             NaN  \n",
       "3                          Good case, Excellent value.             NaN  \n",
       "6                               Great for the jawbone.             NaN  \n",
       "9    Tied to charger for conversations lasting more...             NaN  \n",
       "478                                     This is a lion             NaN  "
      ]
     },
     "execution_count": 10,
     "metadata": {},
     "output_type": "execute_result"
    }
   ],
   "source": [
    "first_pilot[first_pilot['_worker_id'] == 44980050].sort_values('_started_at')"
   ]
  },
  {
   "cell_type": "code",
   "execution_count": null,
   "metadata": {},
   "outputs": [],
   "source": []
  },
  {
   "cell_type": "markdown",
   "metadata": {
    "heading_collapsed": true
   },
   "source": [
    "### Fields \n",
    "\n",
    "\n",
    "    _unit_id: A unique ID number created by the system for each question\n",
    "    _created_at: The time the contributor submitted the judgement \n",
    "    _golden: This will be \"true\" if this is a test question, otherwise it is \"false\"\n",
    "    _id: A unique ID number generated for this specific judgment\n",
    "    _missed: This will be \"true\" if the row is an incorrect judgment on a test question.\n",
    "    _started_at: The time at which the contributor started working on the judgement\n",
    "    _tainted: This will be \"true\" if the contributor has been flagged for falling below the required accuracy.\n",
    "    _channel: The work channel that the contributor accessed the job through.\n",
    "    _trust: The contributor's accuracy. \n",
    "    _worker_id: A unique ID number assigned to the contributor.\n",
    "    _country: The country the contributor is from.\n",
    "    _region: A region code for the area the contributor is from.\n",
    "    _city: The city the contributor is from.\n",
    "    _ip: The IP address for the contributor.\n",
    "    {{field}}: There will be a column for each field in the job, with a header equal to the field's name.\n",
    "    {{field}}_gold: The correct answer for the test question.\n",
    "\n",
    "In general, we're interested in the variance for each question. We can use time of response, trust scores and cities to check the balances between groups. The tainted indicator tells us who was dropped and we can report on their statistics. "
   ]
  },
  {
   "cell_type": "markdown",
   "metadata": {},
   "source": [
    "# First pilot"
   ]
  },
  {
   "cell_type": "code",
   "execution_count": 3,
   "metadata": {},
   "outputs": [
    {
     "name": "stdout",
     "output_type": "stream",
     "text": [
      "Index(['_unit_id', '_created_at', '_golden', '_id', '_missed', '_started_at',\n",
      "       '_tainted', '_channel', '_trust', '_worker_id', '_country', '_region',\n",
      "       '_city', '_ip',\n",
      "       'please_select_the_sentiment_feeling_of_the_product_review', '1',\n",
      "       'label',\n",
      "       'please_select_the_sentiment_feeling_of_the_product_review_gold',\n",
      "       'text', 'this_is_a_lion'],\n",
      "      dtype='object')\n"
     ]
    }
   ],
   "source": [
    "# Check fields\n",
    "print(first_pilot.columns)"
   ]
  },
  {
   "cell_type": "markdown",
   "metadata": {},
   "source": [
    "### How much time did they take to respond?"
   ]
  },
  {
   "cell_type": "code",
   "execution_count": 4,
   "metadata": {
    "collapsed": true
   },
   "outputs": [],
   "source": [
    "first_pilot['_time_to_respond'] = first_pilot._created_at.apply(lambda x: datetime.strptime(x, \"%m/%d/%Y %H:%M:%S\"))-first_pilot._started_at.apply(lambda x: datetime.strptime(x, \"%m/%d/%Y %H:%M:%S\"))"
   ]
  },
  {
   "cell_type": "code",
   "execution_count": 63,
   "metadata": {},
   "outputs": [
    {
     "data": {
      "text/html": [
       "<div>\n",
       "<style scoped>\n",
       "    .dataframe tbody tr th:only-of-type {\n",
       "        vertical-align: middle;\n",
       "    }\n",
       "\n",
       "    .dataframe tbody tr th {\n",
       "        vertical-align: top;\n",
       "    }\n",
       "\n",
       "    .dataframe thead th {\n",
       "        text-align: right;\n",
       "    }\n",
       "</style>\n",
       "<table border=\"1\" class=\"dataframe\">\n",
       "  <thead>\n",
       "    <tr style=\"text-align: right;\">\n",
       "      <th></th>\n",
       "      <th>_unit_id</th>\n",
       "      <th>_id</th>\n",
       "      <th>_trust</th>\n",
       "      <th>_worker_id</th>\n",
       "      <th>please_select_the_sentiment_feeling_of_the_product_review</th>\n",
       "      <th>1</th>\n",
       "      <th>label</th>\n",
       "      <th>please_select_the_sentiment_feeling_of_the_product_review_gold</th>\n",
       "      <th>this_is_a_lion</th>\n",
       "      <th>_time_to_respond</th>\n",
       "      <th>correct_pct</th>\n",
       "    </tr>\n",
       "  </thead>\n",
       "  <tbody>\n",
       "    <tr>\n",
       "      <th>count</th>\n",
       "      <td>7.600000e+02</td>\n",
       "      <td>7.600000e+02</td>\n",
       "      <td>760.000000</td>\n",
       "      <td>7.600000e+02</td>\n",
       "      <td>760.000000</td>\n",
       "      <td>0.0</td>\n",
       "      <td>760.000000</td>\n",
       "      <td>460.0</td>\n",
       "      <td>0.0</td>\n",
       "      <td>760</td>\n",
       "      <td>760.000000</td>\n",
       "    </tr>\n",
       "    <tr>\n",
       "      <th>mean</th>\n",
       "      <td>2.217316e+09</td>\n",
       "      <td>4.661306e+09</td>\n",
       "      <td>0.982455</td>\n",
       "      <td>3.997407e+07</td>\n",
       "      <td>0.810526</td>\n",
       "      <td>NaN</td>\n",
       "      <td>0.806579</td>\n",
       "      <td>1.0</td>\n",
       "      <td>NaN</td>\n",
       "      <td>0 days 00:01:09.368421</td>\n",
       "      <td>96.447368</td>\n",
       "    </tr>\n",
       "    <tr>\n",
       "      <th>std</th>\n",
       "      <td>1.054164e+06</td>\n",
       "      <td>9.954427e+04</td>\n",
       "      <td>0.074482</td>\n",
       "      <td>8.022212e+06</td>\n",
       "      <td>0.392143</td>\n",
       "      <td>NaN</td>\n",
       "      <td>0.395240</td>\n",
       "      <td>0.0</td>\n",
       "      <td>NaN</td>\n",
       "      <td>0 days 00:01:09.090237</td>\n",
       "      <td>18.522781</td>\n",
       "    </tr>\n",
       "    <tr>\n",
       "      <th>min</th>\n",
       "      <td>2.216122e+09</td>\n",
       "      <td>4.661147e+09</td>\n",
       "      <td>0.500000</td>\n",
       "      <td>6.342275e+06</td>\n",
       "      <td>0.000000</td>\n",
       "      <td>NaN</td>\n",
       "      <td>0.000000</td>\n",
       "      <td>1.0</td>\n",
       "      <td>NaN</td>\n",
       "      <td>0 days 00:00:12</td>\n",
       "      <td>0.000000</td>\n",
       "    </tr>\n",
       "    <tr>\n",
       "      <th>25%</th>\n",
       "      <td>2.216122e+09</td>\n",
       "      <td>4.661229e+09</td>\n",
       "      <td>1.000000</td>\n",
       "      <td>3.819853e+07</td>\n",
       "      <td>1.000000</td>\n",
       "      <td>NaN</td>\n",
       "      <td>1.000000</td>\n",
       "      <td>1.0</td>\n",
       "      <td>NaN</td>\n",
       "      <td>0 days 00:00:32.750000</td>\n",
       "      <td>100.000000</td>\n",
       "    </tr>\n",
       "    <tr>\n",
       "      <th>50%</th>\n",
       "      <td>2.218246e+09</td>\n",
       "      <td>4.661286e+09</td>\n",
       "      <td>1.000000</td>\n",
       "      <td>4.409445e+07</td>\n",
       "      <td>1.000000</td>\n",
       "      <td>NaN</td>\n",
       "      <td>1.000000</td>\n",
       "      <td>1.0</td>\n",
       "      <td>NaN</td>\n",
       "      <td>0 days 00:00:49</td>\n",
       "      <td>100.000000</td>\n",
       "    </tr>\n",
       "    <tr>\n",
       "      <th>75%</th>\n",
       "      <td>2.218246e+09</td>\n",
       "      <td>4.661361e+09</td>\n",
       "      <td>1.000000</td>\n",
       "      <td>4.502098e+07</td>\n",
       "      <td>1.000000</td>\n",
       "      <td>NaN</td>\n",
       "      <td>1.000000</td>\n",
       "      <td>1.0</td>\n",
       "      <td>NaN</td>\n",
       "      <td>0 days 00:01:19.250000</td>\n",
       "      <td>100.000000</td>\n",
       "    </tr>\n",
       "    <tr>\n",
       "      <th>max</th>\n",
       "      <td>2.218247e+09</td>\n",
       "      <td>4.661534e+09</td>\n",
       "      <td>1.000000</td>\n",
       "      <td>4.519039e+07</td>\n",
       "      <td>1.000000</td>\n",
       "      <td>NaN</td>\n",
       "      <td>1.000000</td>\n",
       "      <td>1.0</td>\n",
       "      <td>NaN</td>\n",
       "      <td>0 days 00:07:04</td>\n",
       "      <td>100.000000</td>\n",
       "    </tr>\n",
       "  </tbody>\n",
       "</table>\n",
       "</div>"
      ],
      "text/plain": [
       "           _unit_id           _id      _trust    _worker_id  \\\n",
       "count  7.600000e+02  7.600000e+02  760.000000  7.600000e+02   \n",
       "mean   2.217316e+09  4.661306e+09    0.982455  3.997407e+07   \n",
       "std    1.054164e+06  9.954427e+04    0.074482  8.022212e+06   \n",
       "min    2.216122e+09  4.661147e+09    0.500000  6.342275e+06   \n",
       "25%    2.216122e+09  4.661229e+09    1.000000  3.819853e+07   \n",
       "50%    2.218246e+09  4.661286e+09    1.000000  4.409445e+07   \n",
       "75%    2.218246e+09  4.661361e+09    1.000000  4.502098e+07   \n",
       "max    2.218247e+09  4.661534e+09    1.000000  4.519039e+07   \n",
       "\n",
       "       please_select_the_sentiment_feeling_of_the_product_review    1  \\\n",
       "count                                         760.000000          0.0   \n",
       "mean                                            0.810526          NaN   \n",
       "std                                             0.392143          NaN   \n",
       "min                                             0.000000          NaN   \n",
       "25%                                             1.000000          NaN   \n",
       "50%                                             1.000000          NaN   \n",
       "75%                                             1.000000          NaN   \n",
       "max                                             1.000000          NaN   \n",
       "\n",
       "            label  \\\n",
       "count  760.000000   \n",
       "mean     0.806579   \n",
       "std      0.395240   \n",
       "min      0.000000   \n",
       "25%      1.000000   \n",
       "50%      1.000000   \n",
       "75%      1.000000   \n",
       "max      1.000000   \n",
       "\n",
       "       please_select_the_sentiment_feeling_of_the_product_review_gold  \\\n",
       "count                                              460.0                \n",
       "mean                                                 1.0                \n",
       "std                                                  0.0                \n",
       "min                                                  1.0                \n",
       "25%                                                  1.0                \n",
       "50%                                                  1.0                \n",
       "75%                                                  1.0                \n",
       "max                                                  1.0                \n",
       "\n",
       "       this_is_a_lion        _time_to_respond  correct_pct  \n",
       "count             0.0                     760   760.000000  \n",
       "mean              NaN  0 days 00:01:09.368421    96.447368  \n",
       "std               NaN  0 days 00:01:09.090237    18.522781  \n",
       "min               NaN         0 days 00:00:12     0.000000  \n",
       "25%               NaN  0 days 00:00:32.750000   100.000000  \n",
       "50%               NaN         0 days 00:00:49   100.000000  \n",
       "75%               NaN  0 days 00:01:19.250000   100.000000  \n",
       "max               NaN         0 days 00:07:04   100.000000  "
      ]
     },
     "execution_count": 63,
     "metadata": {},
     "output_type": "execute_result"
    }
   ],
   "source": [
    "first_pilot.describe()"
   ]
  },
  {
   "cell_type": "code",
   "execution_count": 19,
   "metadata": {},
   "outputs": [
    {
     "data": {
      "text/plain": [
       "IND    0.164474\n",
       "UKR    0.078947\n",
       "VEN    0.065789\n",
       "ROU    0.052632\n",
       "PHL    0.052632\n",
       "RUS    0.052632\n",
       "TUR    0.052632\n",
       "EGY    0.039474\n",
       "IDN    0.039474\n",
       "NGA    0.039474\n",
       "Name: _country, dtype: float64"
      ]
     },
     "execution_count": 19,
     "metadata": {},
     "output_type": "execute_result"
    }
   ],
   "source": [
    "first_pilot._country.value_counts()[0:10]/first_pilot.shape[0]"
   ]
  },
  {
   "cell_type": "code",
   "execution_count": 7,
   "metadata": {},
   "outputs": [
    {
     "data": {
      "text/plain": [
       "77"
      ]
     },
     "execution_count": 7,
     "metadata": {},
     "output_type": "execute_result"
    }
   ],
   "source": [
    "len(first_pilot._worker_id.unique())"
   ]
  },
  {
   "cell_type": "markdown",
   "metadata": {},
   "source": [
    "### For the first pilot, people were right in 93% of the questions, with at least one person being right in any question. People seem to have read the instructions and followed them in 98.16% of the cases (assuming that people who don't read the instructions always answer 'negative' to the 'This is a lion' statement). "
   ]
  },
  {
   "cell_type": "code",
   "execution_count": 8,
   "metadata": {
    "collapsed": true
   },
   "outputs": [],
   "source": [
    "#Accuracy = mean response | answer is one OR (1 - mean response) | answer is 0 (the events are mutually exclussive so you can sum)\n",
    "first_pilot['correct_pct'] = 100*first_pilot.label*first_pilot.please_select_the_sentiment_feeling_of_the_product_review \\\n",
    "                        + 100*(1-first_pilot.label)*(1-first_pilot.please_select_the_sentiment_feeling_of_the_product_review)\n",
    "fp_qs = first_pilot.groupby('_unit_id').mean() #Group by question and get the means."
   ]
  },
  {
   "cell_type": "code",
   "execution_count": 9,
   "metadata": {},
   "outputs": [
    {
     "name": "stdout",
     "output_type": "stream",
     "text": [
      "Normal questions accuracy\n",
      "count    100.000000\n",
      "mean      93.666667\n",
      "std       14.751971\n",
      "min       33.333333\n",
      "25%      100.000000\n",
      "50%      100.000000\n",
      "75%      100.000000\n",
      "max      100.000000\n",
      "Name: correct_pct, dtype: float64\n",
      "\n",
      "Compliance questions accuracy\n",
      "count     13.000000\n",
      "mean      98.165283\n",
      "std        1.522096\n",
      "min       96.551724\n",
      "25%       96.969697\n",
      "50%       97.222222\n",
      "75%      100.000000\n",
      "max      100.000000\n",
      "Name: correct_pct, dtype: float64\n"
     ]
    }
   ],
   "source": [
    "#Accuracy in normal questions (_golden is False)\n",
    "print('Normal questions accuracy')\n",
    "print(fp_qs[fp_qs._golden == False].correct_pct.describe())\n",
    "#Accuracy in compliance questions (_golden is True)\n",
    "print()\n",
    "print('Compliance questions accuracy')\n",
    "print(fp_qs[fp_qs._golden == True].correct_pct.describe())"
   ]
  },
  {
   "cell_type": "markdown",
   "metadata": {},
   "source": [
    "### The main lesson from our first pilot was that too easy questions would make it hard to detect a treatment effect, since our baseline wouldn't leav much room for improvement. "
   ]
  },
  {
   "cell_type": "code",
   "execution_count": 10,
   "metadata": {},
   "outputs": [
    {
     "name": "stdout",
     "output_type": "stream",
     "text": [
      "Normal questions accuracy\n",
      "count     75.000000\n",
      "mean      93.666667\n",
      "std       14.871825\n",
      "min       25.000000\n",
      "25%      100.000000\n",
      "50%      100.000000\n",
      "75%      100.000000\n",
      "max      100.000000\n",
      "Name: correct_pct, dtype: float64\n",
      "\n",
      "Compliance questions accuracy\n",
      "count     77.000000\n",
      "mean      98.268398\n",
      "std        7.445914\n",
      "min       50.000000\n",
      "25%      100.000000\n",
      "50%      100.000000\n",
      "75%      100.000000\n",
      "max      100.000000\n",
      "Name: correct_pct, dtype: float64\n"
     ]
    },
    {
     "data": {
      "text/plain": [
       "<matplotlib.axes._subplots.AxesSubplot at 0x1bf74498cc0>"
      ]
     },
     "execution_count": 10,
     "metadata": {},
     "output_type": "execute_result"
    }
   ],
   "source": [
    "fp_sbs_norm = first_pilot[first_pilot._golden == False].groupby('_worker_id').mean() #Group by normal questions and get the means.\n",
    "fp_sbs_comp = first_pilot[first_pilot._golden == True].groupby('_worker_id').mean() #Group by normal questions and get the means.\n",
    "#Accuracy in normal questions (_golden is False)\n",
    "print('Normal questions accuracy')\n",
    "print(fp_sbs_norm.correct_pct.describe())\n",
    "fp_sbs_norm.correct_pct.hist()\n",
    "#Accuracy in compliance questions (_golden is True)\n",
    "print()\n",
    "print('Compliance questions accuracy')\n",
    "print(fp_sbs_comp.correct_pct.describe())\n",
    "fp_sbs_comp.correct_pct.hist()"
   ]
  },
  {
   "cell_type": "code",
   "execution_count": 11,
   "metadata": {},
   "outputs": [
    {
     "data": {
      "text/html": [
       "<div>\n",
       "<style scoped>\n",
       "    .dataframe tbody tr th:only-of-type {\n",
       "        vertical-align: middle;\n",
       "    }\n",
       "\n",
       "    .dataframe tbody tr th {\n",
       "        vertical-align: top;\n",
       "    }\n",
       "\n",
       "    .dataframe thead th {\n",
       "        text-align: right;\n",
       "    }\n",
       "</style>\n",
       "<table border=\"1\" class=\"dataframe\">\n",
       "  <thead>\n",
       "    <tr style=\"text-align: right;\">\n",
       "      <th></th>\n",
       "      <th>_unit_id</th>\n",
       "      <th>_created_at</th>\n",
       "      <th>_golden</th>\n",
       "      <th>_id</th>\n",
       "      <th>_missed</th>\n",
       "      <th>_started_at</th>\n",
       "      <th>_tainted</th>\n",
       "      <th>_channel</th>\n",
       "      <th>_trust</th>\n",
       "      <th>_worker_id</th>\n",
       "      <th>...</th>\n",
       "      <th>_city</th>\n",
       "      <th>_ip</th>\n",
       "      <th>please_select_the_sentiment_feeling_of_the_product_review</th>\n",
       "      <th>1</th>\n",
       "      <th>label</th>\n",
       "      <th>please_select_the_sentiment_feeling_of_the_product_review_gold</th>\n",
       "      <th>text</th>\n",
       "      <th>this_is_a_lion</th>\n",
       "      <th>_time_to_respond</th>\n",
       "      <th>correct_pct</th>\n",
       "    </tr>\n",
       "  </thead>\n",
       "  <tbody>\n",
       "    <tr>\n",
       "      <th>399</th>\n",
       "      <td>2218245535</td>\n",
       "      <td>3/26/2019 08:17:08</td>\n",
       "      <td>True</td>\n",
       "      <td>4661533651</td>\n",
       "      <td>NaN</td>\n",
       "      <td>3/26/2019 08:16:34</td>\n",
       "      <td>False</td>\n",
       "      <td>clixsense</td>\n",
       "      <td>1.0</td>\n",
       "      <td>21707202</td>\n",
       "      <td>...</td>\n",
       "      <td>Paris</td>\n",
       "      <td>37.162.21.43</td>\n",
       "      <td>1</td>\n",
       "      <td>NaN</td>\n",
       "      <td>1</td>\n",
       "      <td>1.0</td>\n",
       "      <td>This is a lion</td>\n",
       "      <td>NaN</td>\n",
       "      <td>00:00:34</td>\n",
       "      <td>100</td>\n",
       "    </tr>\n",
       "    <tr>\n",
       "      <th>441</th>\n",
       "      <td>2218245859</td>\n",
       "      <td>3/26/2019 03:03:43</td>\n",
       "      <td>True</td>\n",
       "      <td>4661195697</td>\n",
       "      <td>NaN</td>\n",
       "      <td>3/26/2019 03:03:00</td>\n",
       "      <td>False</td>\n",
       "      <td>prizerebel</td>\n",
       "      <td>1.0</td>\n",
       "      <td>44352740</td>\n",
       "      <td>...</td>\n",
       "      <td>Chennai</td>\n",
       "      <td>117.207.16.19</td>\n",
       "      <td>1</td>\n",
       "      <td>NaN</td>\n",
       "      <td>1</td>\n",
       "      <td>1.0</td>\n",
       "      <td>This is a lion</td>\n",
       "      <td>NaN</td>\n",
       "      <td>00:00:43</td>\n",
       "      <td>100</td>\n",
       "    </tr>\n",
       "    <tr>\n",
       "      <th>477</th>\n",
       "      <td>2218245859</td>\n",
       "      <td>3/26/2019 08:17:08</td>\n",
       "      <td>True</td>\n",
       "      <td>4661533650</td>\n",
       "      <td>NaN</td>\n",
       "      <td>3/26/2019 08:16:34</td>\n",
       "      <td>False</td>\n",
       "      <td>clixsense</td>\n",
       "      <td>1.0</td>\n",
       "      <td>21707202</td>\n",
       "      <td>...</td>\n",
       "      <td>Paris</td>\n",
       "      <td>37.162.21.43</td>\n",
       "      <td>1</td>\n",
       "      <td>NaN</td>\n",
       "      <td>1</td>\n",
       "      <td>1.0</td>\n",
       "      <td>This is a lion</td>\n",
       "      <td>NaN</td>\n",
       "      <td>00:00:34</td>\n",
       "      <td>100</td>\n",
       "    </tr>\n",
       "    <tr>\n",
       "      <th>482</th>\n",
       "      <td>2218245921</td>\n",
       "      <td>3/26/2019 03:03:43</td>\n",
       "      <td>True</td>\n",
       "      <td>4661195711</td>\n",
       "      <td>NaN</td>\n",
       "      <td>3/26/2019 03:03:00</td>\n",
       "      <td>False</td>\n",
       "      <td>prizerebel</td>\n",
       "      <td>1.0</td>\n",
       "      <td>44352740</td>\n",
       "      <td>...</td>\n",
       "      <td>Chennai</td>\n",
       "      <td>117.207.16.19</td>\n",
       "      <td>1</td>\n",
       "      <td>NaN</td>\n",
       "      <td>1</td>\n",
       "      <td>1.0</td>\n",
       "      <td>This is a lion</td>\n",
       "      <td>NaN</td>\n",
       "      <td>00:00:43</td>\n",
       "      <td>100</td>\n",
       "    </tr>\n",
       "    <tr>\n",
       "      <th>519</th>\n",
       "      <td>2218246209</td>\n",
       "      <td>3/26/2019 03:03:43</td>\n",
       "      <td>True</td>\n",
       "      <td>4661195716</td>\n",
       "      <td>NaN</td>\n",
       "      <td>3/26/2019 03:03:00</td>\n",
       "      <td>False</td>\n",
       "      <td>prizerebel</td>\n",
       "      <td>1.0</td>\n",
       "      <td>44352740</td>\n",
       "      <td>...</td>\n",
       "      <td>Chennai</td>\n",
       "      <td>117.207.16.19</td>\n",
       "      <td>1</td>\n",
       "      <td>NaN</td>\n",
       "      <td>1</td>\n",
       "      <td>1.0</td>\n",
       "      <td>This is a lion</td>\n",
       "      <td>NaN</td>\n",
       "      <td>00:00:43</td>\n",
       "      <td>100</td>\n",
       "    </tr>\n",
       "    <tr>\n",
       "      <th>653</th>\n",
       "      <td>2218246531</td>\n",
       "      <td>3/26/2019 08:17:08</td>\n",
       "      <td>True</td>\n",
       "      <td>4661533649</td>\n",
       "      <td>NaN</td>\n",
       "      <td>3/26/2019 08:16:34</td>\n",
       "      <td>False</td>\n",
       "      <td>clixsense</td>\n",
       "      <td>1.0</td>\n",
       "      <td>21707202</td>\n",
       "      <td>...</td>\n",
       "      <td>Paris</td>\n",
       "      <td>37.162.21.43</td>\n",
       "      <td>1</td>\n",
       "      <td>NaN</td>\n",
       "      <td>1</td>\n",
       "      <td>1.0</td>\n",
       "      <td>This is a lion</td>\n",
       "      <td>NaN</td>\n",
       "      <td>00:00:34</td>\n",
       "      <td>100</td>\n",
       "    </tr>\n",
       "    <tr>\n",
       "      <th>685</th>\n",
       "      <td>2218246643</td>\n",
       "      <td>3/26/2019 08:17:08</td>\n",
       "      <td>True</td>\n",
       "      <td>4661533648</td>\n",
       "      <td>NaN</td>\n",
       "      <td>3/26/2019 08:16:34</td>\n",
       "      <td>False</td>\n",
       "      <td>clixsense</td>\n",
       "      <td>1.0</td>\n",
       "      <td>21707202</td>\n",
       "      <td>...</td>\n",
       "      <td>Paris</td>\n",
       "      <td>37.162.21.43</td>\n",
       "      <td>1</td>\n",
       "      <td>NaN</td>\n",
       "      <td>1</td>\n",
       "      <td>1.0</td>\n",
       "      <td>This is a lion</td>\n",
       "      <td>NaN</td>\n",
       "      <td>00:00:34</td>\n",
       "      <td>100</td>\n",
       "    </tr>\n",
       "    <tr>\n",
       "      <th>690</th>\n",
       "      <td>2218246733</td>\n",
       "      <td>3/26/2019 03:03:43</td>\n",
       "      <td>True</td>\n",
       "      <td>4661195702</td>\n",
       "      <td>NaN</td>\n",
       "      <td>3/26/2019 03:03:00</td>\n",
       "      <td>False</td>\n",
       "      <td>prizerebel</td>\n",
       "      <td>1.0</td>\n",
       "      <td>44352740</td>\n",
       "      <td>...</td>\n",
       "      <td>Chennai</td>\n",
       "      <td>117.207.16.19</td>\n",
       "      <td>1</td>\n",
       "      <td>NaN</td>\n",
       "      <td>1</td>\n",
       "      <td>1.0</td>\n",
       "      <td>This is a lion</td>\n",
       "      <td>NaN</td>\n",
       "      <td>00:00:43</td>\n",
       "      <td>100</td>\n",
       "    </tr>\n",
       "    <tr>\n",
       "      <th>726</th>\n",
       "      <td>2218246811</td>\n",
       "      <td>3/26/2019 03:03:43</td>\n",
       "      <td>True</td>\n",
       "      <td>4661195707</td>\n",
       "      <td>NaN</td>\n",
       "      <td>3/26/2019 03:03:00</td>\n",
       "      <td>False</td>\n",
       "      <td>prizerebel</td>\n",
       "      <td>1.0</td>\n",
       "      <td>44352740</td>\n",
       "      <td>...</td>\n",
       "      <td>Chennai</td>\n",
       "      <td>117.207.16.19</td>\n",
       "      <td>1</td>\n",
       "      <td>NaN</td>\n",
       "      <td>1</td>\n",
       "      <td>1.0</td>\n",
       "      <td>This is a lion</td>\n",
       "      <td>NaN</td>\n",
       "      <td>00:00:43</td>\n",
       "      <td>100</td>\n",
       "    </tr>\n",
       "    <tr>\n",
       "      <th>759</th>\n",
       "      <td>2218246811</td>\n",
       "      <td>3/26/2019 08:17:08</td>\n",
       "      <td>True</td>\n",
       "      <td>4661533646</td>\n",
       "      <td>NaN</td>\n",
       "      <td>3/26/2019 08:16:34</td>\n",
       "      <td>False</td>\n",
       "      <td>clixsense</td>\n",
       "      <td>1.0</td>\n",
       "      <td>21707202</td>\n",
       "      <td>...</td>\n",
       "      <td>Paris</td>\n",
       "      <td>37.162.21.43</td>\n",
       "      <td>1</td>\n",
       "      <td>NaN</td>\n",
       "      <td>1</td>\n",
       "      <td>1.0</td>\n",
       "      <td>This is a lion</td>\n",
       "      <td>NaN</td>\n",
       "      <td>00:00:34</td>\n",
       "      <td>100</td>\n",
       "    </tr>\n",
       "  </tbody>\n",
       "</table>\n",
       "<p>10 rows × 22 columns</p>\n",
       "</div>"
      ],
      "text/plain": [
       "       _unit_id         _created_at  _golden         _id _missed  \\\n",
       "399  2218245535  3/26/2019 08:17:08     True  4661533651     NaN   \n",
       "441  2218245859  3/26/2019 03:03:43     True  4661195697     NaN   \n",
       "477  2218245859  3/26/2019 08:17:08     True  4661533650     NaN   \n",
       "482  2218245921  3/26/2019 03:03:43     True  4661195711     NaN   \n",
       "519  2218246209  3/26/2019 03:03:43     True  4661195716     NaN   \n",
       "653  2218246531  3/26/2019 08:17:08     True  4661533649     NaN   \n",
       "685  2218246643  3/26/2019 08:17:08     True  4661533648     NaN   \n",
       "690  2218246733  3/26/2019 03:03:43     True  4661195702     NaN   \n",
       "726  2218246811  3/26/2019 03:03:43     True  4661195707     NaN   \n",
       "759  2218246811  3/26/2019 08:17:08     True  4661533646     NaN   \n",
       "\n",
       "            _started_at  _tainted    _channel  _trust  _worker_id  \\\n",
       "399  3/26/2019 08:16:34     False   clixsense     1.0    21707202   \n",
       "441  3/26/2019 03:03:00     False  prizerebel     1.0    44352740   \n",
       "477  3/26/2019 08:16:34     False   clixsense     1.0    21707202   \n",
       "482  3/26/2019 03:03:00     False  prizerebel     1.0    44352740   \n",
       "519  3/26/2019 03:03:00     False  prizerebel     1.0    44352740   \n",
       "653  3/26/2019 08:16:34     False   clixsense     1.0    21707202   \n",
       "685  3/26/2019 08:16:34     False   clixsense     1.0    21707202   \n",
       "690  3/26/2019 03:03:00     False  prizerebel     1.0    44352740   \n",
       "726  3/26/2019 03:03:00     False  prizerebel     1.0    44352740   \n",
       "759  3/26/2019 08:16:34     False   clixsense     1.0    21707202   \n",
       "\n",
       "        ...         _city            _ip  \\\n",
       "399     ...         Paris   37.162.21.43   \n",
       "441     ...       Chennai  117.207.16.19   \n",
       "477     ...         Paris   37.162.21.43   \n",
       "482     ...       Chennai  117.207.16.19   \n",
       "519     ...       Chennai  117.207.16.19   \n",
       "653     ...         Paris   37.162.21.43   \n",
       "685     ...         Paris   37.162.21.43   \n",
       "690     ...       Chennai  117.207.16.19   \n",
       "726     ...       Chennai  117.207.16.19   \n",
       "759     ...         Paris   37.162.21.43   \n",
       "\n",
       "    please_select_the_sentiment_feeling_of_the_product_review   1  label  \\\n",
       "399                                                  1        NaN      1   \n",
       "441                                                  1        NaN      1   \n",
       "477                                                  1        NaN      1   \n",
       "482                                                  1        NaN      1   \n",
       "519                                                  1        NaN      1   \n",
       "653                                                  1        NaN      1   \n",
       "685                                                  1        NaN      1   \n",
       "690                                                  1        NaN      1   \n",
       "726                                                  1        NaN      1   \n",
       "759                                                  1        NaN      1   \n",
       "\n",
       "     please_select_the_sentiment_feeling_of_the_product_review_gold  \\\n",
       "399                                                1.0                \n",
       "441                                                1.0                \n",
       "477                                                1.0                \n",
       "482                                                1.0                \n",
       "519                                                1.0                \n",
       "653                                                1.0                \n",
       "685                                                1.0                \n",
       "690                                                1.0                \n",
       "726                                                1.0                \n",
       "759                                                1.0                \n",
       "\n",
       "               text  this_is_a_lion _time_to_respond  correct_pct  \n",
       "399  This is a lion             NaN         00:00:34          100  \n",
       "441  This is a lion             NaN         00:00:43          100  \n",
       "477  This is a lion             NaN         00:00:34          100  \n",
       "482  This is a lion             NaN         00:00:43          100  \n",
       "519  This is a lion             NaN         00:00:43          100  \n",
       "653  This is a lion             NaN         00:00:34          100  \n",
       "685  This is a lion             NaN         00:00:34          100  \n",
       "690  This is a lion             NaN         00:00:43          100  \n",
       "726  This is a lion             NaN         00:00:43          100  \n",
       "759  This is a lion             NaN         00:00:34          100  \n",
       "\n",
       "[10 rows x 22 columns]"
      ]
     },
     "execution_count": 11,
     "metadata": {},
     "output_type": "execute_result"
    }
   ],
   "source": [
    "#there were a couple subjects who only got test questions\n",
    "first_pilot[first_pilot._worker_id.isin(list(set(fp_sbs_comp.index).difference(fp_sbs_norm.index)))]"
   ]
  },
  {
   "cell_type": "markdown",
   "metadata": {},
   "source": [
    "### Figure-eight seems to be assigning questions non-randomly, trying that every question is seen which can make some subjects get an unbalanced set of questions. We randomized manually the questions for the experiments in order to correct for this."
   ]
  },
  {
   "cell_type": "markdown",
   "metadata": {},
   "source": [
    "### We run a power calculation with the data from the pilot that suggests our test could be underpowered, needing at least 225 subjects in each treatment in order to detect the change in means with near 90% probability. "
   ]
  },
  {
   "cell_type": "code",
   "execution_count": 12,
   "metadata": {
    "collapsed": true
   },
   "outputs": [],
   "source": [
    "def power(effect, n, sigma, alpha = 0.05):\n",
    "    return norm.cdf(abs(effect)*np.sqrt(n)/(2*sigma) - norm.ppf(1-alpha/2))"
   ]
  },
  {
   "cell_type": "code",
   "execution_count": 13,
   "metadata": {},
   "outputs": [
    {
     "name": "stdout",
     "output_type": "stream",
     "text": [
      "Power is  0.45385362684278235 for sample size  75\n",
      "Power is  0.74147276532363 for sample size  150\n",
      "Power is  0.8913975965656133 for sample size  225\n",
      "Power is  0.9580150351716002 for sample size  300\n",
      "Power is  0.9847455238166528 for sample size  375\n"
     ]
    }
   ],
   "source": [
    "#On average every subject answers ten questions, so the minimum impact from the treatment is one more question right or 10% more accuracy.\n",
    "effect = 100 - 93.666667 #The best we can hope for in our treatment is for 100% accuracy (one more question right on average) given our initial high mean.\n",
    "sigma = 14.871825 #The standard deviation from the pilot\n",
    "first_pilot_sample_size = len(fp_sbs_norm.index) #People who answered normal and compliance questions. \n",
    "#We'll vary n to see how changing the sample increases the power.\n",
    "for i in range(1,6):\n",
    "    n = i*first_pilot_sample_size\n",
    "    print('Power is ', power(effect,n,sigma), 'for sample size ', n)"
   ]
  },
  {
   "cell_type": "markdown",
   "metadata": {},
   "source": [
    "# Second pilot"
   ]
  },
  {
   "cell_type": "code",
   "execution_count": 14,
   "metadata": {},
   "outputs": [
    {
     "name": "stdout",
     "output_type": "stream",
     "text": [
      "Index(['_unit_id', '_created_at', '_golden', '_id', '_missed', '_started_at',\n",
      "       '_tainted', '_channel', '_trust', '_worker_id', '_country', '_region',\n",
      "       '_city', '_ip', 'animal_present', 'animal_types', 'other_animal_type',\n",
      "       'animal_present_gold', 'animal_types_gold', 'image_url',\n",
      "       'other_animal_type_gold'],\n",
      "      dtype='object')\n"
     ]
    }
   ],
   "source": [
    "# Check fields\n",
    "print(second_pilot.columns)"
   ]
  },
  {
   "cell_type": "markdown",
   "metadata": {},
   "source": [
    "### This was an unlabeled dataset and that's why some of the columns differ. The analysis will be a tad different but we can check that covariates our fairly similar to the first pilot."
   ]
  },
  {
   "cell_type": "code",
   "execution_count": 15,
   "metadata": {
    "collapsed": true
   },
   "outputs": [],
   "source": [
    "second_pilot['_time_to_respond'] = second_pilot._created_at.apply(lambda x: datetime.strptime(x, \"%m/%d/%Y %H:%M:%S\"))-second_pilot._started_at.apply(lambda x: datetime.strptime(x, \"%m/%d/%Y %H:%M:%S\"))"
   ]
  },
  {
   "cell_type": "code",
   "execution_count": 16,
   "metadata": {},
   "outputs": [
    {
     "data": {
      "text/html": [
       "<div>\n",
       "<style scoped>\n",
       "    .dataframe tbody tr th:only-of-type {\n",
       "        vertical-align: middle;\n",
       "    }\n",
       "\n",
       "    .dataframe tbody tr th {\n",
       "        vertical-align: top;\n",
       "    }\n",
       "\n",
       "    .dataframe thead th {\n",
       "        text-align: right;\n",
       "    }\n",
       "</style>\n",
       "<table border=\"1\" class=\"dataframe\">\n",
       "  <thead>\n",
       "    <tr style=\"text-align: right;\">\n",
       "      <th></th>\n",
       "      <th>_unit_id</th>\n",
       "      <th>_id</th>\n",
       "      <th>_trust</th>\n",
       "      <th>_worker_id</th>\n",
       "      <th>animal_types_gold</th>\n",
       "      <th>other_animal_type_gold</th>\n",
       "      <th>_time_to_respond</th>\n",
       "    </tr>\n",
       "  </thead>\n",
       "  <tbody>\n",
       "    <tr>\n",
       "      <th>count</th>\n",
       "      <td>5.450000e+02</td>\n",
       "      <td>5.450000e+02</td>\n",
       "      <td>545.000000</td>\n",
       "      <td>5.450000e+02</td>\n",
       "      <td>0.0</td>\n",
       "      <td>0.0</td>\n",
       "      <td>545</td>\n",
       "    </tr>\n",
       "    <tr>\n",
       "      <th>mean</th>\n",
       "      <td>2.220961e+09</td>\n",
       "      <td>4.666150e+09</td>\n",
       "      <td>0.714285</td>\n",
       "      <td>4.313023e+07</td>\n",
       "      <td>NaN</td>\n",
       "      <td>NaN</td>\n",
       "      <td>0 days 00:01:20.137614</td>\n",
       "    </tr>\n",
       "    <tr>\n",
       "      <th>std</th>\n",
       "      <td>8.198365e+02</td>\n",
       "      <td>9.146755e+03</td>\n",
       "      <td>0.313202</td>\n",
       "      <td>7.214049e+06</td>\n",
       "      <td>NaN</td>\n",
       "      <td>NaN</td>\n",
       "      <td>0 days 00:01:14.564848</td>\n",
       "    </tr>\n",
       "    <tr>\n",
       "      <th>min</th>\n",
       "      <td>2.220960e+09</td>\n",
       "      <td>4.666137e+09</td>\n",
       "      <td>0.000000</td>\n",
       "      <td>7.344788e+06</td>\n",
       "      <td>NaN</td>\n",
       "      <td>NaN</td>\n",
       "      <td>0 days 00:00:12</td>\n",
       "    </tr>\n",
       "    <tr>\n",
       "      <th>25%</th>\n",
       "      <td>2.220960e+09</td>\n",
       "      <td>4.666145e+09</td>\n",
       "      <td>0.500000</td>\n",
       "      <td>4.451015e+07</td>\n",
       "      <td>NaN</td>\n",
       "      <td>NaN</td>\n",
       "      <td>0 days 00:00:31</td>\n",
       "    </tr>\n",
       "    <tr>\n",
       "      <th>50%</th>\n",
       "      <td>2.220960e+09</td>\n",
       "      <td>4.666149e+09</td>\n",
       "      <td>0.875000</td>\n",
       "      <td>4.515589e+07</td>\n",
       "      <td>NaN</td>\n",
       "      <td>NaN</td>\n",
       "      <td>0 days 00:00:52</td>\n",
       "    </tr>\n",
       "    <tr>\n",
       "      <th>75%</th>\n",
       "      <td>2.220961e+09</td>\n",
       "      <td>4.666152e+09</td>\n",
       "      <td>1.000000</td>\n",
       "      <td>4.516517e+07</td>\n",
       "      <td>NaN</td>\n",
       "      <td>NaN</td>\n",
       "      <td>0 days 00:01:42</td>\n",
       "    </tr>\n",
       "    <tr>\n",
       "      <th>max</th>\n",
       "      <td>2.220962e+09</td>\n",
       "      <td>4.666188e+09</td>\n",
       "      <td>1.000000</td>\n",
       "      <td>4.517808e+07</td>\n",
       "      <td>NaN</td>\n",
       "      <td>NaN</td>\n",
       "      <td>0 days 00:06:40</td>\n",
       "    </tr>\n",
       "  </tbody>\n",
       "</table>\n",
       "</div>"
      ],
      "text/plain": [
       "           _unit_id           _id      _trust    _worker_id  \\\n",
       "count  5.450000e+02  5.450000e+02  545.000000  5.450000e+02   \n",
       "mean   2.220961e+09  4.666150e+09    0.714285  4.313023e+07   \n",
       "std    8.198365e+02  9.146755e+03    0.313202  7.214049e+06   \n",
       "min    2.220960e+09  4.666137e+09    0.000000  7.344788e+06   \n",
       "25%    2.220960e+09  4.666145e+09    0.500000  4.451015e+07   \n",
       "50%    2.220960e+09  4.666149e+09    0.875000  4.515589e+07   \n",
       "75%    2.220961e+09  4.666152e+09    1.000000  4.516517e+07   \n",
       "max    2.220962e+09  4.666188e+09    1.000000  4.517808e+07   \n",
       "\n",
       "       animal_types_gold  other_animal_type_gold        _time_to_respond  \n",
       "count                0.0                     0.0                     545  \n",
       "mean                 NaN                     NaN  0 days 00:01:20.137614  \n",
       "std                  NaN                     NaN  0 days 00:01:14.564848  \n",
       "min                  NaN                     NaN         0 days 00:00:12  \n",
       "25%                  NaN                     NaN         0 days 00:00:31  \n",
       "50%                  NaN                     NaN         0 days 00:00:52  \n",
       "75%                  NaN                     NaN         0 days 00:01:42  \n",
       "max                  NaN                     NaN         0 days 00:06:40  "
      ]
     },
     "execution_count": 16,
     "metadata": {},
     "output_type": "execute_result"
    }
   ],
   "source": [
    "second_pilot.describe()"
   ]
  },
  {
   "cell_type": "code",
   "execution_count": 50,
   "metadata": {},
   "outputs": [
    {
     "data": {
      "text/plain": [
       "False    535\n",
       "True      10\n",
       "Name: _tainted, dtype: int64"
      ]
     },
     "execution_count": 50,
     "metadata": {},
     "output_type": "execute_result"
    }
   ],
   "source": [
    "#These are the people who got dropped.\n",
    "second_pilot._tainted.value_counts()"
   ]
  },
  {
   "cell_type": "code",
   "execution_count": 54,
   "metadata": {},
   "outputs": [
    {
     "name": "stdout",
     "output_type": "stream",
     "text": [
      "People who completed the test - avg. score\n",
      "0.7276364485981306\n",
      "People who completed the test - avg. response time\n",
      "0 days 00:01:18.168224\n",
      "People who were dropped -  avg. score\n",
      "0.0\n",
      "People who were dropped -  avg. response time\n",
      "0 days 00:03:05.500000\n"
     ]
    }
   ],
   "source": [
    "#We'll check if their _trust scores are too different\n",
    "print('People who completed the test - avg. score')\n",
    "print(second_pilot[second_pilot._tainted == False]._trust.mean())\n",
    "print('People who completed the test - avg. response time')\n",
    "print(second_pilot[second_pilot._tainted == False]._time_to_respond.mean())\n",
    "print('People who were dropped -  avg. score')\n",
    "print(second_pilot[second_pilot._tainted == True]._trust.mean())\n",
    "print('People who were dropped -  avg. response time')\n",
    "print(second_pilot[second_pilot._tainted == True]._time_to_respond.mean())"
   ]
  },
  {
   "cell_type": "markdown",
   "metadata": {},
   "source": [
    "### The people who got dropped seem different from those who stayed. We learned here that we should do something about the criteria for dropping people, since it might be related to outcomes. Figure-eight forces us to make test questions, so our solution was to place test questions so easy that no one would fail them (and get dropped). "
   ]
  },
  {
   "cell_type": "code",
   "execution_count": 20,
   "metadata": {},
   "outputs": [
    {
     "data": {
      "text/plain": [
       "EGY    0.339450\n",
       "UKR    0.229358\n",
       "VEN    0.064220\n",
       "BIH    0.045872\n",
       "RUS    0.045872\n",
       "POL    0.036697\n",
       "LVA    0.036697\n",
       "SRB    0.036697\n",
       "ITA    0.036697\n",
       "BRA    0.036697\n",
       "Name: _country, dtype: float64"
      ]
     },
     "execution_count": 20,
     "metadata": {},
     "output_type": "execute_result"
    }
   ],
   "source": [
    "second_pilot._country.value_counts()[0:10]/second_pilot.shape[0]"
   ]
  },
  {
   "cell_type": "code",
   "execution_count": 18,
   "metadata": {},
   "outputs": [
    {
     "data": {
      "text/plain": [
       "34"
      ]
     },
     "execution_count": 18,
     "metadata": {},
     "output_type": "execute_result"
    }
   ],
   "source": [
    "len(second_pilot._worker_id.unique())"
   ]
  },
  {
   "cell_type": "markdown",
   "metadata": {},
   "source": [
    "### The second pilot was a bit less diversified in the number of participants and origins. Howevere, time of completion for each question was 1min and 20 seconds on average, not too different from 1:09 in pilot 1.\n",
    "Now we'll check accuracy and power of the experiment, but since we had an unlabeled dataset for this pilot (camouflaged images) we'll be making the analysis using a statistic that figure-eight reports on the data called 'Agreement'. Agreement is the in-question variance, or the share of respondents that agreed in the answers of a question. For example, for our first pilot many of the questions would have agreement 1, since most of the people had the correct answer.  "
   ]
  },
  {
   "cell_type": "code",
   "execution_count": 40,
   "metadata": {
    "collapsed": true
   },
   "outputs": [],
   "source": [
    "# read in all the raw files\n",
    "first_pilot_md = pd.read_csv('first_pilot_metadata.csv')\n",
    "second_pilot_md = pd.read_csv('second_pilot_metadata.csv')"
   ]
  },
  {
   "cell_type": "code",
   "execution_count": 42,
   "metadata": {},
   "outputs": [
    {
     "data": {
      "text/plain": [
       "Index(['_unit_id', '_golden', '_unit_state', '_trusted_judgments',\n",
       "       '_last_judgment_at',\n",
       "       'please_select_the_sentiment_feeling_of_the_product_review',\n",
       "       'please_select_the_sentiment_feeling_of_the_product_review:confidence',\n",
       "       '1', 'label',\n",
       "       'please_select_the_sentiment_feeling_of_the_product_review_gold',\n",
       "       'text', 'this_is_a_lion'],\n",
       "      dtype='object')"
      ]
     },
     "execution_count": 42,
     "metadata": {},
     "output_type": "execute_result"
    }
   ],
   "source": [
    "#Check columns\n",
    "first_pilot_md.columns"
   ]
  },
  {
   "cell_type": "markdown",
   "metadata": {},
   "source": [
    "### Fields \n",
    "\n",
    "    _unit_id: A unique ID number created by the system for each row\n",
    "\n",
    "    _golden: This will be \"true\" if this is a test question, otherwise it is \"false\"\n",
    "\n",
    "    _unit_state: This will be \"finalized\" if the row has collected all judgments needed, \"new\" if it has not been launched yet, \"judgable\" if it requires more judgments, and \"golden\" if the row is a test question.\n",
    "\n",
    "    _trusted_judgments: The number of non-tainted judgment the row has accumulated\n",
    "    \n",
    "    _last_judgment_at: The time the latest judgment was received\n",
    "\n",
    "    {{field}}: There will be a column for each field in the job, with a header equal to the fields name\n",
    "\n",
    "    {{field}}:confidence: If you choose to include confidence values, these columns will be included. They represent the level of agreement between contributors.\n",
    "\n",
    "\n",
    "In general, we're interested in the variance for each question. We can use time of response, trust scores and cities to check the balances between groups. The tainted indicator tells us who was dropped and we can report on their statistics. "
   ]
  },
  {
   "cell_type": "code",
   "execution_count": 43,
   "metadata": {},
   "outputs": [
    {
     "name": "stdout",
     "output_type": "stream",
     "text": [
      "First pilot - Normal questions agreement\n",
      "count    100.000000\n",
      "mean       0.943731\n",
      "std        0.125110\n",
      "min        0.647100\n",
      "25%        1.000000\n",
      "50%        1.000000\n",
      "75%        1.000000\n",
      "max        1.000000\n",
      "Name: please_select_the_sentiment_feeling_of_the_product_review:confidence, dtype: float64\n",
      "\n",
      "First pilot - Compliance questions agreement\n",
      "count    13.000000\n",
      "mean      0.988431\n",
      "std       0.013470\n",
      "min       0.966400\n",
      "25%       0.979300\n",
      "50%       1.000000\n",
      "75%       1.000000\n",
      "max       1.000000\n",
      "Name: please_select_the_sentiment_feeling_of_the_product_review:confidence, dtype: float64\n",
      "\n",
      "Second pilot - Normal questions agreement\n",
      "count    100.000000\n",
      "mean       0.908733\n",
      "std        0.158092\n",
      "min        0.529400\n",
      "25%        0.876075\n",
      "50%        1.000000\n",
      "75%        1.000000\n",
      "max        1.000000\n",
      "Name: animal_present:confidence, dtype: float64\n",
      "\n",
      "Second pilot - Compliance questions agreement\n",
      "count    8.000000\n",
      "mean     0.956625\n",
      "std      0.043806\n",
      "min      0.865100\n",
      "25%      0.948000\n",
      "50%      0.956250\n",
      "75%      0.989800\n",
      "max      1.000000\n",
      "Name: animal_present:confidence, dtype: float64\n"
     ]
    }
   ],
   "source": [
    "#Agreement in normal questions (_golden is False)\n",
    "print('First pilot - Normal questions agreement')\n",
    "print(first_pilot_md[first_pilot_md._golden == False]['please_select_the_sentiment_feeling_of_the_product_review:confidence'].describe())\n",
    "#Accuracy in compliance questions (_golden is True)\n",
    "print()\n",
    "print('First pilot - Compliance questions agreement')\n",
    "print(first_pilot_md[first_pilot_md._golden == True]['please_select_the_sentiment_feeling_of_the_product_review:confidence'].describe())\n",
    "#Agreement in normal questions (_golden is False)\n",
    "print()\n",
    "print('Second pilot - Normal questions agreement')\n",
    "print(second_pilot_md[second_pilot_md._golden == False]['animal_present:confidence'].describe())\n",
    "#Accuracy in compliance questions (_golden is True)\n",
    "print()\n",
    "print('Second pilot - Compliance questions agreement')\n",
    "print(second_pilot_md[second_pilot_md._golden == True]['animal_present:confidence'].describe())"
   ]
  },
  {
   "cell_type": "markdown",
   "metadata": {},
   "source": [
    "### We can see here that agreement in the first pilot was a lot higher, with everyone agreeing on the same (presumably correct) answer from the first quartile onwards. The average agreement was 94% with a standard deviation of 12.5%. Meanwhile, the second pilot seems a lot harder in terms of people agreeing in a single answer: the mean agreement drops to 90.8% and full agreement only becomes visible from the 50% quartile onwards. We know that in the first pilot people were extremely accurate, so more disagreement in the second pilot suggests that the change of database changed as intended; given the picture of a camouflaged animal, some people may see it and others won't, and this is were our treatment of making people take their work more seriously for the good or machine learning or because they're aware that they're being watched could have more room to improve performance scores. We present the new results on statistical power below:"
   ]
  },
  {
   "cell_type": "code",
   "execution_count": 47,
   "metadata": {},
   "outputs": [
    {
     "name": "stdout",
     "output_type": "stream",
     "text": [
      "Power is  0.7053434554230589 for sample size  75\n",
      "Power is  0.9424042017642595 for sample size  150\n",
      "Power is  0.9911013661795741 for sample size  225\n",
      "Power is  0.9988156451234848 for sample size  300\n",
      "Power is  0.9998581516032655 for sample size  375\n"
     ]
    }
   ],
   "source": [
    "#On average every subject answers ten questions, so the minimum impact from the treatment is one more question right or 10% more accuracy.\n",
    "effect = 100 - 90.8733 #The best we can hope for in our treatment is for 100% accuracy (one more question right on average) given our initial high mean.\n",
    "sigma = 15.8092 #The standard deviation from the pilot\n",
    "first_pilot_sample_size = len(fp_sbs_norm.index) #People who answered normal and compliance questions. \n",
    "#We'll vary n to see how changing the sample increases the power.\n",
    "for i in range(1,6):\n",
    "    n = i*first_pilot_sample_size\n",
    "    print('Power is ', power(effect,n,sigma), 'for sample size ', n)"
   ]
  },
  {
   "cell_type": "markdown",
   "metadata": {},
   "source": [
    "### A problem with more difficulty and more disagreement, even with the higher variance that this implies, can give you much more power just because of the improvement room for our treatment."
   ]
  },
  {
   "cell_type": "markdown",
   "metadata": {},
   "source": [
    "## Summary, during our pilots we learned very important things for our experiments. (i) Depending on when you set the experiment, the distribution of countries may change, but figure-eight seems to make some effort to make them balanced. While this may raise uncertainty on whether subject samples are too different, we can see that they take approximately the same time to answer. (ii) The questions may be allocated non randomly by figure-eight in order to fill quotas of judgements for each question. This introduces a non random element of variance which we try to address by making a manual randomization of the input database. This is also mitigated by the fact that subjects come at random, so even those who only had test questions to answer should not be very different from people who saw more balanced question sets. (iii) A question set that it's too easy will leave little room for improvement, so, we will be using a camouflaged animal set for the experiment. This will introduce some difficulty, and we expect that the instructions to be more careful will make people who got the treatment more attentive and perform better. (iv) the added difficulty meant that some subjects were dropped on performance, which is the very thing we are trying to measure and would be a source of bias. For our experiment, we will be using very easy test questions so no one (hopefully) fails them. "
   ]
  },
  {
   "cell_type": "markdown",
   "metadata": {},
   "source": [
    "# Control group"
   ]
  },
  {
   "cell_type": "code",
   "execution_count": 55,
   "metadata": {},
   "outputs": [
    {
     "name": "stdout",
     "output_type": "stream",
     "text": [
      "Index(['_unit_id', '_created_at', '_golden', '_id', '_missed', '_started_at',\n",
      "       '_tainted', '_channel', '_trust', '_worker_id', '_country', '_region',\n",
      "       '_city', '_ip', 'animal_present', 'animal_present_gold', 'image_url',\n",
      "       'label'],\n",
      "      dtype='object')\n"
     ]
    }
   ],
   "source": [
    "# Check fields\n",
    "print(control.columns)"
   ]
  },
  {
   "cell_type": "code",
   "execution_count": 57,
   "metadata": {
    "collapsed": true
   },
   "outputs": [],
   "source": [
    "control['_time_to_respond'] = control._created_at.apply(lambda x: datetime.strptime(x, \"%m/%d/%Y %H:%M:%S\"))-control._started_at.apply(lambda x: datetime.strptime(x, \"%m/%d/%Y %H:%M:%S\"))"
   ]
  },
  {
   "cell_type": "code",
   "execution_count": 58,
   "metadata": {},
   "outputs": [
    {
     "data": {
      "text/html": [
       "<div>\n",
       "<style scoped>\n",
       "    .dataframe tbody tr th:only-of-type {\n",
       "        vertical-align: middle;\n",
       "    }\n",
       "\n",
       "    .dataframe tbody tr th {\n",
       "        vertical-align: top;\n",
       "    }\n",
       "\n",
       "    .dataframe thead th {\n",
       "        text-align: right;\n",
       "    }\n",
       "</style>\n",
       "<table border=\"1\" class=\"dataframe\">\n",
       "  <thead>\n",
       "    <tr style=\"text-align: right;\">\n",
       "      <th></th>\n",
       "      <th>_unit_id</th>\n",
       "      <th>_id</th>\n",
       "      <th>_trust</th>\n",
       "      <th>_worker_id</th>\n",
       "      <th>_time_to_respond</th>\n",
       "    </tr>\n",
       "  </thead>\n",
       "  <tbody>\n",
       "    <tr>\n",
       "      <th>count</th>\n",
       "      <td>1.265000e+03</td>\n",
       "      <td>1.265000e+03</td>\n",
       "      <td>1265.000000</td>\n",
       "      <td>1.265000e+03</td>\n",
       "      <td>1265</td>\n",
       "    </tr>\n",
       "    <tr>\n",
       "      <th>mean</th>\n",
       "      <td>2.228596e+09</td>\n",
       "      <td>4.680842e+09</td>\n",
       "      <td>0.956259</td>\n",
       "      <td>4.353736e+07</td>\n",
       "      <td>0 days 00:00:53.245059</td>\n",
       "    </tr>\n",
       "    <tr>\n",
       "      <th>std</th>\n",
       "      <td>1.723026e+06</td>\n",
       "      <td>4.320125e+03</td>\n",
       "      <td>0.154334</td>\n",
       "      <td>3.759920e+06</td>\n",
       "      <td>0 days 00:01:05.887886</td>\n",
       "    </tr>\n",
       "    <tr>\n",
       "      <th>min</th>\n",
       "      <td>2.227505e+09</td>\n",
       "      <td>4.680832e+09</td>\n",
       "      <td>0.000000</td>\n",
       "      <td>6.591664e+06</td>\n",
       "      <td>0 days 00:00:10</td>\n",
       "    </tr>\n",
       "    <tr>\n",
       "      <th>25%</th>\n",
       "      <td>2.227505e+09</td>\n",
       "      <td>4.680839e+09</td>\n",
       "      <td>1.000000</td>\n",
       "      <td>4.405826e+07</td>\n",
       "      <td>0 days 00:00:23</td>\n",
       "    </tr>\n",
       "    <tr>\n",
       "      <th>50%</th>\n",
       "      <td>2.227505e+09</td>\n",
       "      <td>4.680842e+09</td>\n",
       "      <td>1.000000</td>\n",
       "      <td>4.474947e+07</td>\n",
       "      <td>0 days 00:00:35</td>\n",
       "    </tr>\n",
       "    <tr>\n",
       "      <th>75%</th>\n",
       "      <td>2.231347e+09</td>\n",
       "      <td>4.680845e+09</td>\n",
       "      <td>1.000000</td>\n",
       "      <td>4.516237e+07</td>\n",
       "      <td>0 days 00:00:59</td>\n",
       "    </tr>\n",
       "    <tr>\n",
       "      <th>max</th>\n",
       "      <td>2.231348e+09</td>\n",
       "      <td>4.680866e+09</td>\n",
       "      <td>1.000000</td>\n",
       "      <td>4.520533e+07</td>\n",
       "      <td>0 days 00:12:17</td>\n",
       "    </tr>\n",
       "  </tbody>\n",
       "</table>\n",
       "</div>"
      ],
      "text/plain": [
       "           _unit_id           _id       _trust    _worker_id  \\\n",
       "count  1.265000e+03  1.265000e+03  1265.000000  1.265000e+03   \n",
       "mean   2.228596e+09  4.680842e+09     0.956259  4.353736e+07   \n",
       "std    1.723026e+06  4.320125e+03     0.154334  3.759920e+06   \n",
       "min    2.227505e+09  4.680832e+09     0.000000  6.591664e+06   \n",
       "25%    2.227505e+09  4.680839e+09     1.000000  4.405826e+07   \n",
       "50%    2.227505e+09  4.680842e+09     1.000000  4.474947e+07   \n",
       "75%    2.231347e+09  4.680845e+09     1.000000  4.516237e+07   \n",
       "max    2.231348e+09  4.680866e+09     1.000000  4.520533e+07   \n",
       "\n",
       "             _time_to_respond  \n",
       "count                    1265  \n",
       "mean   0 days 00:00:53.245059  \n",
       "std    0 days 00:01:05.887886  \n",
       "min           0 days 00:00:10  \n",
       "25%           0 days 00:00:23  \n",
       "50%           0 days 00:00:35  \n",
       "75%           0 days 00:00:59  \n",
       "max           0 days 00:12:17  "
      ]
     },
     "execution_count": 58,
     "metadata": {},
     "output_type": "execute_result"
    }
   ],
   "source": [
    "control.describe()"
   ]
  },
  {
   "cell_type": "code",
   "execution_count": 66,
   "metadata": {},
   "outputs": [
    {
     "data": {
      "text/plain": [
       "VEN    0.683794\n",
       "EGY    0.071146\n",
       "COL    0.039526\n",
       "ESP    0.035573\n",
       "IND    0.031621\n",
       "TUR    0.031621\n",
       "HRV    0.031621\n",
       "USA    0.015810\n",
       "ARG    0.011858\n",
       "CHL    0.007905\n",
       "Name: _country, dtype: float64"
      ]
     },
     "execution_count": 66,
     "metadata": {},
     "output_type": "execute_result"
    }
   ],
   "source": [
    "control._country.value_counts()[0:10]/control.shape[0]"
   ]
  },
  {
   "cell_type": "code",
   "execution_count": 68,
   "metadata": {},
   "outputs": [
    {
     "data": {
      "text/plain": [
       "79"
      ]
     },
     "execution_count": 68,
     "metadata": {},
     "output_type": "execute_result"
    }
   ],
   "source": [
    "len(control._worker_id.unique())"
   ]
  },
  {
   "cell_type": "code",
   "execution_count": 77,
   "metadata": {
    "collapsed": true
   },
   "outputs": [],
   "source": [
    "#Preprocessing before getting accuracy numbers\n",
    "def yes_2_1(x):\n",
    "    if x == 'yes':\n",
    "        return 1\n",
    "    else:\n",
    "        return 0\n",
    "    \n",
    "def label_2_animal(x):\n",
    "    if x != 'Leaves':\n",
    "        return 1\n",
    "    else:\n",
    "        return 0\n",
    "\n",
    "control['answer'] = control.animal_present.apply(yes_2_1)\n",
    "control['true_answer'] = control.label.apply(label_2_animal)"
   ]
  },
  {
   "cell_type": "code",
   "execution_count": 79,
   "metadata": {
    "collapsed": true
   },
   "outputs": [],
   "source": [
    "#Accuracy = mean response | answer is one OR (1 - mean response) | answer is 0 (the events are mutually exclussive so you can sum)\n",
    "control['correct_pct'] = 100*control.true_answer*control.answer \\\n",
    "                        + 100*(1-control.true_answer)*(1-control.answer)\n",
    "control_qs = control.groupby('_unit_id').mean() #Group by question and get the means."
   ]
  },
  {
   "cell_type": "code",
   "execution_count": 81,
   "metadata": {},
   "outputs": [
    {
     "name": "stdout",
     "output_type": "stream",
     "text": [
      "Normal questions accuracy\n",
      "count    232.000000\n",
      "mean      70.689655\n",
      "std       35.945331\n",
      "min        0.000000\n",
      "25%       33.333333\n",
      "50%      100.000000\n",
      "75%      100.000000\n",
      "max      100.000000\n",
      "Name: correct_pct, dtype: float64\n",
      "\n",
      "Compliance questions accuracy\n",
      "count     16.000000\n",
      "mean      93.986796\n",
      "std        3.231171\n",
      "min       89.189189\n",
      "25%       91.428571\n",
      "50%       94.201681\n",
      "75%       95.317460\n",
      "max      100.000000\n",
      "Name: correct_pct, dtype: float64\n"
     ]
    }
   ],
   "source": [
    "#Accuracy in normal questions (_golden is False)\n",
    "print('Normal questions accuracy')\n",
    "print(control_qs[control_qs._golden == False].correct_pct.describe())\n",
    "#Accuracy in compliance questions (_golden is True)\n",
    "print()\n",
    "print('Compliance questions accuracy')\n",
    "print(control_qs[control_qs._golden == True].correct_pct.describe())"
   ]
  },
  {
   "cell_type": "code",
   "execution_count": 105,
   "metadata": {},
   "outputs": [
    {
     "name": "stdout",
     "output_type": "stream",
     "text": [
      "Normal questions accuracy\n",
      "count     38.000000\n",
      "mean      71.982513\n",
      "std       24.030820\n",
      "min        0.000000\n",
      "25%       62.500000\n",
      "50%       75.000000\n",
      "75%       87.500000\n",
      "max      100.000000\n",
      "Name: correct_pct, dtype: float64\n",
      "\n",
      "Test questions accuracy\n",
      "count     79.000000\n",
      "mean      92.742616\n",
      "std       24.161196\n",
      "min        0.000000\n",
      "25%      100.000000\n",
      "50%      100.000000\n",
      "75%      100.000000\n",
      "max      100.000000\n",
      "Name: correct_pct, dtype: float64\n"
     ]
    }
   ],
   "source": [
    "control_sbs_norm = control[control._golden == False].groupby('_worker_id').mean() #Group by normal questions and get the means.\n",
    "control_sbs_comp = control[control._golden == True].groupby('_worker_id').mean() #Group by normal questions and get the means.\n",
    "#Accuracy in normal questions (_golden is False)\n",
    "print('Normal questions accuracy')\n",
    "print(control_sbs_norm.correct_pct.describe())\n",
    "#Accuracy in compliance questions (_golden is True)\n",
    "print()\n",
    "print('Test questions accuracy')\n",
    "print(control_sbs_comp.correct_pct.describe())"
   ]
  },
  {
   "cell_type": "code",
   "execution_count": 92,
   "metadata": {},
   "outputs": [
    {
     "name": "stdout",
     "output_type": "stream",
     "text": [
      "Power is  0.56716527504949 for sample size  38\n",
      "Power is  0.8533877995360563 for sample size  76\n",
      "Power is  0.9579870494294613 for sample size  114\n",
      "Power is  0.9892272813426868 for sample size  152\n",
      "Power is  0.9974520303365991 for sample size  190\n"
     ]
    }
   ],
   "source": [
    "#On average every subject answers 6 questions, so the minimum impact from the treatment is one more question right or 16% more accuracy.\n",
    "effect = 16.6 #this is one more question right\n",
    "sigma = 24.030820 #The standard deviation from the experiment.\n",
    "smpl_sz = len(control_sbs_norm.index) #People who answered normal and compliance questions. \n",
    "#We'll vary n to see how changing the sample increases the power.\n",
    "for i in range(1,6):\n",
    "    n = i*smpl_sz\n",
    "    print('Power is ', power(effect,n,sigma), 'for sample size ', n)"
   ]
  },
  {
   "cell_type": "markdown",
   "metadata": {},
   "source": [
    "### Given the conditions of this experiment, we would only find an effect with a probability of 56.7%, but the good news is that a larger study could be able to find an effect statistically different from zero. "
   ]
  },
  {
   "cell_type": "code",
   "execution_count": 93,
   "metadata": {},
   "outputs": [
    {
     "data": {
      "text/plain": [
       "False    1242\n",
       "True       23\n",
       "Name: _tainted, dtype: int64"
      ]
     },
     "execution_count": 93,
     "metadata": {},
     "output_type": "execute_result"
    }
   ],
   "source": [
    "#These are the people who got dropped.\n",
    "control._tainted.value_counts()"
   ]
  },
  {
   "cell_type": "code",
   "execution_count": 94,
   "metadata": {},
   "outputs": [
    {
     "name": "stdout",
     "output_type": "stream",
     "text": [
      "People who completed the test - avg. score\n",
      "0.9715523349436392\n",
      "People who completed the test - avg. response time\n",
      "0 days 00:00:52.763285\n",
      "People who were dropped -  avg. score\n",
      "0.13043478260869565\n",
      "People who were dropped -  avg. response time\n",
      "0 days 00:01:19.260869\n"
     ]
    }
   ],
   "source": [
    "#We'll check if their _trust scores are too different\n",
    "print('People who completed the test - avg. score')\n",
    "print(control[control._tainted == False]._trust.mean())\n",
    "print('People who completed the test - avg. response time')\n",
    "print(control[control._tainted == False]._time_to_respond.mean())\n",
    "print('People who were dropped -  avg. score')\n",
    "print(control[control._tainted == True]._trust.mean())\n",
    "print('People who were dropped -  avg. response time')\n",
    "print(control[control._tainted == True]._time_to_respond.mean())"
   ]
  },
  {
   "cell_type": "markdown",
   "metadata": {},
   "source": [
    "### Dropped people started less trustable, took a few seconds more, but they're so few for our sample that we don't think they will be a concern. "
   ]
  },
  {
   "cell_type": "markdown",
   "metadata": {},
   "source": [
    "# Public good group"
   ]
  },
  {
   "cell_type": "code",
   "execution_count": 96,
   "metadata": {},
   "outputs": [
    {
     "name": "stdout",
     "output_type": "stream",
     "text": [
      "Index(['_unit_id', '_created_at', '_golden', '_id', '_missed', '_started_at',\n",
      "       '_tainted', '_channel', '_trust', '_worker_id', '_country', '_region',\n",
      "       '_city', '_ip', 'animal_present', 'animal_present_gold', 'image_url',\n",
      "       'label'],\n",
      "      dtype='object')\n"
     ]
    }
   ],
   "source": [
    "# Check fields\n",
    "print(publicgood.columns)"
   ]
  },
  {
   "cell_type": "code",
   "execution_count": 97,
   "metadata": {
    "collapsed": true
   },
   "outputs": [],
   "source": [
    "publicgood['_time_to_respond'] = publicgood._created_at.apply(lambda x: datetime.strptime(x, \"%m/%d/%Y %H:%M:%S\"))-publicgood._started_at.apply(lambda x: datetime.strptime(x, \"%m/%d/%Y %H:%M:%S\"))"
   ]
  },
  {
   "cell_type": "code",
   "execution_count": 98,
   "metadata": {},
   "outputs": [
    {
     "data": {
      "text/html": [
       "<div>\n",
       "<style scoped>\n",
       "    .dataframe tbody tr th:only-of-type {\n",
       "        vertical-align: middle;\n",
       "    }\n",
       "\n",
       "    .dataframe tbody tr th {\n",
       "        vertical-align: top;\n",
       "    }\n",
       "\n",
       "    .dataframe thead th {\n",
       "        text-align: right;\n",
       "    }\n",
       "</style>\n",
       "<table border=\"1\" class=\"dataframe\">\n",
       "  <thead>\n",
       "    <tr style=\"text-align: right;\">\n",
       "      <th></th>\n",
       "      <th>_unit_id</th>\n",
       "      <th>_id</th>\n",
       "      <th>_trust</th>\n",
       "      <th>_worker_id</th>\n",
       "      <th>_time_to_respond</th>\n",
       "    </tr>\n",
       "  </thead>\n",
       "  <tbody>\n",
       "    <tr>\n",
       "      <th>count</th>\n",
       "      <td>1.515000e+03</td>\n",
       "      <td>1.515000e+03</td>\n",
       "      <td>1515.000000</td>\n",
       "      <td>1.515000e+03</td>\n",
       "      <td>1515</td>\n",
       "    </tr>\n",
       "    <tr>\n",
       "      <th>mean</th>\n",
       "      <td>2.236910e+09</td>\n",
       "      <td>4.693293e+09</td>\n",
       "      <td>0.946890</td>\n",
       "      <td>4.314084e+07</td>\n",
       "      <td>0 days 00:00:58.775577</td>\n",
       "    </tr>\n",
       "    <tr>\n",
       "      <th>std</th>\n",
       "      <td>7.931605e+01</td>\n",
       "      <td>5.394808e+03</td>\n",
       "      <td>0.173551</td>\n",
       "      <td>6.057241e+06</td>\n",
       "      <td>0 days 00:01:38.485572</td>\n",
       "    </tr>\n",
       "    <tr>\n",
       "      <th>min</th>\n",
       "      <td>2.236910e+09</td>\n",
       "      <td>4.693285e+09</td>\n",
       "      <td>0.000000</td>\n",
       "      <td>1.158291e+07</td>\n",
       "      <td>0 days 00:00:07</td>\n",
       "    </tr>\n",
       "    <tr>\n",
       "      <th>25%</th>\n",
       "      <td>2.236910e+09</td>\n",
       "      <td>4.693290e+09</td>\n",
       "      <td>1.000000</td>\n",
       "      <td>4.459232e+07</td>\n",
       "      <td>0 days 00:00:22</td>\n",
       "    </tr>\n",
       "    <tr>\n",
       "      <th>50%</th>\n",
       "      <td>2.236910e+09</td>\n",
       "      <td>4.693292e+09</td>\n",
       "      <td>1.000000</td>\n",
       "      <td>4.515890e+07</td>\n",
       "      <td>0 days 00:00:33</td>\n",
       "    </tr>\n",
       "    <tr>\n",
       "      <th>75%</th>\n",
       "      <td>2.236910e+09</td>\n",
       "      <td>4.693294e+09</td>\n",
       "      <td>1.000000</td>\n",
       "      <td>4.516983e+07</td>\n",
       "      <td>0 days 00:00:56</td>\n",
       "    </tr>\n",
       "    <tr>\n",
       "      <th>max</th>\n",
       "      <td>2.236910e+09</td>\n",
       "      <td>4.693333e+09</td>\n",
       "      <td>1.000000</td>\n",
       "      <td>4.521156e+07</td>\n",
       "      <td>0 days 00:19:38</td>\n",
       "    </tr>\n",
       "  </tbody>\n",
       "</table>\n",
       "</div>"
      ],
      "text/plain": [
       "           _unit_id           _id       _trust    _worker_id  \\\n",
       "count  1.515000e+03  1.515000e+03  1515.000000  1.515000e+03   \n",
       "mean   2.236910e+09  4.693293e+09     0.946890  4.314084e+07   \n",
       "std    7.931605e+01  5.394808e+03     0.173551  6.057241e+06   \n",
       "min    2.236910e+09  4.693285e+09     0.000000  1.158291e+07   \n",
       "25%    2.236910e+09  4.693290e+09     1.000000  4.459232e+07   \n",
       "50%    2.236910e+09  4.693292e+09     1.000000  4.515890e+07   \n",
       "75%    2.236910e+09  4.693294e+09     1.000000  4.516983e+07   \n",
       "max    2.236910e+09  4.693333e+09     1.000000  4.521156e+07   \n",
       "\n",
       "             _time_to_respond  \n",
       "count                    1515  \n",
       "mean   0 days 00:00:58.775577  \n",
       "std    0 days 00:01:38.485572  \n",
       "min           0 days 00:00:07  \n",
       "25%           0 days 00:00:22  \n",
       "50%           0 days 00:00:33  \n",
       "75%           0 days 00:00:56  \n",
       "max           0 days 00:19:38  "
      ]
     },
     "execution_count": 98,
     "metadata": {},
     "output_type": "execute_result"
    }
   ],
   "source": [
    "publicgood.describe()"
   ]
  },
  {
   "cell_type": "code",
   "execution_count": 100,
   "metadata": {},
   "outputs": [
    {
     "data": {
      "text/plain": [
       "VEN    0.366337\n",
       "EGY    0.168317\n",
       "SRB    0.122112\n",
       "ESP    0.075908\n",
       "UKR    0.036304\n",
       "BIH    0.029703\n",
       "USA    0.029703\n",
       "TUR    0.029703\n",
       "IND    0.019802\n",
       "VNM    0.019802\n",
       "Name: _country, dtype: float64"
      ]
     },
     "execution_count": 100,
     "metadata": {},
     "output_type": "execute_result"
    }
   ],
   "source": [
    "publicgood._country.value_counts()[0:10]/publicgood.shape[0]"
   ]
  },
  {
   "cell_type": "code",
   "execution_count": 102,
   "metadata": {},
   "outputs": [
    {
     "data": {
      "text/plain": [
       "129"
      ]
     },
     "execution_count": 102,
     "metadata": {},
     "output_type": "execute_result"
    }
   ],
   "source": [
    "len(publicgood._worker_id.unique())"
   ]
  },
  {
   "cell_type": "code",
   "execution_count": 124,
   "metadata": {},
   "outputs": [
    {
     "name": "stdout",
     "output_type": "stream",
     "text": [
      "Normal questions accuracy\n",
      "count    232.000000\n",
      "mean      65.373563\n",
      "std       37.132089\n",
      "min        0.000000\n",
      "25%       33.333333\n",
      "50%       66.666667\n",
      "75%      100.000000\n",
      "max      100.000000\n",
      "Name: correct_pct, dtype: float64\n",
      "\n",
      "Test questions accuracy\n",
      "count     18.000000\n",
      "mean      92.274922\n",
      "std        4.120997\n",
      "min       82.500000\n",
      "25%       90.141509\n",
      "50%       91.987179\n",
      "75%       95.178571\n",
      "max      100.000000\n",
      "Name: correct_pct, dtype: float64\n"
     ]
    }
   ],
   "source": [
    "publicgood['answer'] = publicgood.animal_present.apply(yes_2_1)\n",
    "publicgood['true_answer'] = publicgood.label.apply(label_2_animal)\n",
    "#Accuracy = mean response | answer is one OR (1 - mean response) | answer is 0 (the events are mutually exclussive so you can sum)\n",
    "publicgood['correct_pct'] = 100*publicgood.true_answer*publicgood.answer \\\n",
    "                        + 100*(1-publicgood.true_answer)*(1-publicgood.answer)\n",
    "publicgood_qs = publicgood.groupby('_unit_id').mean() #Group by question and get the means.\n",
    "#Accuracy in normal questions (_golden is False)\n",
    "print('Normal questions accuracy')\n",
    "print(publicgood_qs[publicgood_qs._golden == False].correct_pct.describe())\n",
    "#Accuracy in compliance questions (_golden is True)\n",
    "print()\n",
    "print('Test questions accuracy')\n",
    "print(publicgood_qs[publicgood_qs._golden == True].correct_pct.describe())"
   ]
  },
  {
   "cell_type": "code",
   "execution_count": 125,
   "metadata": {},
   "outputs": [
    {
     "name": "stdout",
     "output_type": "stream",
     "text": [
      "Normal questions accuracy\n",
      "count     58.000000\n",
      "mean      65.243499\n",
      "std       21.579581\n",
      "min        0.000000\n",
      "25%       51.250000\n",
      "50%       65.833333\n",
      "75%       79.687500\n",
      "max      100.000000\n",
      "Name: correct_pct, dtype: float64\n",
      "\n",
      "Test questions accuracy\n",
      "count    129.000000\n",
      "mean      90.715564\n",
      "std       24.528381\n",
      "min        0.000000\n",
      "25%      100.000000\n",
      "50%      100.000000\n",
      "75%      100.000000\n",
      "max      100.000000\n",
      "Name: correct_pct, dtype: float64\n"
     ]
    }
   ],
   "source": [
    "publicgood_sbs_norm = publicgood[publicgood._golden == False].groupby('_worker_id').mean() #Group by normal questions and get the means.\n",
    "publicgood_sbs_comp = publicgood[publicgood._golden == True].groupby('_worker_id').mean() #Group by normal questions and get the means.\n",
    "#Accuracy in normal questions (_golden is False)\n",
    "print('Normal questions accuracy')\n",
    "print(publicgood_sbs_norm.correct_pct.describe())\n",
    "#Accuracy in compliance questions (_golden is True)\n",
    "print()\n",
    "print('Test questions accuracy')\n",
    "print(publicgood_sbs_comp.correct_pct.describe())"
   ]
  },
  {
   "cell_type": "code",
   "execution_count": 111,
   "metadata": {},
   "outputs": [
    {
     "name": "stdout",
     "output_type": "stream",
     "text": [
      "Power is  0.7487133453634108 for sample size  58.0\n"
     ]
    }
   ],
   "source": [
    "n = publicgood_sbs_norm.correct_pct.describe()['count']\n",
    "print('Power is ', power(effect,n,sigma), 'for sample size ', n)"
   ]
  },
  {
   "cell_type": "code",
   "execution_count": 113,
   "metadata": {},
   "outputs": [
    {
     "data": {
      "text/plain": [
       "False    1472\n",
       "True       43\n",
       "Name: _tainted, dtype: int64"
      ]
     },
     "execution_count": 113,
     "metadata": {},
     "output_type": "execute_result"
    }
   ],
   "source": [
    "#These are the people who got dropped.\n",
    "publicgood._tainted.value_counts()"
   ]
  },
  {
   "cell_type": "code",
   "execution_count": 115,
   "metadata": {},
   "outputs": [
    {
     "name": "stdout",
     "output_type": "stream",
     "text": [
      "People who completed the test - avg. score\n",
      "0.9695234374999988\n",
      "People who completed the test - avg. response time\n",
      "0 days 00:00:57.084918\n",
      "People who were dropped -  avg. score\n",
      "0.17209302325581396\n",
      "People who were dropped -  avg. response time\n",
      "0 days 00:01:56.651162\n"
     ]
    }
   ],
   "source": [
    "#We'll check if their _trust scores and times of completion are too different\n",
    "print('People who completed the test - avg. score')\n",
    "print(publicgood[publicgood._tainted == False]._trust.mean())\n",
    "print('People who completed the test - avg. response time')\n",
    "print(publicgood[publicgood._tainted == False]._time_to_respond.mean())\n",
    "print('People who were dropped -  avg. score')\n",
    "print(publicgood[publicgood._tainted == True]._trust.mean())\n",
    "print('People who were dropped -  avg. response time')\n",
    "print(publicgood[publicgood._tainted == True]._time_to_respond.mean())"
   ]
  },
  {
   "cell_type": "markdown",
   "metadata": {},
   "source": [
    "# Evaluation group"
   ]
  },
  {
   "cell_type": "code",
   "execution_count": 116,
   "metadata": {},
   "outputs": [
    {
     "name": "stdout",
     "output_type": "stream",
     "text": [
      "Index(['_unit_id', '_created_at', '_golden', '_id', '_missed', '_started_at',\n",
      "       '_tainted', '_channel', '_trust', '_worker_id', '_country', '_region',\n",
      "       '_city', '_ip', 'animal_present', 'animal_present_gold', 'image_url',\n",
      "       'label'],\n",
      "      dtype='object')\n"
     ]
    }
   ],
   "source": [
    "# Check fields\n",
    "print(evaluation.columns)"
   ]
  },
  {
   "cell_type": "code",
   "execution_count": 119,
   "metadata": {},
   "outputs": [
    {
     "data": {
      "text/html": [
       "<div>\n",
       "<style scoped>\n",
       "    .dataframe tbody tr th:only-of-type {\n",
       "        vertical-align: middle;\n",
       "    }\n",
       "\n",
       "    .dataframe tbody tr th {\n",
       "        vertical-align: top;\n",
       "    }\n",
       "\n",
       "    .dataframe thead th {\n",
       "        text-align: right;\n",
       "    }\n",
       "</style>\n",
       "<table border=\"1\" class=\"dataframe\">\n",
       "  <thead>\n",
       "    <tr style=\"text-align: right;\">\n",
       "      <th></th>\n",
       "      <th>_unit_id</th>\n",
       "      <th>_id</th>\n",
       "      <th>_trust</th>\n",
       "      <th>_worker_id</th>\n",
       "      <th>_time_to_respond</th>\n",
       "    </tr>\n",
       "  </thead>\n",
       "  <tbody>\n",
       "    <tr>\n",
       "      <th>count</th>\n",
       "      <td>1.320000e+03</td>\n",
       "      <td>1.320000e+03</td>\n",
       "      <td>1320.000000</td>\n",
       "      <td>1.320000e+03</td>\n",
       "      <td>1320</td>\n",
       "    </tr>\n",
       "    <tr>\n",
       "      <th>mean</th>\n",
       "      <td>2.237183e+09</td>\n",
       "      <td>4.695386e+09</td>\n",
       "      <td>0.979040</td>\n",
       "      <td>4.093858e+07</td>\n",
       "      <td>0 days 00:00:44.753787</td>\n",
       "    </tr>\n",
       "    <tr>\n",
       "      <th>std</th>\n",
       "      <td>8.001923e+01</td>\n",
       "      <td>2.778914e+03</td>\n",
       "      <td>0.132904</td>\n",
       "      <td>1.023581e+07</td>\n",
       "      <td>0 days 00:01:00.089994</td>\n",
       "    </tr>\n",
       "    <tr>\n",
       "      <th>min</th>\n",
       "      <td>2.237182e+09</td>\n",
       "      <td>4.695380e+09</td>\n",
       "      <td>0.000000</td>\n",
       "      <td>6.335542e+06</td>\n",
       "      <td>0 days 00:00:06</td>\n",
       "    </tr>\n",
       "    <tr>\n",
       "      <th>25%</th>\n",
       "      <td>2.237183e+09</td>\n",
       "      <td>4.695384e+09</td>\n",
       "      <td>1.000000</td>\n",
       "      <td>4.407974e+07</td>\n",
       "      <td>0 days 00:00:18</td>\n",
       "    </tr>\n",
       "    <tr>\n",
       "      <th>50%</th>\n",
       "      <td>2.237183e+09</td>\n",
       "      <td>4.695386e+09</td>\n",
       "      <td>1.000000</td>\n",
       "      <td>4.505358e+07</td>\n",
       "      <td>0 days 00:00:30</td>\n",
       "    </tr>\n",
       "    <tr>\n",
       "      <th>75%</th>\n",
       "      <td>2.237183e+09</td>\n",
       "      <td>4.695388e+09</td>\n",
       "      <td>1.000000</td>\n",
       "      <td>4.516952e+07</td>\n",
       "      <td>0 days 00:00:43</td>\n",
       "    </tr>\n",
       "    <tr>\n",
       "      <th>max</th>\n",
       "      <td>2.237183e+09</td>\n",
       "      <td>4.695404e+09</td>\n",
       "      <td>1.000000</td>\n",
       "      <td>4.521294e+07</td>\n",
       "      <td>0 days 00:11:16</td>\n",
       "    </tr>\n",
       "  </tbody>\n",
       "</table>\n",
       "</div>"
      ],
      "text/plain": [
       "           _unit_id           _id       _trust    _worker_id  \\\n",
       "count  1.320000e+03  1.320000e+03  1320.000000  1.320000e+03   \n",
       "mean   2.237183e+09  4.695386e+09     0.979040  4.093858e+07   \n",
       "std    8.001923e+01  2.778914e+03     0.132904  1.023581e+07   \n",
       "min    2.237182e+09  4.695380e+09     0.000000  6.335542e+06   \n",
       "25%    2.237183e+09  4.695384e+09     1.000000  4.407974e+07   \n",
       "50%    2.237183e+09  4.695386e+09     1.000000  4.505358e+07   \n",
       "75%    2.237183e+09  4.695388e+09     1.000000  4.516952e+07   \n",
       "max    2.237183e+09  4.695404e+09     1.000000  4.521294e+07   \n",
       "\n",
       "             _time_to_respond  \n",
       "count                    1320  \n",
       "mean   0 days 00:00:44.753787  \n",
       "std    0 days 00:01:00.089994  \n",
       "min           0 days 00:00:06  \n",
       "25%           0 days 00:00:18  \n",
       "50%           0 days 00:00:30  \n",
       "75%           0 days 00:00:43  \n",
       "max           0 days 00:11:16  "
      ]
     },
     "execution_count": 119,
     "metadata": {},
     "output_type": "execute_result"
    }
   ],
   "source": [
    "evaluation['_time_to_respond'] = evaluation._created_at.apply(lambda x: datetime.strptime(x, \"%m/%d/%Y %H:%M:%S\"))-evaluation._started_at.apply(lambda x: datetime.strptime(x, \"%m/%d/%Y %H:%M:%S\"))\n",
    "evaluation.describe()"
   ]
  },
  {
   "cell_type": "code",
   "execution_count": 120,
   "metadata": {},
   "outputs": [
    {
     "data": {
      "text/plain": [
       "VEN    0.344697\n",
       "EGY    0.106061\n",
       "SRB    0.106061\n",
       "ESP    0.068182\n",
       "VNM    0.064394\n",
       "UKR    0.060606\n",
       "GRC    0.041667\n",
       "COL    0.037879\n",
       "URY    0.026515\n",
       "IND    0.022727\n",
       "Name: _country, dtype: float64"
      ]
     },
     "execution_count": 120,
     "metadata": {},
     "output_type": "execute_result"
    }
   ],
   "source": [
    "evaluation._country.value_counts()[0:10]/evaluation.shape[0]"
   ]
  },
  {
   "cell_type": "code",
   "execution_count": 121,
   "metadata": {},
   "outputs": [
    {
     "data": {
      "text/plain": [
       "90"
      ]
     },
     "execution_count": 121,
     "metadata": {},
     "output_type": "execute_result"
    }
   ],
   "source": [
    "len(evaluation._worker_id.unique())"
   ]
  },
  {
   "cell_type": "code",
   "execution_count": 123,
   "metadata": {},
   "outputs": [
    {
     "name": "stdout",
     "output_type": "stream",
     "text": [
      "Normal questions accuracy\n",
      "count    232.000000\n",
      "mean      65.373563\n",
      "std       36.080908\n",
      "min        0.000000\n",
      "25%       33.333333\n",
      "50%       66.666667\n",
      "75%      100.000000\n",
      "max      100.000000\n",
      "Name: correct_pct, dtype: float64\n",
      "\n",
      "Test questions accuracy\n",
      "count     18.000000\n",
      "mean      95.606175\n",
      "std        2.012094\n",
      "min       92.592593\n",
      "25%       94.159664\n",
      "50%       94.929397\n",
      "75%       97.121849\n",
      "max      100.000000\n",
      "Name: correct_pct, dtype: float64\n"
     ]
    }
   ],
   "source": [
    "evaluation['answer'] = evaluation.animal_present.apply(yes_2_1)\n",
    "evaluation['true_answer'] = evaluation.label.apply(label_2_animal)\n",
    "#Accuracy = mean response | answer is one OR (1 - mean response) | answer is 0 (the events are mutually exclussive so you can sum)\n",
    "evaluation['correct_pct'] = 100*evaluation.true_answer*evaluation.answer \\\n",
    "                        + 100*(1-evaluation.true_answer)*(1-evaluation.answer)\n",
    "evaluation_qs = evaluation.groupby('_unit_id').mean() #Group by question and get the means.\n",
    "#Accuracy in normal questions (_golden is False)\n",
    "print('Normal questions accuracy')\n",
    "print(evaluation_qs[evaluation_qs._golden == False].correct_pct.describe())\n",
    "#Accuracy in compliance questions (_golden is True)\n",
    "print()\n",
    "print('Test questions accuracy')\n",
    "print(evaluation_qs[evaluation_qs._golden == True].correct_pct.describe())"
   ]
  },
  {
   "cell_type": "code",
   "execution_count": 126,
   "metadata": {},
   "outputs": [
    {
     "name": "stdout",
     "output_type": "stream",
     "text": [
      "Normal questions accuracy\n",
      "count     48.000000\n",
      "mean      63.212473\n",
      "std       23.087103\n",
      "min        0.000000\n",
      "25%       50.000000\n",
      "50%       66.666667\n",
      "75%       75.000000\n",
      "max      100.000000\n",
      "Name: correct_pct, dtype: float64\n",
      "\n",
      "Test questions accuracy\n",
      "count     90.000000\n",
      "mean      94.037037\n",
      "std       22.304747\n",
      "min        0.000000\n",
      "25%      100.000000\n",
      "50%      100.000000\n",
      "75%      100.000000\n",
      "max      100.000000\n",
      "Name: correct_pct, dtype: float64\n"
     ]
    }
   ],
   "source": [
    "evaluation_sbs_norm = evaluation[evaluation._golden == False].groupby('_worker_id').mean() #Group by normal questions and get the means.\n",
    "evaluation_sbs_comp = evaluation[evaluation._golden == True].groupby('_worker_id').mean() #Group by normal questions and get the means.\n",
    "#Accuracy in normal questions (_golden is False)\n",
    "print('Normal questions accuracy')\n",
    "print(evaluation_sbs_norm.correct_pct.describe())\n",
    "#Accuracy in compliance questions (_golden is True)\n",
    "print()\n",
    "print('Test questions accuracy')\n",
    "print(evaluation_sbs_comp.correct_pct.describe())"
   ]
  },
  {
   "cell_type": "code",
   "execution_count": 127,
   "metadata": {},
   "outputs": [
    {
     "name": "stdout",
     "output_type": "stream",
     "text": [
      "Power is  0.6674805229149614 for sample size  48.0\n"
     ]
    }
   ],
   "source": [
    "n = evaluation_sbs_norm.correct_pct.describe()['count']\n",
    "print('Power is ', power(effect,n,sigma), 'for sample size ', n)"
   ]
  },
  {
   "cell_type": "code",
   "execution_count": 129,
   "metadata": {},
   "outputs": [
    {
     "data": {
      "text/plain": [
       "False    1298\n",
       "True       22\n",
       "Name: _tainted, dtype: int64"
      ]
     },
     "execution_count": 129,
     "metadata": {},
     "output_type": "execute_result"
    }
   ],
   "source": [
    "#These are the people who got dropped.\n",
    "evaluation._tainted.value_counts()"
   ]
  },
  {
   "cell_type": "code",
   "execution_count": 130,
   "metadata": {},
   "outputs": [
    {
     "name": "stdout",
     "output_type": "stream",
     "text": [
      "People who completed the test - avg. score\n",
      "0.994093220338983\n",
      "People who completed the test - avg. response time\n",
      "0 days 00:00:43.292758\n",
      "People who were dropped -  avg. score\n",
      "0.09090909090909091\n",
      "People who were dropped -  avg. response time\n",
      "0 days 00:02:10.954545\n"
     ]
    }
   ],
   "source": [
    "#We'll check if their _trust scores and times of completion are too different\n",
    "print('People who completed the test - avg. score')\n",
    "print(evaluation[evaluation._tainted == False]._trust.mean())\n",
    "print('People who completed the test - avg. response time')\n",
    "print(evaluation[evaluation._tainted == False]._time_to_respond.mean())\n",
    "print('People who were dropped -  avg. score')\n",
    "print(evaluation[evaluation._tainted == True]._trust.mean())\n",
    "print('People who were dropped -  avg. response time')\n",
    "print(evaluation[evaluation._tainted == True]._time_to_respond.mean())"
   ]
  }
 ],
 "metadata": {
  "kernelspec": {
   "display_name": "Python 3",
   "language": "python",
   "name": "python3"
  },
  "language_info": {
   "codemirror_mode": {
    "name": "ipython",
    "version": 3
   },
   "file_extension": ".py",
   "mimetype": "text/x-python",
   "name": "python",
   "nbconvert_exporter": "python",
   "pygments_lexer": "ipython3",
   "version": "3.5.4"
  },
  "latex_envs": {
   "LaTeX_envs_menu_present": true,
   "autoclose": false,
   "autocomplete": true,
   "bibliofile": "biblio.bib",
   "cite_by": "apalike",
   "current_citInitial": 1,
   "eqLabelWithNumbers": true,
   "eqNumInitial": 1,
   "hotkeys": {
    "equation": "Ctrl-E",
    "itemize": "Ctrl-I"
   },
   "labels_anchors": false,
   "latex_user_defs": false,
   "report_style_numbering": false,
   "user_envs_cfg": false
  },
  "toc": {
   "base_numbering": 1,
   "nav_menu": {},
   "number_sections": true,
   "sideBar": true,
   "skip_h1_title": false,
   "title_cell": "Table of Contents",
   "title_sidebar": "Contents",
   "toc_cell": false,
   "toc_position": {},
   "toc_section_display": true,
   "toc_window_display": false
  },
  "varInspector": {
   "cols": {
    "lenName": 16,
    "lenType": 16,
    "lenVar": 40
   },
   "kernels_config": {
    "python": {
     "delete_cmd_postfix": "",
     "delete_cmd_prefix": "del ",
     "library": "var_list.py",
     "varRefreshCmd": "print(var_dic_list())"
    },
    "r": {
     "delete_cmd_postfix": ") ",
     "delete_cmd_prefix": "rm(",
     "library": "var_list.r",
     "varRefreshCmd": "cat(var_dic_list()) "
    }
   },
   "types_to_exclude": [
    "module",
    "function",
    "builtin_function_or_method",
    "instance",
    "_Feature"
   ],
   "window_display": false
  }
 },
 "nbformat": 4,
 "nbformat_minor": 2
}
