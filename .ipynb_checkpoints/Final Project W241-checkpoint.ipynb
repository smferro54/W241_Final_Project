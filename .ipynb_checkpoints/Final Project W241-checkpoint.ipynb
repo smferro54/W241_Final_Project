{
 "cells": [
  {
   "cell_type": "markdown",
   "metadata": {
    "hide_input": true
   },
   "source": [
    "# [W241 Final Project] Crowdsourcing: Can Instructions Improve the Quality and Accuracy of Labelled Data? \n",
    "## Authors: Vivian Lu, Aditi Khullar, Sergio Ferro"
   ]
  },
  {
   "cell_type": "code",
   "execution_count": 3,
   "metadata": {},
   "outputs": [],
   "source": [
    "import numpy as np\n",
    "import pandas as pd\n",
    "from datetime import datetime\n",
    "from scipy.stats import norm\n",
    "import matplotlib.pyplot as plt\n",
    "%matplotlib inline"
   ]
  },
  {
   "cell_type": "code",
   "execution_count": 4,
   "metadata": {
    "hide_input": true
   },
   "outputs": [],
   "source": [
    "# read in all the raw files\n",
    "first_pilot = pd.read_csv('first_pilot.csv')\n",
    "second_pilot = pd.read_csv('second_pilot.csv')\n",
    "control = pd.read_csv('manipulated_data_control_full_dropped.csv')\n",
    "publicgood = pd.read_csv('manipulated_data_publicgood_full_dropped.csv')\n",
    "evaluation = pd.read_csv('manipulated_data_evaluation_full_dropped.csv')"
   ]
  },
  {
   "cell_type": "markdown",
   "metadata": {
    "hide_input": false
   },
   "source": [
    "# 1.0 Introduction & Motivation"
   ]
  },
  {
   "cell_type": "markdown",
   "metadata": {},
   "source": [
    "We were motivated in figuring out what makes quality of data collected from crowdsourcing platforms better. Contributors--often from third-world countries--log in to these crowdsourcing platforms to answer questions submitted by researchers, analysts, and data scientists from multiple companies. We know how important the **quality of human labeled data can be for various supervised machine learning algorithm.**\n",
    "What we were most interested in exploring was to see **if apart from money, are there other treatments that we can provide to increase the quality of the labeled datasets collected from the crowd.**  \n",
    "\n",
    "Given that instructions are often present in most of these crowdsourcing platforms, **we wondered if altering the instructions with a particular message could encourage users to put in more effort and try harder on these labelling jobs.**\n",
    "\n",
    "We used [Figure8](https://www.figure-eight.com/) platform, a highly customizable online tool that can annotate text, images, video, or audio in whatever way is right for your usecase. We chose this platform because: \n",
    "1. We have had professional success stories of using this platform for collecting training data\n",
    "2. We did not want to go with free platform due to lack of availability of responders on these free alternatives\n",
    "3. Since, this is a paid platform, we wanted to see which treatment beyond payment motivates the responders\n"
   ]
  },
  {
   "cell_type": "markdown",
   "metadata": {},
   "source": [
    "# 2.0 Pilot Studies\n",
    "\n",
    "In order to understand the sorts of questions that we could provide to contributors that would provide enough variation for analysis, we launched 2 pilot studies as we learned what contributors could and could not do on the Figure8 platform."
   ]
  },
  {
   "cell_type": "markdown",
   "metadata": {
    "hide_input": true
   },
   "source": [
    "## 2.1 Pilot 1 \n",
    "\n",
    "**Motivation for Pilot 1:** Contributors can easily log into the Figure8 platform to take tests without reading instructions, which would be our form of delivering treatment as we wanted to vary instructions to see their effect on contributors' scores. Therefore, we launched pilot 1 to understand how likely it was that contributors would actually read instructions. **To test this, we placed an 'attention check' within the instructions in addition to a basic set of instructions that would be provided to everyone.** \n",
    "\n",
    "Specfically, our attention check for pilot 1 asked for contributors to select a specific answer (\"Positive\") to a question (\"This is a lion\") if encountered. We define here that a contributor has read instructions by looking to see if they answered this attention check correctly. \n",
    "\n",
    "Our first pilot consisted of using short product reviews to be categorized as positive or negative sentiment. We initially chose this dataset due to its simplicity in understanding the English language. Furthermore, product reviews did not seem to need any specific knowledge regarding particular fields. \n",
    "\n",
    "*Image 1.0 (below):* Instructions encompassed within Pilot 1"
   ]
  },
  {
   "cell_type": "markdown",
   "metadata": {
    "hide_input": true
   },
   "source": [
    "![Pilot 1 screenshot](./images/pilot1.png \"Pilot1\")\n"
   ]
  },
  {
   "cell_type": "code",
   "execution_count": 3,
   "metadata": {
    "hide_input": true
   },
   "outputs": [],
   "source": [
    "# Number of units (questions) launched\n",
    "nul = len(first_pilot._unit_id.unique())\n",
    "nur = len(first_pilot._worker_id.unique())\n"
   ]
  },
  {
   "cell_type": "markdown",
   "metadata": {},
   "source": [
    "**Quick stats about Pilot 1:**\n",
    "\n",
    "* **Number of questions launched:** 113\n",
    "* **Total unique responders:** 77\n",
    "* **Launch date:** Tuesday, March 26, 2019\n",
    "* **Launch time:** 11pm\n",
    "* **Completion time:** 7 hours "
   ]
  },
  {
   "cell_type": "markdown",
   "metadata": {
    "hide_input": false
   },
   "source": [
    "### 2.1.1 Data collected by Figure8\n",
    "\n",
    "Below, we provide all fields collected on the contributors from Figure8 platform"
   ]
  },
  {
   "cell_type": "markdown",
   "metadata": {},
   "source": [
    "**Field Definitions**\n",
    "\n",
    "\n",
    "    _unit_id: A unique ID number created by the system for each question\n",
    "    _created_at: The time the contributor submitted the judgement \n",
    "    _golden: This will be \"true\" if this is an attention check question, otherwise it is \"false\"\n",
    "    _id: A unique ID number generated for this specific judgment\n",
    "    _missed: This will be \"true\" if the row is an incorrect judgment on a test question.\n",
    "    _started_at: The time at which the contributor started working on the judgement\n",
    "    _tainted: This will be \"true\" if the contributor has been flagged for falling below the required accuracy.\n",
    "    _channel: The work channel that the contributor accessed the job through.\n",
    "    _trust: The contributor's accuracy. \n",
    "    _worker_id: A unique ID number assigned to the contributor.\n",
    "    _country: The country the contributor is from.\n",
    "    _region: A region code for the area the contributor is from.\n",
    "    _city: The city the contributor is from.\n",
    "    _ip: The IP address for the contributor.\n",
    "    _gold: The correct answer for the test question.\n",
    "\n",
    "We can use **time of response, trust scores, cities and countries** to check the balances between groups. The **tainted indicator** tells us who was dropped and we can report on their statistics. \n"
   ]
  },
  {
   "cell_type": "code",
   "execution_count": 4,
   "metadata": {
    "hide_input": true
   },
   "outputs": [
    {
     "data": {
      "text/html": [
       "<div>\n",
       "<style scoped>\n",
       "    .dataframe tbody tr th:only-of-type {\n",
       "        vertical-align: middle;\n",
       "    }\n",
       "\n",
       "    .dataframe tbody tr th {\n",
       "        vertical-align: top;\n",
       "    }\n",
       "\n",
       "    .dataframe thead th {\n",
       "        text-align: right;\n",
       "    }\n",
       "</style>\n",
       "<table border=\"1\" class=\"dataframe\">\n",
       "  <thead>\n",
       "    <tr style=\"text-align: right;\">\n",
       "      <th></th>\n",
       "      <th>_unit_id</th>\n",
       "      <th>_created_at</th>\n",
       "      <th>_golden</th>\n",
       "      <th>_id</th>\n",
       "      <th>_missed</th>\n",
       "      <th>_started_at</th>\n",
       "      <th>_tainted</th>\n",
       "      <th>_channel</th>\n",
       "      <th>_trust</th>\n",
       "      <th>_worker_id</th>\n",
       "      <th>_country</th>\n",
       "      <th>_region</th>\n",
       "      <th>_city</th>\n",
       "      <th>_ip</th>\n",
       "      <th>please_select_the_sentiment_feeling_of_the_product_review</th>\n",
       "      <th>1</th>\n",
       "      <th>label</th>\n",
       "      <th>please_select_the_sentiment_feeling_of_the_product_review_gold</th>\n",
       "      <th>text</th>\n",
       "      <th>this_is_a_lion</th>\n",
       "    </tr>\n",
       "  </thead>\n",
       "  <tbody>\n",
       "    <tr>\n",
       "      <th>333</th>\n",
       "      <td>2218243929</td>\n",
       "      <td>3/26/2019 02:25:37</td>\n",
       "      <td>True</td>\n",
       "      <td>4661146712</td>\n",
       "      <td>NaN</td>\n",
       "      <td>3/26/2019 02:24:55</td>\n",
       "      <td>False</td>\n",
       "      <td>clixsense</td>\n",
       "      <td>1.0</td>\n",
       "      <td>44980050</td>\n",
       "      <td>TUR</td>\n",
       "      <td>68</td>\n",
       "      <td>Ankara</td>\n",
       "      <td>94.54.16.1</td>\n",
       "      <td>1</td>\n",
       "      <td>NaN</td>\n",
       "      <td>1</td>\n",
       "      <td>1.0</td>\n",
       "      <td>This is a lion</td>\n",
       "      <td>NaN</td>\n",
       "    </tr>\n",
       "    <tr>\n",
       "      <th>362</th>\n",
       "      <td>2218245535</td>\n",
       "      <td>3/26/2019 02:25:37</td>\n",
       "      <td>True</td>\n",
       "      <td>4661146708</td>\n",
       "      <td>NaN</td>\n",
       "      <td>3/26/2019 02:24:55</td>\n",
       "      <td>False</td>\n",
       "      <td>clixsense</td>\n",
       "      <td>1.0</td>\n",
       "      <td>44980050</td>\n",
       "      <td>TUR</td>\n",
       "      <td>68</td>\n",
       "      <td>Ankara</td>\n",
       "      <td>94.54.16.1</td>\n",
       "      <td>1</td>\n",
       "      <td>NaN</td>\n",
       "      <td>1</td>\n",
       "      <td>1.0</td>\n",
       "      <td>This is a lion</td>\n",
       "      <td>NaN</td>\n",
       "    </tr>\n",
       "    <tr>\n",
       "      <th>300</th>\n",
       "      <td>2216130240</td>\n",
       "      <td>3/26/2019 02:25:37</td>\n",
       "      <td>True</td>\n",
       "      <td>4661146706</td>\n",
       "      <td>NaN</td>\n",
       "      <td>3/26/2019 02:24:55</td>\n",
       "      <td>False</td>\n",
       "      <td>clixsense</td>\n",
       "      <td>1.0</td>\n",
       "      <td>44980050</td>\n",
       "      <td>TUR</td>\n",
       "      <td>68</td>\n",
       "      <td>Ankara</td>\n",
       "      <td>94.54.16.1</td>\n",
       "      <td>1</td>\n",
       "      <td>NaN</td>\n",
       "      <td>1</td>\n",
       "      <td>1.0</td>\n",
       "      <td>This is a lion</td>\n",
       "      <td>NaN</td>\n",
       "    </tr>\n",
       "    <tr>\n",
       "      <th>582</th>\n",
       "      <td>2218246446</td>\n",
       "      <td>3/26/2019 02:25:37</td>\n",
       "      <td>True</td>\n",
       "      <td>4661146711</td>\n",
       "      <td>NaN</td>\n",
       "      <td>3/26/2019 02:24:55</td>\n",
       "      <td>False</td>\n",
       "      <td>clixsense</td>\n",
       "      <td>1.0</td>\n",
       "      <td>44980050</td>\n",
       "      <td>TUR</td>\n",
       "      <td>68</td>\n",
       "      <td>Ankara</td>\n",
       "      <td>94.54.16.1</td>\n",
       "      <td>1</td>\n",
       "      <td>NaN</td>\n",
       "      <td>1</td>\n",
       "      <td>1.0</td>\n",
       "      <td>This is a lion</td>\n",
       "      <td>NaN</td>\n",
       "    </tr>\n",
       "    <tr>\n",
       "      <th>686</th>\n",
       "      <td>2218246733</td>\n",
       "      <td>3/26/2019 02:25:37</td>\n",
       "      <td>True</td>\n",
       "      <td>4661146715</td>\n",
       "      <td>NaN</td>\n",
       "      <td>3/26/2019 02:24:55</td>\n",
       "      <td>False</td>\n",
       "      <td>clixsense</td>\n",
       "      <td>1.0</td>\n",
       "      <td>44980050</td>\n",
       "      <td>TUR</td>\n",
       "      <td>68</td>\n",
       "      <td>Ankara</td>\n",
       "      <td>94.54.16.1</td>\n",
       "      <td>1</td>\n",
       "      <td>NaN</td>\n",
       "      <td>1</td>\n",
       "      <td>1.0</td>\n",
       "      <td>This is a lion</td>\n",
       "      <td>NaN</td>\n",
       "    </tr>\n",
       "  </tbody>\n",
       "</table>\n",
       "</div>"
      ],
      "text/plain": [
       "       _unit_id         _created_at  _golden         _id _missed  \\\n",
       "333  2218243929  3/26/2019 02:25:37     True  4661146712     NaN   \n",
       "362  2218245535  3/26/2019 02:25:37     True  4661146708     NaN   \n",
       "300  2216130240  3/26/2019 02:25:37     True  4661146706     NaN   \n",
       "582  2218246446  3/26/2019 02:25:37     True  4661146711     NaN   \n",
       "686  2218246733  3/26/2019 02:25:37     True  4661146715     NaN   \n",
       "\n",
       "            _started_at  _tainted   _channel  _trust  _worker_id _country  \\\n",
       "333  3/26/2019 02:24:55     False  clixsense     1.0    44980050      TUR   \n",
       "362  3/26/2019 02:24:55     False  clixsense     1.0    44980050      TUR   \n",
       "300  3/26/2019 02:24:55     False  clixsense     1.0    44980050      TUR   \n",
       "582  3/26/2019 02:24:55     False  clixsense     1.0    44980050      TUR   \n",
       "686  3/26/2019 02:24:55     False  clixsense     1.0    44980050      TUR   \n",
       "\n",
       "    _region   _city         _ip  \\\n",
       "333      68  Ankara  94.54.16.1   \n",
       "362      68  Ankara  94.54.16.1   \n",
       "300      68  Ankara  94.54.16.1   \n",
       "582      68  Ankara  94.54.16.1   \n",
       "686      68  Ankara  94.54.16.1   \n",
       "\n",
       "     please_select_the_sentiment_feeling_of_the_product_review   1  label  \\\n",
       "333                                                  1         NaN      1   \n",
       "362                                                  1         NaN      1   \n",
       "300                                                  1         NaN      1   \n",
       "582                                                  1         NaN      1   \n",
       "686                                                  1         NaN      1   \n",
       "\n",
       "     please_select_the_sentiment_feeling_of_the_product_review_gold  \\\n",
       "333                                                1.0                \n",
       "362                                                1.0                \n",
       "300                                                1.0                \n",
       "582                                                1.0                \n",
       "686                                                1.0                \n",
       "\n",
       "               text  this_is_a_lion  \n",
       "333  This is a lion             NaN  \n",
       "362  This is a lion             NaN  \n",
       "300  This is a lion             NaN  \n",
       "582  This is a lion             NaN  \n",
       "686  This is a lion             NaN  "
      ]
     },
     "execution_count": 4,
     "metadata": {},
     "output_type": "execute_result"
    }
   ],
   "source": [
    "first_pilot.sort_values('_started_at').head(5)"
   ]
  },
  {
   "cell_type": "markdown",
   "metadata": {},
   "source": [
    "### 2.1.2 Average response time \n",
    "We note that on average, contributors spent 13 seconds per question. The minimum time spent on a question was 2 seconds while the maximum time spent on a question was nearly 1.5 minutes. "
   ]
  },
  {
   "cell_type": "code",
   "execution_count": 5,
   "metadata": {
    "hide_input": true
   },
   "outputs": [
    {
     "data": {
      "text/html": [
       "<div>\n",
       "<style scoped>\n",
       "    .dataframe tbody tr th:only-of-type {\n",
       "        vertical-align: middle;\n",
       "    }\n",
       "\n",
       "    .dataframe tbody tr th {\n",
       "        vertical-align: top;\n",
       "    }\n",
       "\n",
       "    .dataframe thead th {\n",
       "        text-align: right;\n",
       "    }\n",
       "</style>\n",
       "<table border=\"1\" class=\"dataframe\">\n",
       "  <thead>\n",
       "    <tr style=\"text-align: right;\">\n",
       "      <th></th>\n",
       "      <th>_time_to_respond</th>\n",
       "    </tr>\n",
       "    <tr>\n",
       "      <th>index</th>\n",
       "      <th></th>\n",
       "    </tr>\n",
       "  </thead>\n",
       "  <tbody>\n",
       "    <tr>\n",
       "      <th>min</th>\n",
       "      <td>0 days 00:00:02.400000</td>\n",
       "    </tr>\n",
       "    <tr>\n",
       "      <th>max</th>\n",
       "      <td>0 days 00:01:24.800000</td>\n",
       "    </tr>\n",
       "    <tr>\n",
       "      <th>mean</th>\n",
       "      <td>0 days 00:00:13.873684</td>\n",
       "    </tr>\n",
       "  </tbody>\n",
       "</table>\n",
       "</div>"
      ],
      "text/plain": [
       "             _time_to_respond\n",
       "index                        \n",
       "min    0 days 00:00:02.400000\n",
       "max    0 days 00:01:24.800000\n",
       "mean   0 days 00:00:13.873684"
      ]
     },
     "execution_count": 5,
     "metadata": {},
     "output_type": "execute_result"
    }
   ],
   "source": [
    "first_pilot['_time_to_respond'] = (first_pilot._created_at.apply(lambda x: datetime.strptime(x, \"%m/%d/%Y %H:%M:%S\"))-first_pilot._started_at.apply(lambda x: datetime.strptime(x, \"%m/%d/%Y %H:%M:%S\")))/5\n",
    "first_pilot['_time_to_respond'].describe().reset_index().set_index('index').loc[['min', 'max', 'mean']]\n"
   ]
  },
  {
   "cell_type": "markdown",
   "metadata": {
    "hide_input": true
   },
   "source": [
    "###  2.1.3 Contributor Countries and Trust distributions\n",
    "\n",
    "To get a sense of where our population was coming from, we examine their characteristics."
   ]
  },
  {
   "cell_type": "code",
   "execution_count": 59,
   "metadata": {
    "hide_input": true
   },
   "outputs": [
    {
     "data": {
      "image/png": "[encoded data removed]",
      "text/plain": [
       "<matplotlib.figure.Figure at 0x118300748>"
      ]
     },
     "metadata": {
      "needs_background": "light"
     },
     "output_type": "display_data"
    }
   ],
   "source": [
    "f, axes = plt.subplots(1, 2);\n",
    "f.set_figheight(5)\n",
    "f.set_figwidth(15)\n",
    "country_count  = first_pilot._country.value_counts()\n",
    "country_count = country_count[:10,]/first_pilot.shape[0]\n",
    "country_count.plot(kind='bar', ax=axes[0]);\n",
    "axes[0].set_title('Country distribution for \"Pilot 1\" study')\n",
    "axes[0].set_ylabel('% of Contributors')\n",
    "trust_per_worker  = first_pilot[['_trust', '_worker_id']].groupby('_worker_id').mean();\n",
    "trust_per_worker.plot(kind='hist', bins = 4, ax=axes[1]);\n",
    "axes[1].set_title('Trust distribution for \"Pilot 1\" study')\n",
    "plt.show()"
   ]
  },
  {
   "cell_type": "markdown",
   "metadata": {
    "hide_input": true
   },
   "source": [
    "All our contributors came from a total of 10 different countries. \n",
    "\n",
    "Since the pilot was launched at 11:00 pm EST, most of the contributors came from the country which are in +5GMT. \n",
    "We saw about 16% of the contributors in pilot 1 coming from India."
   ]
  },
  {
   "cell_type": "markdown",
   "metadata": {},
   "source": [
    "Most of the contributors were high trust contributors, in which \"trust\" was a metric gauging how \"trustworthy\" a contributor was based on their previous performances on other tests. It is unknown how Figure8 decides the trust value of contributors, but it should be noted that test administrators (such as ourselves) do not have access to this trust metric beforehand. Furthermore, we made sure to turn off the setting in Figure8 that specifies particular channels within specific regions of the world for distribution or any characteristics (such as trust) that could skew our population in any way. Lastly we depict the distribution of our contributors' trust scores, indicating that most of them were of fairly high trust scores. We will continue to show the distribution of the contributors' trust values to make sure that experiment results will not be biased due to weaker contibutors."
   ]
  },
  {
   "cell_type": "markdown",
   "metadata": {},
   "source": [
    "### 2.1.4 Scores\n",
    "\n",
    "Scores are defined as the percentage of correctly answered questions for each contributor. In order to detect an effect, we needed to ensure a certain amount of variation in the scores by our contributors. "
   ]
  },
  {
   "cell_type": "code",
   "execution_count": 29,
   "metadata": {},
   "outputs": [],
   "source": [
    "# for each worker, find their scores \n",
    "workers = list(first_pilot['_worker_id'].unique())\n",
    "pct_correct = []\n",
    "for w in workers: \n",
    "    subdf=first_pilot[first_pilot['_worker_id']==w]\n",
    "    correct=len(subdf[subdf['please_select_the_sentiment_feeling_of_the_product_review']==subdf['label']])/len(subdf)*100\n",
    "    pct_correct.append(correct)\n",
    "\n",
    "pilot1_scores=pd.DataFrame([workers, pct_correct]).T\n",
    "pilot1_scores.columns=['workers','scores']\n"
   ]
  },
  {
   "cell_type": "code",
   "execution_count": 31,
   "metadata": {},
   "outputs": [
    {
     "data": {
      "text/html": [
       "<div>\n",
       "<style scoped>\n",
       "    .dataframe tbody tr th:only-of-type {\n",
       "        vertical-align: middle;\n",
       "    }\n",
       "\n",
       "    .dataframe tbody tr th {\n",
       "        vertical-align: top;\n",
       "    }\n",
       "\n",
       "    .dataframe thead th {\n",
       "        text-align: right;\n",
       "    }\n",
       "</style>\n",
       "<table border=\"1\" class=\"dataframe\">\n",
       "  <thead>\n",
       "    <tr style=\"text-align: right;\">\n",
       "      <th></th>\n",
       "      <th>workers</th>\n",
       "      <th>scores</th>\n",
       "    </tr>\n",
       "  </thead>\n",
       "  <tbody>\n",
       "    <tr>\n",
       "      <th>count</th>\n",
       "      <td>77.00</td>\n",
       "      <td>77.00</td>\n",
       "    </tr>\n",
       "    <tr>\n",
       "      <th>mean</th>\n",
       "      <td>39883889.09</td>\n",
       "      <td>96.49</td>\n",
       "    </tr>\n",
       "    <tr>\n",
       "      <th>std</th>\n",
       "      <td>8159923.44</td>\n",
       "      <td>7.39</td>\n",
       "    </tr>\n",
       "    <tr>\n",
       "      <th>min</th>\n",
       "      <td>6342275.00</td>\n",
       "      <td>70.00</td>\n",
       "    </tr>\n",
       "    <tr>\n",
       "      <th>25%</th>\n",
       "      <td>38198526.00</td>\n",
       "      <td>100.00</td>\n",
       "    </tr>\n",
       "    <tr>\n",
       "      <th>50%</th>\n",
       "      <td>44094454.00</td>\n",
       "      <td>100.00</td>\n",
       "    </tr>\n",
       "    <tr>\n",
       "      <th>75%</th>\n",
       "      <td>45020428.00</td>\n",
       "      <td>100.00</td>\n",
       "    </tr>\n",
       "    <tr>\n",
       "      <th>max</th>\n",
       "      <td>45190390.00</td>\n",
       "      <td>100.00</td>\n",
       "    </tr>\n",
       "  </tbody>\n",
       "</table>\n",
       "</div>"
      ],
      "text/plain": [
       "           workers  scores\n",
       "count        77.00   77.00\n",
       "mean   39883889.09   96.49\n",
       "std     8159923.44    7.39\n",
       "min     6342275.00   70.00\n",
       "25%    38198526.00  100.00\n",
       "50%    44094454.00  100.00\n",
       "75%    45020428.00  100.00\n",
       "max    45190390.00  100.00"
      ]
     },
     "execution_count": 31,
     "metadata": {},
     "output_type": "execute_result"
    }
   ],
   "source": [
    "pilot1_scores.describe().round(decimals=2)"
   ]
  },
  {
   "cell_type": "markdown",
   "metadata": {},
   "source": [
    "Looking at the table above, pilot 1 showed an average score of 96.49%, leaving not much room for improvement. We can also observe that the lowest score obtained in the sentiment analysis questions in Pilot 1 was 70% while a majority of the contributors actually scored everything correctly. **Immediately, we note that perhaps our questions are too easy--contributors do not need to even focus to get the questions right and thus the variance in our questions is diminished significantly.**"
   ]
  },
  {
   "cell_type": "code",
   "execution_count": 37,
   "metadata": {},
   "outputs": [
    {
     "data": {
      "text/html": [
       "<div>\n",
       "<style scoped>\n",
       "    .dataframe tbody tr th:only-of-type {\n",
       "        vertical-align: middle;\n",
       "    }\n",
       "\n",
       "    .dataframe tbody tr th {\n",
       "        vertical-align: top;\n",
       "    }\n",
       "\n",
       "    .dataframe thead th {\n",
       "        text-align: right;\n",
       "    }\n",
       "</style>\n",
       "<table border=\"1\" class=\"dataframe\">\n",
       "  <thead>\n",
       "    <tr style=\"text-align: right;\">\n",
       "      <th></th>\n",
       "      <th>total_q</th>\n",
       "      <th>attn_check_q</th>\n",
       "      <th>non_attn_check_q</th>\n",
       "    </tr>\n",
       "  </thead>\n",
       "  <tbody>\n",
       "    <tr>\n",
       "      <th>count</th>\n",
       "      <td>77.00</td>\n",
       "      <td>77.00</td>\n",
       "      <td>77.00</td>\n",
       "    </tr>\n",
       "    <tr>\n",
       "      <th>mean</th>\n",
       "      <td>9.87</td>\n",
       "      <td>5.97</td>\n",
       "      <td>3.90</td>\n",
       "    </tr>\n",
       "    <tr>\n",
       "      <th>std</th>\n",
       "      <td>0.80</td>\n",
       "      <td>0.16</td>\n",
       "      <td>0.64</td>\n",
       "    </tr>\n",
       "    <tr>\n",
       "      <th>min</th>\n",
       "      <td>5.00</td>\n",
       "      <td>5.00</td>\n",
       "      <td>0.00</td>\n",
       "    </tr>\n",
       "    <tr>\n",
       "      <th>25%</th>\n",
       "      <td>10.00</td>\n",
       "      <td>6.00</td>\n",
       "      <td>4.00</td>\n",
       "    </tr>\n",
       "    <tr>\n",
       "      <th>50%</th>\n",
       "      <td>10.00</td>\n",
       "      <td>6.00</td>\n",
       "      <td>4.00</td>\n",
       "    </tr>\n",
       "    <tr>\n",
       "      <th>75%</th>\n",
       "      <td>10.00</td>\n",
       "      <td>6.00</td>\n",
       "      <td>4.00</td>\n",
       "    </tr>\n",
       "    <tr>\n",
       "      <th>max</th>\n",
       "      <td>10.00</td>\n",
       "      <td>6.00</td>\n",
       "      <td>4.00</td>\n",
       "    </tr>\n",
       "  </tbody>\n",
       "</table>\n",
       "</div>"
      ],
      "text/plain": [
       "       total_q  attn_check_q  non_attn_check_q\n",
       "count    77.00         77.00             77.00\n",
       "mean      9.87          5.97              3.90\n",
       "std       0.80          0.16              0.64\n",
       "min       5.00          5.00              0.00\n",
       "25%      10.00          6.00              4.00\n",
       "50%      10.00          6.00              4.00\n",
       "75%      10.00          6.00              4.00\n",
       "max      10.00          6.00              4.00"
      ]
     },
     "execution_count": 37,
     "metadata": {},
     "output_type": "execute_result"
    }
   ],
   "source": [
    "# For each worker, tally up how many attention checks they received \n",
    "total_q = []\n",
    "compl_q = []\n",
    "noncompl_q = []\n",
    "for w in workers: \n",
    "    subdf = first_pilot[first_pilot['_worker_id']==w]\n",
    "    total_q.append(len(subdf))\n",
    "    compl_q.append(len(subdf[subdf['_golden']==True]))\n",
    "    noncompl_q.append(len(subdf[subdf['_golden']==False]))\n",
    "\n",
    "typesofq=pd.DataFrame([workers, total_q, compl_q, noncompl_q]).T \n",
    "typesofq.columns=['workers','total_q','attn_check_q','non_attn_check_q']\n",
    "typesofq[['total_q','attn_check_q','non_attn_check_q']].describe().round(decimals=2)"
   ]
  },
  {
   "cell_type": "markdown",
   "metadata": {},
   "source": [
    "Based on a quick tally of the types of questions that workers received, we also noticed that some workers received **ONLY** attention check questions and none of the regular sentiment analysis questions (see the minimum of 0 for the column 'non_attn_check_q', which is the total number of non attention check questions). \n",
    "\n",
    "Moreover, as seen below, almost everyone got the attention check question correct! Only 5 individuals answered attention check questions incorrectly (and even then, they got most of them right). "
   ]
  },
  {
   "cell_type": "code",
   "execution_count": 49,
   "metadata": {},
   "outputs": [
    {
     "data": {
      "text/html": [
       "<div>\n",
       "<style scoped>\n",
       "    .dataframe tbody tr th:only-of-type {\n",
       "        vertical-align: middle;\n",
       "    }\n",
       "\n",
       "    .dataframe tbody tr th {\n",
       "        vertical-align: top;\n",
       "    }\n",
       "\n",
       "    .dataframe thead th {\n",
       "        text-align: right;\n",
       "    }\n",
       "</style>\n",
       "<table border=\"1\" class=\"dataframe\">\n",
       "  <thead>\n",
       "    <tr style=\"text-align: right;\">\n",
       "      <th></th>\n",
       "      <th>workers</th>\n",
       "      <th>total_attncheck_q</th>\n",
       "      <th>correct_attncheck_q</th>\n",
       "    </tr>\n",
       "  </thead>\n",
       "  <tbody>\n",
       "    <tr>\n",
       "      <th>18</th>\n",
       "      <td>32671231</td>\n",
       "      <td>6</td>\n",
       "      <td>4</td>\n",
       "    </tr>\n",
       "    <tr>\n",
       "      <th>30</th>\n",
       "      <td>45184673</td>\n",
       "      <td>6</td>\n",
       "      <td>3</td>\n",
       "    </tr>\n",
       "    <tr>\n",
       "      <th>51</th>\n",
       "      <td>44592322</td>\n",
       "      <td>6</td>\n",
       "      <td>5</td>\n",
       "    </tr>\n",
       "    <tr>\n",
       "      <th>54</th>\n",
       "      <td>45189628</td>\n",
       "      <td>6</td>\n",
       "      <td>5</td>\n",
       "    </tr>\n",
       "    <tr>\n",
       "      <th>73</th>\n",
       "      <td>45113895</td>\n",
       "      <td>6</td>\n",
       "      <td>5</td>\n",
       "    </tr>\n",
       "  </tbody>\n",
       "</table>\n",
       "</div>"
      ],
      "text/plain": [
       "     workers  total_attncheck_q  correct_attncheck_q\n",
       "18  32671231                  6                    4\n",
       "30  45184673                  6                    3\n",
       "51  44592322                  6                    5\n",
       "54  45189628                  6                    5\n",
       "73  45113895                  6                    5"
      ]
     },
     "execution_count": 49,
     "metadata": {},
     "output_type": "execute_result"
    }
   ],
   "source": [
    "total_gold = []\n",
    "sum_gold = []\n",
    "for w in workers: \n",
    "    subdf = first_pilot[(first_pilot['_worker_id']==w) & (first_pilot['_golden']==True)][['_golden','label','please_select_the_sentiment_feeling_of_the_product_review']]\n",
    "    subdf['correct']=subdf['label']*subdf['please_select_the_sentiment_feeling_of_the_product_review']\n",
    "    total_gold.append(len(subdf[subdf['_golden']==True]))\n",
    "    sum_gold.append(sum(subdf['correct']))\n",
    "    \n",
    "attncheck_q=pd.DataFrame([workers, total_gold, sum_gold]).T\n",
    "attncheck_q.columns=['workers','total_attncheck_q','correct_attncheck_q'] \n",
    "\n",
    "attncheck_q[attncheck_q['correct_attncheck_q']<attncheck_q['total_attncheck_q']]\n",
    "    "
   ]
  },
  {
   "cell_type": "markdown",
   "metadata": {},
   "source": [
    "### 2.1.5 Lessons learnt\n",
    "\n",
    "From pilot 1, we learned the following: \n",
    "\n",
    "* **Time of launch affects the contributor pool and which part of the world they come from.**\n",
    "* Only some workers only received attention check questions and hence: \n",
    "    * For subsequent experiments, we randomized the units before uploading to the platform. \n",
    "    * We included attention check questions when calculating the scores for each contributor.\n",
    "* **Nearly everyone got the attention check question correct.** This could mean either (1) everyone read the instructions; (2) People somehow deduced that it was a positive experience when seeing a product review that mentioned a lion. **This forced us to rethink what an attention check should consist of. Primarily, we learned that our attention check--if any--should not have the chance of being left to subjective interpretations.** \n",
    "* **Our sentiment analysis questions were too easy, thus leaving almost no room for improvement using treatments.** "
   ]
  },
  {
   "cell_type": "markdown",
   "metadata": {},
   "source": [
    "## 2.2 Pilot 2 \n",
    "\n",
    "Motivation for Pilot 2: Given our lessons learned from pilot 1, we decided on using a different set of questions--this time, asking contributors to label whether there were images present in an image. We downloaded a set of images that varied in difficulty which also consisted of various animals in different environments. To mix up the images, we also included pictures of without animals. Examples of our images included snails, butterflies, chameleons, and leaves. \n",
    "\n",
    "Example instructions are depicted below, where again, we attempted to include an 'attention check' question for the contributors."
   ]
  },
  {
   "cell_type": "markdown",
   "metadata": {},
   "source": [
    "![Pilot 2 screenshot](./images/pilot2.png \"Pilot2\")\n"
   ]
  },
  {
   "cell_type": "code",
   "execution_count": 10,
   "metadata": {
    "hide_input": true
   },
   "outputs": [],
   "source": [
    "# Number of units launched\n",
    "nul2 = len(second_pilot._unit_id.unique())\n",
    "nur2 = len(second_pilot._worker_id.unique())"
   ]
  },
  {
   "cell_type": "markdown",
   "metadata": {
    "variables": {
     "nul2": {},
     "nur2": {}
    }
   },
   "source": [
    "*Quick summary of pilot 2:* \n",
    "\n",
    "\n",
    "* **Attention Check:** In order to check whether responders read the instructions we asked responders to choose **Yes** for a chameleon picture and write \"This is a lion\" in the text box that pops up. This particular attention check again seems counter-intuitive, but the intent was to see which contributors were truly paying attention and actually reading instructions to receive treatment. \n",
    "* **Number of units launched:** 108\n",
    "* **Total unique responders:** 34\n",
    "* **Launch date:** Wednesday, March 27, 2019\n",
    "* **Launch time:** 7pm\n",
    "* **Completion time:** 4 hours "
   ]
  },
  {
   "cell_type": "markdown",
   "metadata": {},
   "source": [
    "### 2.2.1 Data Collected\n",
    "\n",
    "The same sort of data is collected as in Pilot 1, as seen below. "
   ]
  },
  {
   "cell_type": "code",
   "execution_count": 11,
   "metadata": {
    "hide_input": true
   },
   "outputs": [
    {
     "data": {
      "text/html": [
       "<div>\n",
       "<style>\n",
       "    .dataframe thead tr:only-child th {\n",
       "        text-align: right;\n",
       "    }\n",
       "\n",
       "    .dataframe thead th {\n",
       "        text-align: left;\n",
       "    }\n",
       "\n",
       "    .dataframe tbody tr th {\n",
       "        vertical-align: top;\n",
       "    }\n",
       "</style>\n",
       "<table border=\"1\" class=\"dataframe\">\n",
       "  <thead>\n",
       "    <tr style=\"text-align: right;\">\n",
       "      <th></th>\n",
       "      <th>_unit_id</th>\n",
       "      <th>_created_at</th>\n",
       "      <th>_golden</th>\n",
       "      <th>_id</th>\n",
       "      <th>_missed</th>\n",
       "      <th>_started_at</th>\n",
       "      <th>_tainted</th>\n",
       "      <th>_channel</th>\n",
       "      <th>_trust</th>\n",
       "      <th>_worker_id</th>\n",
       "      <th>...</th>\n",
       "      <th>_region</th>\n",
       "      <th>_city</th>\n",
       "      <th>_ip</th>\n",
       "      <th>animal_present</th>\n",
       "      <th>animal_types</th>\n",
       "      <th>other_animal_type</th>\n",
       "      <th>animal_present_gold</th>\n",
       "      <th>animal_types_gold</th>\n",
       "      <th>image_url</th>\n",
       "      <th>other_animal_type_gold</th>\n",
       "    </tr>\n",
       "  </thead>\n",
       "  <tbody>\n",
       "    <tr>\n",
       "      <th>364</th>\n",
       "      <td>2220961025</td>\n",
       "      <td>3/27/2019 23:46:05</td>\n",
       "      <td>True</td>\n",
       "      <td>4666137441</td>\n",
       "      <td>NaN</td>\n",
       "      <td>3/27/2019 23:45:07</td>\n",
       "      <td>False</td>\n",
       "      <td>clixsense</td>\n",
       "      <td>1.0</td>\n",
       "      <td>44591122</td>\n",
       "      <td>...</td>\n",
       "      <td>NaN</td>\n",
       "      <td>NaN</td>\n",
       "      <td>94.131.215.9</td>\n",
       "      <td>yes</td>\n",
       "      <td>NaN</td>\n",
       "      <td>NaN</td>\n",
       "      <td>yes</td>\n",
       "      <td>NaN</td>\n",
       "      <td>https://i.imgur.com/BhjGxoc.png</td>\n",
       "      <td>NaN</td>\n",
       "    </tr>\n",
       "    <tr>\n",
       "      <th>489</th>\n",
       "      <td>2220962052</td>\n",
       "      <td>3/27/2019 23:46:05</td>\n",
       "      <td>True</td>\n",
       "      <td>4666137450</td>\n",
       "      <td>NaN</td>\n",
       "      <td>3/27/2019 23:45:07</td>\n",
       "      <td>False</td>\n",
       "      <td>clixsense</td>\n",
       "      <td>1.0</td>\n",
       "      <td>44591122</td>\n",
       "      <td>...</td>\n",
       "      <td>NaN</td>\n",
       "      <td>NaN</td>\n",
       "      <td>94.131.215.9</td>\n",
       "      <td>no</td>\n",
       "      <td>NaN</td>\n",
       "      <td>NaN</td>\n",
       "      <td>no</td>\n",
       "      <td>NaN</td>\n",
       "      <td>https://i.imgur.com/slPMbss.png</td>\n",
       "      <td>NaN</td>\n",
       "    </tr>\n",
       "    <tr>\n",
       "      <th>301</th>\n",
       "      <td>2220960834</td>\n",
       "      <td>3/27/2019 23:46:05</td>\n",
       "      <td>True</td>\n",
       "      <td>4666137452</td>\n",
       "      <td>NaN</td>\n",
       "      <td>3/27/2019 23:45:07</td>\n",
       "      <td>False</td>\n",
       "      <td>clixsense</td>\n",
       "      <td>1.0</td>\n",
       "      <td>44591122</td>\n",
       "      <td>...</td>\n",
       "      <td>NaN</td>\n",
       "      <td>NaN</td>\n",
       "      <td>94.131.215.9</td>\n",
       "      <td>yes</td>\n",
       "      <td>NaN</td>\n",
       "      <td>NaN</td>\n",
       "      <td>yes</td>\n",
       "      <td>NaN</td>\n",
       "      <td>https://i.imgur.com/X8UsZgs.png</td>\n",
       "      <td>NaN</td>\n",
       "    </tr>\n",
       "    <tr>\n",
       "      <th>332</th>\n",
       "      <td>2220960987</td>\n",
       "      <td>3/27/2019 23:46:05</td>\n",
       "      <td>True</td>\n",
       "      <td>4666137447</td>\n",
       "      <td>NaN</td>\n",
       "      <td>3/27/2019 23:45:07</td>\n",
       "      <td>False</td>\n",
       "      <td>clixsense</td>\n",
       "      <td>1.0</td>\n",
       "      <td>44591122</td>\n",
       "      <td>...</td>\n",
       "      <td>NaN</td>\n",
       "      <td>NaN</td>\n",
       "      <td>94.131.215.9</td>\n",
       "      <td>no</td>\n",
       "      <td>NaN</td>\n",
       "      <td>NaN</td>\n",
       "      <td>no</td>\n",
       "      <td>NaN</td>\n",
       "      <td>https://i.imgur.com/1q731DL.png</td>\n",
       "      <td>NaN</td>\n",
       "    </tr>\n",
       "    <tr>\n",
       "      <th>459</th>\n",
       "      <td>2220961402</td>\n",
       "      <td>3/27/2019 23:46:05</td>\n",
       "      <td>True</td>\n",
       "      <td>4666137444</td>\n",
       "      <td>NaN</td>\n",
       "      <td>3/27/2019 23:45:07</td>\n",
       "      <td>False</td>\n",
       "      <td>clixsense</td>\n",
       "      <td>1.0</td>\n",
       "      <td>44591122</td>\n",
       "      <td>...</td>\n",
       "      <td>NaN</td>\n",
       "      <td>NaN</td>\n",
       "      <td>94.131.215.9</td>\n",
       "      <td>yes</td>\n",
       "      <td>NaN</td>\n",
       "      <td>NaN</td>\n",
       "      <td>yes</td>\n",
       "      <td>NaN</td>\n",
       "      <td>https://i.imgur.com/SMlFTQ6.png</td>\n",
       "      <td>NaN</td>\n",
       "    </tr>\n",
       "  </tbody>\n",
       "</table>\n",
       "<p>5 rows × 21 columns</p>\n",
       "</div>"
      ],
      "text/plain": [
       "       _unit_id         _created_at  _golden         _id _missed  \\\n",
       "364  2220961025  3/27/2019 23:46:05     True  4666137441     NaN   \n",
       "489  2220962052  3/27/2019 23:46:05     True  4666137450     NaN   \n",
       "301  2220960834  3/27/2019 23:46:05     True  4666137452     NaN   \n",
       "332  2220960987  3/27/2019 23:46:05     True  4666137447     NaN   \n",
       "459  2220961402  3/27/2019 23:46:05     True  4666137444     NaN   \n",
       "\n",
       "            _started_at  _tainted   _channel  _trust  _worker_id  \\\n",
       "364  3/27/2019 23:45:07     False  clixsense     1.0    44591122   \n",
       "489  3/27/2019 23:45:07     False  clixsense     1.0    44591122   \n",
       "301  3/27/2019 23:45:07     False  clixsense     1.0    44591122   \n",
       "332  3/27/2019 23:45:07     False  clixsense     1.0    44591122   \n",
       "459  3/27/2019 23:45:07     False  clixsense     1.0    44591122   \n",
       "\n",
       "             ...           _region _city           _ip animal_present  \\\n",
       "364          ...               NaN   NaN  94.131.215.9            yes   \n",
       "489          ...               NaN   NaN  94.131.215.9             no   \n",
       "301          ...               NaN   NaN  94.131.215.9            yes   \n",
       "332          ...               NaN   NaN  94.131.215.9             no   \n",
       "459          ...               NaN   NaN  94.131.215.9            yes   \n",
       "\n",
       "    animal_types other_animal_type animal_present_gold animal_types_gold  \\\n",
       "364          NaN               NaN                 yes               NaN   \n",
       "489          NaN               NaN                  no               NaN   \n",
       "301          NaN               NaN                 yes               NaN   \n",
       "332          NaN               NaN                  no               NaN   \n",
       "459          NaN               NaN                 yes               NaN   \n",
       "\n",
       "                           image_url other_animal_type_gold  \n",
       "364  https://i.imgur.com/BhjGxoc.png                    NaN  \n",
       "489  https://i.imgur.com/slPMbss.png                    NaN  \n",
       "301  https://i.imgur.com/X8UsZgs.png                    NaN  \n",
       "332  https://i.imgur.com/1q731DL.png                    NaN  \n",
       "459  https://i.imgur.com/SMlFTQ6.png                    NaN  \n",
       "\n",
       "[5 rows x 21 columns]"
      ]
     },
     "execution_count": 11,
     "metadata": {},
     "output_type": "execute_result"
    }
   ],
   "source": [
    "second_pilot.sort_values('_started_at').head(5)"
   ]
  },
  {
   "cell_type": "markdown",
   "metadata": {},
   "source": [
    "### 2.2.3 Average response time\n",
    "\n",
    "We notice that the average time to respond per question was about 3 seconds higher than the average time to respond in pilot 1. This may be perhaps due to responders being forced to spend more time, possibly due to scrutinizing the image and also answering the attention check question. "
   ]
  },
  {
   "cell_type": "code",
   "execution_count": 12,
   "metadata": {
    "hide_input": true
   },
   "outputs": [
    {
     "data": {
      "text/html": [
       "<div>\n",
       "<style>\n",
       "    .dataframe thead tr:only-child th {\n",
       "        text-align: right;\n",
       "    }\n",
       "\n",
       "    .dataframe thead th {\n",
       "        text-align: left;\n",
       "    }\n",
       "\n",
       "    .dataframe tbody tr th {\n",
       "        vertical-align: top;\n",
       "    }\n",
       "</style>\n",
       "<table border=\"1\" class=\"dataframe\">\n",
       "  <thead>\n",
       "    <tr style=\"text-align: right;\">\n",
       "      <th></th>\n",
       "      <th>_time_to_respond</th>\n",
       "    </tr>\n",
       "    <tr>\n",
       "      <th>index</th>\n",
       "      <th></th>\n",
       "    </tr>\n",
       "  </thead>\n",
       "  <tbody>\n",
       "    <tr>\n",
       "      <th>min</th>\n",
       "      <td>0 days 00:00:02.400000</td>\n",
       "    </tr>\n",
       "    <tr>\n",
       "      <th>max</th>\n",
       "      <td>0 days 00:01:20</td>\n",
       "    </tr>\n",
       "    <tr>\n",
       "      <th>mean</th>\n",
       "      <td>0 days 00:00:16.027522</td>\n",
       "    </tr>\n",
       "  </tbody>\n",
       "</table>\n",
       "</div>"
      ],
      "text/plain": [
       "             _time_to_respond\n",
       "index                        \n",
       "min    0 days 00:00:02.400000\n",
       "max           0 days 00:01:20\n",
       "mean   0 days 00:00:16.027522"
      ]
     },
     "execution_count": 12,
     "metadata": {},
     "output_type": "execute_result"
    }
   ],
   "source": [
    "second_pilot['_time_to_respond'] = (second_pilot._created_at.apply(lambda x: datetime.strptime(x, \"%m/%d/%Y %H:%M:%S\"))-second_pilot._started_at.apply(lambda x: datetime.strptime(x, \"%m/%d/%Y %H:%M:%S\")))/5\n",
    "second_pilot['_time_to_respond'].describe().reset_index().set_index('index').loc[['min', 'max', 'mean']]"
   ]
  },
  {
   "cell_type": "markdown",
   "metadata": {},
   "source": [
    "### 2.2.4 Contributor Countries and Trust distribution"
   ]
  },
  {
   "cell_type": "code",
   "execution_count": 60,
   "metadata": {
    "hide_input": true
   },
   "outputs": [
    {
     "data": {
      "image/png": "[encoded data removed]",
      "text/plain": [
       "<matplotlib.figure.Figure at 0x117cc6f28>"
      ]
     },
     "metadata": {
      "needs_background": "light"
     },
     "output_type": "display_data"
    }
   ],
   "source": [
    "f, axes = plt.subplots(1, 2);\n",
    "f.set_figheight(5)\n",
    "f.set_figwidth(15)\n",
    "country_count  = second_pilot._country.value_counts()\n",
    "country_count = country_count[:10,]/first_pilot.shape[0]\n",
    "country_count.plot(kind='bar', ax=axes[0]);\n",
    "axes[0].set_title('Country distribution for \"Pilot 2\" study')\n",
    "axes[0].set_ylabel('% of Contributors')\n",
    "trust_per_worker  = second_pilot[['_trust', '_worker_id']].groupby('_worker_id').mean();\n",
    "trust_per_worker.plot(kind='hist', bins = 4, ax=axes[1]);\n",
    "axes[1].set_title('Trust distribution for \"Pilot 2\" study')\n",
    "plt.show()"
   ]
  },
  {
   "cell_type": "markdown",
   "metadata": {},
   "source": [
    "All of our contributors came from a total of 10 countries (some contributors chose not to disclose their region). We now see that the highest number of responders came from Egypt (25% of our responders were from Egypt."
   ]
  },
  {
   "cell_type": "markdown",
   "metadata": {},
   "source": [
    "We did note that the sample size of our second pilot was much smaller than our first pilot, partially due to cost. We also note that the trust distribution of our contributors in pilot 2 is much more widely spread compared to the trust distribution of contributors in pilot 1. In particular, we note that about 20% of the responders in pilot 2 lied below the 50% trust score. "
   ]
  },
  {
   "cell_type": "markdown",
   "metadata": {},
   "source": [
    "### 2.2.5 Pilot 1 vs Pilot 2: Agreement"
   ]
  },
  {
   "cell_type": "markdown",
   "metadata": {},
   "source": [
    "The images were downloaded from a third source and therefore we did not have answer labels available at the time of the second pilot. This unfortunately meant that we were unable to score our participants in pilot 2. We'd like to note that we had launched pilot 2 with the intention of solely seeing how contributors would perform with image categorization compared to sentiment analysis. In particular, we wanted to know if the images would generate higher variance amongst responders as opposed to the sentiment analysis where almost everyone got their answers correct. \n",
    "\n",
    "However, do keep in mind that Figure8 is a crowdsourcing platform that seeks to provide a final 'consensus' label (the majority label) for the questions you administer in a test. Each question's 'consensus' label is provided with an **'agreement' score**--essentially the ratio of contributors who labelled the questions and agreed with each other on the majority label vs contributors who did not agree with the majority label. \n",
    "\n",
    "In the code block below, we examine that the agreement distribution for pilot 1 was on average 94% while the agreement distribution for pilot 2 was on average almost 91%. There is also a larger standard deviation in agreement for pilot 2 (15.8%) in comparison to pilot 1 (12.5%). We also note that the 25th percentile of agreement scores for pilot 1 was already 100% while pilot 2's 25th percentile of agreement scores was at 87%. From this, we conclude that pilot 2's image cateogrization questions did induce higher variability amongst results for our contributors. "
   ]
  },
  {
   "cell_type": "code",
   "execution_count": 5,
   "metadata": {
    "hide_input": true
   },
   "outputs": [
    {
     "name": "stdout",
     "output_type": "stream",
     "text": [
      "First pilot - Normal questions agreement\n",
      "count    100.000000\n",
      "mean       0.943731\n",
      "std        0.125110\n",
      "min        0.647100\n",
      "25%        1.000000\n",
      "50%        1.000000\n",
      "75%        1.000000\n",
      "max        1.000000\n",
      "Name: please_select_the_sentiment_feeling_of_the_product_review:confidence, dtype: float64\n",
      "\n",
      "Second pilot - Normal questions agreement\n",
      "count    100.000000\n",
      "mean       0.908733\n",
      "std        0.158092\n",
      "min        0.529400\n",
      "25%        0.876075\n",
      "50%        1.000000\n",
      "75%        1.000000\n",
      "max        1.000000\n",
      "Name: animal_present:confidence, dtype: float64\n",
      "\n"
     ]
    }
   ],
   "source": [
    "first_pilot_md = pd.read_csv('first_pilot_metadata.csv')\n",
    "second_pilot_md = pd.read_csv('second_pilot_metadata.csv')\n",
    "print('First pilot - Normal questions agreement')\n",
    "print(first_pilot_md[first_pilot_md._golden == False]['please_select_the_sentiment_feeling_of_the_product_review:confidence'].describe())\n",
    "print()\n",
    "print('Second pilot - Normal questions agreement')\n",
    "print(second_pilot_md[second_pilot_md._golden == False]['animal_present:confidence'].describe())\n",
    "print()"
   ]
  },
  {
   "cell_type": "markdown",
   "metadata": {},
   "source": [
    "### 2.2.6 Attention checks amongst responders in Pilot 1 vs Pilot 2"
   ]
  },
  {
   "cell_type": "markdown",
   "metadata": {},
   "source": [
    "Finally, we examined the attention checks in terms of agreement in our 2 pilots. Given that our attention check's original intention was to just see if contributors were actually reading instructions, we needed to make sure that our attention check questions were easy enough to follow if contributors had just paid attention. "
   ]
  },
  {
   "cell_type": "code",
   "execution_count": 6,
   "metadata": {
    "hide_input": true
   },
   "outputs": [
    {
     "name": "stdout",
     "output_type": "stream",
     "text": [
      "First pilot - Attention check agreement\n",
      "count    13.000000\n",
      "mean      0.988431\n",
      "std       0.013470\n",
      "min       0.966400\n",
      "25%       0.979300\n",
      "50%       1.000000\n",
      "75%       1.000000\n",
      "max       1.000000\n",
      "Name: please_select_the_sentiment_feeling_of_the_product_review:confidence, dtype: float64\n",
      "\n",
      "Second pilot - Attention check agreement\n",
      "count    8.000000\n",
      "mean     0.956625\n",
      "std      0.043806\n",
      "min      0.865100\n",
      "25%      0.948000\n",
      "50%      0.956250\n",
      "75%      0.989800\n",
      "max      1.000000\n",
      "Name: animal_present:confidence, dtype: float64\n"
     ]
    }
   ],
   "source": [
    "print('First pilot - Attention check agreement')\n",
    "print(first_pilot_md[first_pilot_md._golden == True]['please_select_the_sentiment_feeling_of_the_product_review:confidence'].describe())\n",
    "print()\n",
    "print('Second pilot - Attention check agreement')\n",
    "print(second_pilot_md[second_pilot_md._golden == True]['animal_present:confidence'].describe())"
   ]
  },
  {
   "cell_type": "markdown",
   "metadata": {},
   "source": [
    "As expected, pilot 2's agreement scores had a much wider distribution compared to pilot 1's agreement scores. Some of this may be due to the smaller sample size in pilot 2, but we realized that pilot 2's attention check was harder and involved more steps compared to pilot 1. This concerned us, as we wanted an attention check that was not entirely brainless but also easy enough to answer given the contributor was paying attention to the instructions. **As a result, we learned to keep attention check questions simple in order to separate those who didn't read instructions apart from those who just found the attentio checks too complicated to answer.**"
   ]
  },
  {
   "cell_type": "markdown",
   "metadata": {},
   "source": [
    "# 3.0 Main Experimental Setup"
   ]
  },
  {
   "cell_type": "markdown",
   "metadata": {},
   "source": [
    "## 3.1 Lessons Learnt from Pilots 1 and 2"
   ]
  },
  {
   "cell_type": "markdown",
   "metadata": {},
   "source": [
    "From Pilots 1 and 2, we had the following takeaways: \n",
    "\n",
    "\n",
    "* Questions regarding **images and the subjects within images require more focus** from the contributor, thus allowing for more variation in scoring accuracy from contributors. \n",
    "* We chose images of animals as they **do not require any specific knowledge from a particular area of study** and involves **no subjectivity as was needed when tagging the sentiment.**  \n",
    "* We simplified our questions to reduce potential confusion from contributors. Namely, **we reduced answer choices to simply “Yes” or “No”**, and did not require any input from the contributor regarding the animals they see. \n"
   ]
  },
  {
   "cell_type": "markdown",
   "metadata": {},
   "source": [
    "## 3.2 Defining ATE"
   ]
  },
  {
   "cell_type": "markdown",
   "metadata": {},
   "source": [
    "The **outcome** that we are interested in observing is defined as **the percentage of number of questions that the contributor answered correctly.** \n",
    "\n",
    "\n",
    "\\begin{equation*}\n",
    "ATE = Y_1 - Y_0 \n",
    "\\end{equation*}\n",
    "\n",
    "\\begin{equation*}\n",
    "= \\frac{\\sum_i(percentage\\ of\\ correctly\\ answered\\ question\\ in\\ treatment)}{\\sum{subjects\\ in\\ treatment}} - \\frac{\\sum_i(percentage\\ of\\ correctly\\ answered\\ question\\ in\\ control)}{\\sum{subjects\\ in\\ control}} \n",
    "\\end{equation*}\n",
    "\n",
    "As Figure8 is a crowdsourcing platform that performs the service of obtaining labels, Figure8 releases a varying number of questions per contributor to get a ‘consensus’ label for the questions released for labelling. As test administrators, we are unable to bypass Figure8’s built-in feature; we are unable to specify a specific number of questions to be delegated out for each contributor. As a result, we do the best that we can and calculate the percentage of correctly answered questions out of all questions that the contributor received."
   ]
  },
  {
   "cell_type": "markdown",
   "metadata": {},
   "source": [
    "## 3.3 Defining Treatments"
   ]
  },
  {
   "cell_type": "markdown",
   "metadata": {},
   "source": [
    "**Assigned treatment:** is the set of instructions that the contributor will see depending on the specific test that they clicked on. We provide images of the treatment instructions in subsequent sections below, but the main treatment groups we decided upon were: \n",
    "* **Control:** Our control group that receives the basic set of instructions asking contributors to view the image and label whether animals are present or not. The attention check question is also placed in the instructions. \n",
    "* **Public Good:** A treatment group that receives the basic set of instructions asking contributors to view the image and label whether animals are present or not. In addition, this treatment group receives a message about contributing towards the better good (\"You will be helping us label images for better accuracy in training machine learning models that will be used by many other people\"). The attention check question is also placed in the instructions. \n",
    "* **Evaluation:** A treatment group that receives the basic set of instructions asking contributors to view the image and label whether animals are present or not. In addition, this treatment group receives a message about being evaluated by their performance (\"You will be evaluated based on the accuracy of your answers\"). The attention check question is also placed in the instructions. \n",
    "\n",
    "Across all treatments, it should be noted that typeset was kept consistent throughout. Font size and color, which were changed intentionally to draw attention, were kept consistent across all treatments and control. \n",
    "\n",
    "**Random assignment**: Figure8 allows test administrators to release tests to specific channels (i.e. specific countries or regions for particular jobs). Contributors simly take tests as they appear available, which depends on the day of the week and also time of day.\n",
    "* **Random assignment thus was based on day and not at the individual level.** As we have no way of controlling for who gets what treatment, we are unable to randomize which treatment the contributor will receive. **We therefore apply assignment to days, under the assumption that days are independent from contributors' performance (potential outcomes)**; it should not be that any particular day will provide to you individuals that are significantly different from contributors on another day. We will provide summary statistics to demonstrate the various types of individuals we got in each treatment to show that these crowds are more or less similar. \n",
    "* We did not restrict our experiment to any particular channels. To avoid 'cheating' or 'learning' of the questions that could ruin our treatment effects,  we released the treatment tests in the following order: (1) control (2) Public good (3) evaluation on separate days. **We also created a test bank of 232 pre-labelled images that Figure8 could release at random to contributors as they took the test, thus lowering the chances that a contributor would see the same questions even if they happened to take more than 1 test** (we mention the possibility of repeaters in a subsequent section and the consequences). \n",
    "* Ideally the best protocol to follow would have been to use a randomized number generator for the day of the week and select the days at random to release the tests, but due to time restrictions for the end of the W241 class, we were unable to perform such a protocol. The best we could do was allow the control version to be released first, followed by the two treatment branches of different days. \n",
    "* We realize that there may be potential repeaters (contributors who take more than 1 test). Unfortunately, there is no setting in Figure8 to prevent contributors from taking multiple tests. We are able to identify workers based on their contributor IDs, and we discuss the impact of keeping repeaters in a subsequent section. \n",
    "\n",
    "**Actual treatment received:** is the contributor reading the instructions to receive the treatment (which we want to see the effect of). \n",
    "\n",
    "In reality, we are unable to tell if a contributor actually reads the instructions or not. Therefore, to check whether contributors are reading the instructions at all, we asked them to choose \"No\" as an indication that they see no animal when they see the picture of a snail. We do realize, however, that even if a contributor reads the treatment instructions that they are assigned to, it could be possible that the contributor still answers the attention check incorrectly despite having received treatment. **It is very possible that contributors answered the attention checks correctly at random, thus making it rather hard to distinguish if people actually read instructions even if they got the attention check right.** We elaborate on this more in the assumptions (Section 3.7 Exclusion Restriction), but this particular realization influenced our decision to stick with a simple ITT analysis. "
   ]
  },
  {
   "cell_type": "markdown",
   "metadata": {},
   "source": [
    "## 3.4 Example Instructions for Control Group"
   ]
  },
  {
   "cell_type": "markdown",
   "metadata": {},
   "source": [
    "![Control screenshot](./images/control.png \"Control\")"
   ]
  },
  {
   "cell_type": "markdown",
   "metadata": {},
   "source": [
    "## 3.5 Example Instructions for Public Good Treatment"
   ]
  },
  {
   "cell_type": "markdown",
   "metadata": {},
   "source": [
    "![PublicGood 2 screenshot](./images/publicgood.png \"Public Good\")"
   ]
  },
  {
   "cell_type": "markdown",
   "metadata": {},
   "source": [
    "## 3.6 Example Instructions for Evaluation Treatment"
   ]
  },
  {
   "cell_type": "markdown",
   "metadata": {},
   "source": [
    "![Evaluation screenshot](./images/evaluation.png \"Evaluation\")"
   ]
  },
  {
   "cell_type": "markdown",
   "metadata": {},
   "source": [
    "# 3.7 Assumptions "
   ]
  },
  {
   "cell_type": "markdown",
   "metadata": {},
   "source": [
    "## 3.7.1 Exclusion restriction"
   ]
  },
  {
   "cell_type": "markdown",
   "metadata": {},
   "source": [
    "On Green and Gerber’s Field Experiments p. 156, the exclusion restriction is defined as **“A subject’s treatment assignment does not matter once we account for whether a subject is actually treated”.**\n",
    "\n",
    "An unanticipated obstacle occurred during our experiment with Figure8 that we had not realized would happen. Previous pilot studies had a fairly small test bank (no more than 50 questions), and therefore the attention check was made available to everyone. **Unfortunately, with 232 questions, Figure 8 did not provide the attention check to all contributors in all three of our experiment tests that were administered.** This begs the question: do we assume that only those who answered the attention check correctly are ones who got the treatment effect of our instructions? Would we label those who answered the attention check correctly as 'compliers' and those who answered the attention check incorrectly as 'noncompliers'? \n",
    "\n",
    "This particular exclusion restriction assumption would assume that our treatment instructions delivered its effect only through the pathway of people answering the attention check correctly. **We do not believe this to be true--as mentioned earlier, it could be that a contributor read the instructions and still managed to answer the attention check incorrectly. We have no way of proving that all noncompliers were NOT influenced by the treatment, and neither do we have any way of proving that all compliers WERE influenced by the treatment.**\n",
    "\n",
    "As a result, we chose to present our results in a simple ITT analysis. We at least know that all contributors got some form of treatment, even if we do not know whether everyone actually read the relevant treatment instructions. "
   ]
  },
  {
   "cell_type": "markdown",
   "metadata": {},
   "source": [
    "## 3.7.2 Non interference"
   ]
  },
  {
   "cell_type": "markdown",
   "metadata": {},
   "source": [
    "On Green and Gerber’s Field Experiments p. 155, the non interference assumption is defined as **“potential outcomes for each individual are unaffected by assignment or treatment of any other individuals”.** \n",
    "\n",
    "Non-interference should not be a problem for our experiment, as **contributors cannot “discuss” answers or the tests themselves, unless they happen to know each other.** Technically speaking, we won’t know if contributors are actually in communication with each other, but considering how diverse our population is (see section 5 for the number of countries that the individuals are from), it should be that non-interference is a fairly minimal (if any) problem.  \n"
   ]
  },
  {
   "cell_type": "markdown",
   "metadata": {},
   "source": [
    "## 3.7.3 Non persistence"
   ]
  },
  {
   "cell_type": "markdown",
   "metadata": {},
   "source": [
    "It should be noted that there is no mechanism on Figure8 that blocks contributors from taking more than 1 test; they are free to select any test that is released on a given day. \n",
    "\n",
    "Given that the **tests are fairly short**, and **the average time per test is 13-17 seconds** , we assume non-persistence for contributors who take multiple tests. In other words, there should be **no lingering effect amongst contributors** who take more than 1 test. In an attempt to avoid persistence across tests for repeating contributors, we made sure to space out the 3 experiments throughout the week to avoid contributors possibly ‘remembering’ what the questions were. Furthermore, we provided 232 questions in a test bank; Figure8 picks a subset of questions for the contributor, and thus there is a very high chance of selecting a completely different set of questions for the contributor even if they took more than 1 test. \n"
   ]
  },
  {
   "cell_type": "markdown",
   "metadata": {},
   "source": [
    "# 3.8 Results"
   ]
  },
  {
   "cell_type": "markdown",
   "metadata": {},
   "source": [
    "We can see from the chart below (Table 1: Summary statistics for All contributors) that out of 283 total contributors, only 134 contributors received the compliance question. **Roughly half of the people in each treatment group received the compliance question.**"
   ]
  },
  {
   "cell_type": "markdown",
   "metadata": {},
   "source": [
    "## 3.8.1 Summary statistics for All contributors"
   ]
  },
  {
   "cell_type": "markdown",
   "metadata": {},
   "source": [
    "**Table 1:**\n",
    "All R code to create metrics for this table will be in the appendix (Section...) "
   ]
  },
  {
   "cell_type": "markdown",
   "metadata": {},
   "source": [
    "![Result screenshot](./images/result.png \"Result\")"
   ]
  },
  {
   "cell_type": "markdown",
   "metadata": {},
   "source": [
    "We faced a dilemma when deciding how to run analysis and explore our data and results. For those who did not get the compliance question, we had no way of knowing how these contributors would have behaved if they were provided the compliance questions. Essentially, we would never know if these contributors who never received the compliance questions would have truly complied (compliers) or not (never-takers). \n",
    "\n",
    "**The biggest fear would be that those who did not get the compliance questions were somehow different in potential outcomes compared to those who did get compliance questions, thus potentially biasing our results if we were to drop them from our analysis (bias due to attrition)** Therefore, we observe the contributors' trust scores--a metric that Figure8 assigns to each contributor as they take tests. We do not know how these trust scores are calculated, but they vary from 0 to 1, with 1 being the highest possible indication of how 'trustworthy' a contributor is (i.e. they will not be the type of contributor that randomly clicks answers just to get payment. We chose to observe the distribution of trust scores amongst those who did and did not get compliance questions to see if Figure8 was intentionally (or unintentionally) giving specific types of people compliance questions. \n",
    "\n",
    "From Table 1, we can observe that the average and standard deviation of the trust scores for those who did and did not get compliance questions ('Average Trust' column, with the standard deviations displayed below). **In general, the average and standard deviations within each experiments do not look to differ significantly.**\n",
    "\n",
    "We can display a histogram of the trust scores amongst those who did/did not receive compliance questions as well (see histogram below). **In general, it looks like the distribution of the trust scores among these 2 groups is fairly similar. There should be no selection bias amongst those who did or did not receive the compliance questions.** "
   ]
  },
  {
   "cell_type": "markdown",
   "metadata": {},
   "source": [
    "Another interesting point of note is that out those who did receive compliance questions within each of our 3 experiments, about **75%** of them did comply (they answered the compliance instruction correctly). "
   ]
  },
  {
   "cell_type": "markdown",
   "metadata": {},
   "source": [
    "## Summary statistics for Non repeaters"
   ]
  },
  {
   "cell_type": "markdown",
   "metadata": {},
   "source": [
    "Another obstacle that appeared within our analysis resulted **repeaters--contributors who took more than 1 test.** Unfortunately, Figure8 does not have a setting that prevents repeat contributors. "
   ]
  },
  {
   "cell_type": "markdown",
   "metadata": {},
   "source": [
    "**Table 2**: All R code to produce summary statistics for this table can be found in appendix section (). "
   ]
  },
  {
   "cell_type": "markdown",
   "metadata": {},
   "source": [
    "![Result screenshot](./images/nonrepeaters_summary.png \"Nonrepeaters\")"
   ]
  },
  {
   "cell_type": "markdown",
   "metadata": {},
   "source": [
    "In Table 2 above, we replicate the same summary statistics as in Table 1, but this time we drop repeaters.\n",
    "\n",
    "When tabulating repeaters, we noticed the following: \n",
    "* 10 contributors took both the control and public good tests. \n",
    "* 7 contributors took both the control and evaluation tests. \n",
    "* 23 contributors took both the public good and evaluation tests. \n",
    "\n",
    "This led to **40 repeaters total.** \n",
    "\n",
    "A possible concern would be that these repeaters could have 'learned' the test questions, and therefore improved their scores. We would argue **non-persistence**, as based on the earlier assumptions in this report. **In particular, it is highly unlikely that a repeating contributor would get the exact same set of questions as their previous test given that we provided such a large test bank of 232 questions. Moreover, as mentioned earlier, given that each test was fairly short (less than 1 minute), it is highly unlikely that there is any lingering effect amongst contributors who take more than 1 test.**\n",
    "\n",
    "Furthermore, for non-persistence, we would like to highlight the following: \n",
    "* The number of people (even after dropping the repeaters) who received compliance questions still stays roughly around 50%.\n",
    "* Average scores and their standard deviations in general do not seem to change much across all 3 experiments even after dropping the repeaters. \n",
    "* On average, we still see a 70% compliance rate amongst those who did receive compliance questions. We do see some fluctuations (i.e. in the evaluation group, we see 20 out of the 28 people who received compliance questions answer the compliance question correctly, thus resulting in a 71% compliance rate). However, this change is certainly fairly small. \n",
    "* The biggest portion of repeated contributors came from those who repeated both the public good and evaluation tests (both are treatment groups). If these contributors did \"learn\" from their previous test experience, we would expect repeaters' scores to be higher. By dropping the repeaters to produce the summary stats in Table 2 above, we would expect that the average scores for the public good and evaluation group to be lower than Table 1. We can see, however, that after dropping the repeaters, average scores did not show particular declines across the board for those who did or did not get compliance questions in the public good and evaluation groups. \n",
    "\n",
    "Finally, we also check if there is selection bias amongst those who are repeaters. A natural worry is that repeaters are perhaps 'greedy' for money and therefore are not exactly trustworthy contributors. Again, we examine below the histogram of the distribution of trust within our sample after dropping repeaters. Thankfully, it does not look like repeaters came from any particular strata of 'trustworthy' contributors. "
   ]
  },
  {
   "cell_type": "markdown",
   "metadata": {},
   "source": [
    "![Result screenshot](./images/trust_receivedandnotreceivedq_nonrepeaters.png \"Nonrepeaters\")"
   ]
  },
  {
   "cell_type": "markdown",
   "metadata": {},
   "source": [
    " "
   ]
  },
  {
   "cell_type": "markdown",
   "metadata": {},
   "source": [
    "# Caveats "
   ]
  },
  {
   "cell_type": "markdown",
   "metadata": {},
   "source": [
    "* English is not a native language for the contributors \n",
    "* Time of day can affect treatment effect. Based on time of day whe nthe test was released, this could change which countries' contributors are coming from. \n",
    "* Our definition of 'compliance' was based on answering a compliance question incorrectly or correctly. We realize that this is a \"proxy\" of knowing whether the contributor read the instructions (and thus received the treatment) or not. Understanding the instructions, however, is a completely different story (and thus may have implicated whether a contributor responded to the compliance question correctly or not. Moreover, it is entirely possible that someone answered the compliance question wrong, but continued to answer all other questions attentively. "
   ]
  },
  {
   "cell_type": "markdown",
   "metadata": {},
   "source": [
    "# Conclusion "
   ]
  },
  {
   "cell_type": "markdown",
   "metadata": {},
   "source": [
    "* It is difficult to encourage people to read instructions \n",
    "* We are unable to determine any significant effects from the 2 treatments, suggesting that other than financial incentives, it is difficult to encourage contributors to try harder. \n",
    "* On average, it seems like contributors in treatment groups scored lower than control. This possibly suggests that treatment may have confused contributors (i.e. perhaps instructions made the contributors nervous, and hence they made more mistakes). "
   ]
  }
 ],
 "metadata": {
  "kernelspec": {
   "display_name": "Python 3",
   "language": "python",
   "name": "python3"
  },
  "language_info": {
   "codemirror_mode": {
    "name": "ipython",
    "version": 3
   },
   "file_extension": ".py",
   "mimetype": "text/x-python",
   "name": "python",
   "nbconvert_exporter": "python",
   "pygments_lexer": "ipython3",
   "version": "3.7.2"
  },
  "latex_envs": {
   "LaTeX_envs_menu_present": true,
   "autoclose": false,
   "autocomplete": true,
   "bibliofile": "biblio.bib",
   "cite_by": "apalike",
   "current_citInitial": 1,
   "eqLabelWithNumbers": true,
   "eqNumInitial": 1,
   "hotkeys": {
    "equation": "Ctrl-E",
    "itemize": "Ctrl-I"
   },
   "labels_anchors": true,
   "latex_user_defs": false,
   "report_style_numbering": false,
   "user_envs_cfg": false
  },
  "toc": {
   "base_numbering": 1,
   "nav_menu": {},
   "number_sections": true,
   "sideBar": true,
   "skip_h1_title": false,
   "title_cell": "Table of Contents",
   "title_sidebar": "W241 - Final Project Presentation",
   "toc_cell": false,
   "toc_position": {
    "height": "calc(100% - 180px)",
    "left": "10px",
    "top": "150px",
    "width": "319.08px"
   },
   "toc_section_display": true,
   "toc_window_display": true
  },
  "varInspector": {
   "cols": {
    "lenName": 16,
    "lenType": 16,
    "lenVar": 40
   },
   "kernels_config": {
    "python": {
     "delete_cmd_postfix": "",
     "delete_cmd_prefix": "del ",
     "library": "var_list.py",
     "varRefreshCmd": "print(var_dic_list())"
    },
    "r": {
     "delete_cmd_postfix": ") ",
     "delete_cmd_prefix": "rm(",
     "library": "var_list.r",
     "varRefreshCmd": "cat(var_dic_list()) "
    }
   },
   "types_to_exclude": [
    "module",
    "function",
    "builtin_function_or_method",
    "instance",
    "_Feature"
   ],
   "window_display": false
  }
 },
 "nbformat": 4,
 "nbformat_minor": 2
}
